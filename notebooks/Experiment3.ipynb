{
 "cells": [
  {
   "cell_type": "code",
   "execution_count": 5,
   "id": "ee0b957c",
   "metadata": {},
   "outputs": [],
   "source": [
    "import mlflow\n",
    "import mlflow.sklearn\n",
    "import logging\n",
    "import sys\n",
    "import time\n",
    "import numpy as np\n",
    "import scipy\n",
    "import matplotlib.pyplot as plt\n",
    "import seaborn as sns\n",
    "import pandas as pd\n",
    "import nltk\n",
    "from nltk.corpus import stopwords\n",
    "from nltk.stem import WordNetLemmatizer\n",
    "import re\n",
    "import os\n",
    "import sys\n",
    "import string\n",
    "\n",
    "from sklearn.model_selection import train_test_split, GridSearchCV\n",
    "from sklearn.metrics import accuracy_score, precision_score, recall_score, f1_score, confusion_matrix, classification_report\n",
    "from sklearn.feature_extraction.text import CountVectorizer, TfidfVectorizer"
   ]
  },
  {
   "cell_type": "code",
   "execution_count": 6,
   "id": "c5951632",
   "metadata": {},
   "outputs": [],
   "source": [
    "df = pd.read_csv('IMDB.csv')"
   ]
  },
  {
   "cell_type": "code",
   "execution_count": 7,
   "id": "479e7539",
   "metadata": {},
   "outputs": [],
   "source": [
    "def lemmatization(text):\n",
    "    \"\"\"Lemmatize the text.\"\"\"\n",
    "    lemmatizer = WordNetLemmatizer()\n",
    "    text = text.split()\n",
    "    text = [lemmatizer.lemmatize(word) for word in text]\n",
    "    return \" \".join(text)\n",
    "\n",
    "def remove_stop_words(text):\n",
    "    \"\"\"Remove stop words from the text.\"\"\"\n",
    "    stop_words = set(stopwords.words(\"english\"))\n",
    "    text = [word for word in str(text).split() if word not in stop_words]\n",
    "    return \" \".join(text)\n",
    "\n",
    "def removing_numbers(text):\n",
    "    \"\"\"Remove numbers from the text.\"\"\"\n",
    "    text = ''.join([char for char in text if not char.isdigit()])\n",
    "    return text\n",
    "\n",
    "def lower_case(text):\n",
    "    \"\"\"Convert text to lower case.\"\"\"\n",
    "    text = text.split()\n",
    "    text = [word.lower() for word in text]\n",
    "    return \" \".join(text)\n",
    "\n",
    "def removing_punctuations(text):\n",
    "    \"\"\"Remove punctuations from the text.\"\"\"\n",
    "    text = re.sub('[%s]' % re.escape(string.punctuation), ' ', text)\n",
    "    text = text.replace('؛', \"\")\n",
    "    text = re.sub('\\s+', ' ', text).strip()\n",
    "    return text\n",
    "\n",
    "def removing_urls(text):\n",
    "    \"\"\"Remove URLs from the text.\"\"\"\n",
    "    url_pattern = re.compile(r'https?://\\S+|www\\.\\S+')\n",
    "    return url_pattern.sub(r'', text)\n",
    "\n",
    "def normalize_text(df):\n",
    "    \"\"\"Normalize the text data.\"\"\"\n",
    "    try:\n",
    "        df['review'] = df['review'].apply(lower_case)\n",
    "        df['review'] = df['review'].apply(remove_stop_words)\n",
    "        df['review'] = df['review'].apply(removing_numbers)\n",
    "        df['review'] = df['review'].apply(removing_punctuations)\n",
    "        df['review'] = df['review'].apply(removing_urls)\n",
    "        df['review'] = df['review'].apply(lemmatization)\n",
    "        return df\n",
    "    except Exception as e:\n",
    "        print(f'Error during text normalization: {e}')\n",
    "        raise\n"
   ]
  },
  {
   "cell_type": "code",
   "execution_count": 8,
   "id": "ef221bda",
   "metadata": {},
   "outputs": [
    {
     "name": "stderr",
     "output_type": "stream",
     "text": [
      "[nltk_data] Downloading package wordnet to\n",
      "[nltk_data]     C:\\Users\\DELL\\AppData\\Roaming\\nltk_data...\n",
      "[nltk_data]   Package wordnet is already up-to-date!\n"
     ]
    },
    {
     "data": {
      "text/html": [
       "<div>\n",
       "<style scoped>\n",
       "    .dataframe tbody tr th:only-of-type {\n",
       "        vertical-align: middle;\n",
       "    }\n",
       "\n",
       "    .dataframe tbody tr th {\n",
       "        vertical-align: top;\n",
       "    }\n",
       "\n",
       "    .dataframe thead th {\n",
       "        text-align: right;\n",
       "    }\n",
       "</style>\n",
       "<table border=\"1\" class=\"dataframe\">\n",
       "  <thead>\n",
       "    <tr style=\"text-align: right;\">\n",
       "      <th></th>\n",
       "      <th>review</th>\n",
       "      <th>sentiment</th>\n",
       "    </tr>\n",
       "  </thead>\n",
       "  <tbody>\n",
       "    <tr>\n",
       "      <th>0</th>\n",
       "      <td>film version sandra bernhard s one woman off b...</td>\n",
       "      <td>negative</td>\n",
       "    </tr>\n",
       "    <tr>\n",
       "      <th>1</th>\n",
       "      <td>switched from cable whim treated quite surpris...</td>\n",
       "      <td>positive</td>\n",
       "    </tr>\n",
       "    <tr>\n",
       "      <th>2</th>\n",
       "      <td>plot film contains hole could drive massive tr...</td>\n",
       "      <td>negative</td>\n",
       "    </tr>\n",
       "    <tr>\n",
       "      <th>3</th>\n",
       "      <td>amusing humor fall flat decent acting quite at...</td>\n",
       "      <td>negative</td>\n",
       "    </tr>\n",
       "    <tr>\n",
       "      <th>4</th>\n",
       "      <td>say movie terrible good two day earlier watche...</td>\n",
       "      <td>negative</td>\n",
       "    </tr>\n",
       "  </tbody>\n",
       "</table>\n",
       "</div>"
      ],
      "text/plain": [
       "                                              review sentiment\n",
       "0  film version sandra bernhard s one woman off b...  negative\n",
       "1  switched from cable whim treated quite surpris...  positive\n",
       "2  plot film contains hole could drive massive tr...  negative\n",
       "3  amusing humor fall flat decent acting quite at...  negative\n",
       "4  say movie terrible good two day earlier watche...  negative"
      ]
     },
     "execution_count": 8,
     "metadata": {},
     "output_type": "execute_result"
    }
   ],
   "source": [
    "nltk.download('wordnet')\n",
    "df = normalize_text(df)\n",
    "df.head()"
   ]
  },
  {
   "cell_type": "code",
   "execution_count": 9,
   "id": "9dceee3b",
   "metadata": {},
   "outputs": [
    {
     "data": {
      "text/html": [
       "<div>\n",
       "<style scoped>\n",
       "    .dataframe tbody tr th:only-of-type {\n",
       "        vertical-align: middle;\n",
       "    }\n",
       "\n",
       "    .dataframe tbody tr th {\n",
       "        vertical-align: top;\n",
       "    }\n",
       "\n",
       "    .dataframe thead th {\n",
       "        text-align: right;\n",
       "    }\n",
       "</style>\n",
       "<table border=\"1\" class=\"dataframe\">\n",
       "  <thead>\n",
       "    <tr style=\"text-align: right;\">\n",
       "      <th></th>\n",
       "      <th>review</th>\n",
       "      <th>sentiment</th>\n",
       "    </tr>\n",
       "  </thead>\n",
       "  <tbody>\n",
       "    <tr>\n",
       "      <th>0</th>\n",
       "      <td>film version sandra bernhard s one woman off b...</td>\n",
       "      <td>0</td>\n",
       "    </tr>\n",
       "    <tr>\n",
       "      <th>1</th>\n",
       "      <td>switched from cable whim treated quite surpris...</td>\n",
       "      <td>1</td>\n",
       "    </tr>\n",
       "    <tr>\n",
       "      <th>2</th>\n",
       "      <td>plot film contains hole could drive massive tr...</td>\n",
       "      <td>0</td>\n",
       "    </tr>\n",
       "    <tr>\n",
       "      <th>3</th>\n",
       "      <td>amusing humor fall flat decent acting quite at...</td>\n",
       "      <td>0</td>\n",
       "    </tr>\n",
       "    <tr>\n",
       "      <th>4</th>\n",
       "      <td>say movie terrible good two day earlier watche...</td>\n",
       "      <td>0</td>\n",
       "    </tr>\n",
       "  </tbody>\n",
       "</table>\n",
       "</div>"
      ],
      "text/plain": [
       "                                              review  sentiment\n",
       "0  film version sandra bernhard s one woman off b...          0\n",
       "1  switched from cable whim treated quite surpris...          1\n",
       "2  plot film contains hole could drive massive tr...          0\n",
       "3  amusing humor fall flat decent acting quite at...          0\n",
       "4  say movie terrible good two day earlier watche...          0"
      ]
     },
     "execution_count": 9,
     "metadata": {},
     "output_type": "execute_result"
    }
   ],
   "source": [
    "df['sentiment'] = df['sentiment'].map({'positive':1, 'negative':0})\n",
    "df.head()"
   ]
  },
  {
   "cell_type": "code",
   "execution_count": 10,
   "id": "f138a186",
   "metadata": {},
   "outputs": [
    {
     "data": {
      "text/plain": [
       "review       0\n",
       "sentiment    0\n",
       "dtype: int64"
      ]
     },
     "execution_count": 10,
     "metadata": {},
     "output_type": "execute_result"
    }
   ],
   "source": [
    "df.isnull().sum()"
   ]
  },
  {
   "cell_type": "code",
   "execution_count": 11,
   "id": "80666a79",
   "metadata": {},
   "outputs": [],
   "source": [
    "X = df['review']\n",
    "y = df['sentiment']"
   ]
  },
  {
   "cell_type": "code",
   "execution_count": 12,
   "id": "b33b29c5",
   "metadata": {},
   "outputs": [
    {
     "data": {
      "text/html": [
       "<pre style=\"white-space:pre;overflow-x:auto;line-height:normal;font-family:Menlo,'DejaVu Sans Mono',consolas,'Courier New',monospace\">Accessing as Jugal-lachhwani\n",
       "</pre>\n"
      ],
      "text/plain": [
       "Accessing as Jugal-lachhwani\n"
      ]
     },
     "metadata": {},
     "output_type": "display_data"
    },
    {
     "data": {
      "text/html": [
       "<pre style=\"white-space:pre;overflow-x:auto;line-height:normal;font-family:Menlo,'DejaVu Sans Mono',consolas,'Courier New',monospace\">Initialized MLflow to track repo <span style=\"color: #008000; text-decoration-color: #008000\">\"Jugal-lachhwani/Data-Capstone-Project\"</span>\n",
       "</pre>\n"
      ],
      "text/plain": [
       "Initialized MLflow to track repo \u001b[32m\"Jugal-lachhwani/Data-Capstone-Project\"\u001b[0m\n"
      ]
     },
     "metadata": {},
     "output_type": "display_data"
    },
    {
     "data": {
      "text/html": [
       "<pre style=\"white-space:pre;overflow-x:auto;line-height:normal;font-family:Menlo,'DejaVu Sans Mono',consolas,'Courier New',monospace\">Repository Jugal-lachhwani/Data-Capstone-Project initialized!\n",
       "</pre>\n"
      ],
      "text/plain": [
       "Repository Jugal-lachhwani/Data-Capstone-Project initialized!\n"
      ]
     },
     "metadata": {},
     "output_type": "display_data"
    }
   ],
   "source": [
    "import dagshub\n",
    "mlflow.set_tracking_uri(\"https://dagshub.com/Jugal-lachhwani/Data-Capstone-Project.mlflow\")\n",
    "dagshub.init(repo_owner='Jugal-lachhwani', repo_name='Data-Capstone-Project', mlflow=True)"
   ]
  },
  {
   "cell_type": "code",
   "execution_count": 13,
   "id": "0beed2a1",
   "metadata": {},
   "outputs": [
    {
     "name": "stderr",
     "output_type": "stream",
     "text": [
      "2025/10/22 21:54:58 INFO mlflow.tracking.fluent: Experiment with name 'IMDB_2st_MultinomialNB' does not exist. Creating a new experiment.\n"
     ]
    },
    {
     "data": {
      "text/plain": [
       "<Experiment: artifact_location='mlflow-artifacts:/8ac769adf2f74452989ae0dc6b3fe603', creation_time=1761150297610, experiment_id='4', last_update_time=1761150297610, lifecycle_stage='active', name='IMDB_2st_MultinomialNB', tags={}>"
      ]
     },
     "execution_count": 13,
     "metadata": {},
     "output_type": "execute_result"
    }
   ],
   "source": [
    "mlflow.set_experiment('IMDB_2st_MultinomialNB')"
   ]
  },
  {
   "cell_type": "code",
   "execution_count": null,
   "id": "65eeb789",
   "metadata": {},
   "outputs": [
    {
     "name": "stdout",
     "output_type": "stream",
     "text": [
      "2025-10-22 21:55:00,693 - INFO - 🔹 Using Vectorizer: CountVectorizer\n",
      "Fitting 3 folds for each of 60 candidates, totalling 180 fits\n"
     ]
    },
    {
     "name": "stderr",
     "output_type": "stream",
     "text": [
      "2025/10/22 21:55:32 INFO mlflow.tracking._tracking_service.client: 🏃 View run CountVectorizer_MultinomialNB_grid_0 at: https://dagshub.com/Jugal-lachhwani/Data-Capstone-Project.mlflow/#/experiments/4/runs/7c4966729e92481eb8cff0fdae026d8c.\n",
      "2025/10/22 21:55:32 INFO mlflow.tracking._tracking_service.client: 🧪 View experiment at: https://dagshub.com/Jugal-lachhwani/Data-Capstone-Project.mlflow/#/experiments/4.\n",
      "2025/10/22 21:55:35 INFO mlflow.tracking._tracking_service.client: 🏃 View run CountVectorizer_MultinomialNB_grid_1 at: https://dagshub.com/Jugal-lachhwani/Data-Capstone-Project.mlflow/#/experiments/4/runs/06b8b5ff11794b4d9080c7d57f181a38.\n",
      "2025/10/22 21:55:35 INFO mlflow.tracking._tracking_service.client: 🧪 View experiment at: https://dagshub.com/Jugal-lachhwani/Data-Capstone-Project.mlflow/#/experiments/4.\n",
      "2025/10/22 21:55:39 INFO mlflow.tracking._tracking_service.client: 🏃 View run CountVectorizer_MultinomialNB_grid_2 at: https://dagshub.com/Jugal-lachhwani/Data-Capstone-Project.mlflow/#/experiments/4/runs/a36b8b5c00184db69d11b950075c195c.\n",
      "2025/10/22 21:55:39 INFO mlflow.tracking._tracking_service.client: 🧪 View experiment at: https://dagshub.com/Jugal-lachhwani/Data-Capstone-Project.mlflow/#/experiments/4.\n",
      "2025/10/22 21:55:48 INFO mlflow.tracking._tracking_service.client: 🏃 View run CountVectorizer_MultinomialNB_grid_3 at: https://dagshub.com/Jugal-lachhwani/Data-Capstone-Project.mlflow/#/experiments/4/runs/438168901209452085bcb8dddd79894f.\n",
      "2025/10/22 21:55:48 INFO mlflow.tracking._tracking_service.client: 🧪 View experiment at: https://dagshub.com/Jugal-lachhwani/Data-Capstone-Project.mlflow/#/experiments/4.\n",
      "2025/10/22 21:55:53 INFO mlflow.tracking._tracking_service.client: 🏃 View run CountVectorizer_MultinomialNB_grid_4 at: https://dagshub.com/Jugal-lachhwani/Data-Capstone-Project.mlflow/#/experiments/4/runs/84ba8ac35f8c4158a0ac32bbc199a281.\n",
      "2025/10/22 21:55:53 INFO mlflow.tracking._tracking_service.client: 🧪 View experiment at: https://dagshub.com/Jugal-lachhwani/Data-Capstone-Project.mlflow/#/experiments/4.\n",
      "2025/10/22 21:56:00 INFO mlflow.tracking._tracking_service.client: 🏃 View run CountVectorizer_MultinomialNB_grid_5 at: https://dagshub.com/Jugal-lachhwani/Data-Capstone-Project.mlflow/#/experiments/4/runs/011b94ac0cd047b79c1699307c0b1d30.\n",
      "2025/10/22 21:56:00 INFO mlflow.tracking._tracking_service.client: 🧪 View experiment at: https://dagshub.com/Jugal-lachhwani/Data-Capstone-Project.mlflow/#/experiments/4.\n",
      "2025/10/22 21:56:07 INFO mlflow.tracking._tracking_service.client: 🏃 View run CountVectorizer_MultinomialNB_grid_6 at: https://dagshub.com/Jugal-lachhwani/Data-Capstone-Project.mlflow/#/experiments/4/runs/27c12e46b11d4081a57881c23563c46b.\n",
      "2025/10/22 21:56:07 INFO mlflow.tracking._tracking_service.client: 🧪 View experiment at: https://dagshub.com/Jugal-lachhwani/Data-Capstone-Project.mlflow/#/experiments/4.\n",
      "2025/10/22 21:56:14 INFO mlflow.tracking._tracking_service.client: 🏃 View run CountVectorizer_MultinomialNB_grid_7 at: https://dagshub.com/Jugal-lachhwani/Data-Capstone-Project.mlflow/#/experiments/4/runs/e4968063d6db4d88b04e0a009816dcf2.\n",
      "2025/10/22 21:56:14 INFO mlflow.tracking._tracking_service.client: 🧪 View experiment at: https://dagshub.com/Jugal-lachhwani/Data-Capstone-Project.mlflow/#/experiments/4.\n",
      "2025/10/22 21:56:21 INFO mlflow.tracking._tracking_service.client: 🏃 View run CountVectorizer_MultinomialNB_grid_8 at: https://dagshub.com/Jugal-lachhwani/Data-Capstone-Project.mlflow/#/experiments/4/runs/25f7a2b92dea4b9a9b57913910bf08f5.\n",
      "2025/10/22 21:56:21 INFO mlflow.tracking._tracking_service.client: 🧪 View experiment at: https://dagshub.com/Jugal-lachhwani/Data-Capstone-Project.mlflow/#/experiments/4.\n"
     ]
    },
    {
     "name": "stdout",
     "output_type": "stream",
     "text": [
      "2025-10-22 21:56:27,254 - INFO - ✅ Best params for CountVectorizer: {'clf__alpha': 0.01, 'clf__fit_prior': False, 'vectorizer__max_features': 1000, 'vectorizer__ngram_range': (1, 2)}\n"
     ]
    },
    {
     "name": "stderr",
     "output_type": "stream",
     "text": [
      "2025/10/22 21:56:33 WARNING mlflow.models.signature: Failed to infer the model signature from the input example. Reason: AttributeError(\"'int' object has no attribute 'lower'\"). To see the full traceback, set the logging level to DEBUG via `logging.getLogger(\"mlflow\").setLevel(logging.DEBUG)`. To disable automatic signature inference, set `signature` to `False` in your `log_model` or `save_model` call.\n",
      "c:\\Users\\DELL\\miniconda3\\envs\\simple_env\\Lib\\site-packages\\tqdm\\auto.py:21: TqdmWarning: IProgress not found. Please update jupyter and ipywidgets. See https://ipywidgets.readthedocs.io/en/stable/user_install.html\n",
      "  from .autonotebook import tqdm as notebook_tqdm\n",
      "Downloading artifacts: 100%|██████████| 7/7 [00:01<00:00,  4.32it/s]\n"
     ]
    },
    {
     "name": "stdout",
     "output_type": "stream",
     "text": [
      "2025-10-22 21:56:56,958 - INFO - CountVectorizer -> acc=0.784, f1=0.786\n"
     ]
    },
    {
     "name": "stderr",
     "output_type": "stream",
     "text": [
      "2025/10/22 21:56:57 INFO mlflow.tracking._tracking_service.client: 🏃 View run CountVectorizer_MultinomialNB_grid_9 at: https://dagshub.com/Jugal-lachhwani/Data-Capstone-Project.mlflow/#/experiments/4/runs/9d74de03f4fd474f8fcdc02bf61cd149.\n",
      "2025/10/22 21:56:57 INFO mlflow.tracking._tracking_service.client: 🧪 View experiment at: https://dagshub.com/Jugal-lachhwani/Data-Capstone-Project.mlflow/#/experiments/4.\n",
      "2025/10/22 21:57:02 INFO mlflow.tracking._tracking_service.client: 🏃 View run CountVectorizer_MultinomialNB_grid_10 at: https://dagshub.com/Jugal-lachhwani/Data-Capstone-Project.mlflow/#/experiments/4/runs/31c18f9d47e341d08122bb4a5e187b36.\n",
      "2025/10/22 21:57:02 INFO mlflow.tracking._tracking_service.client: 🧪 View experiment at: https://dagshub.com/Jugal-lachhwani/Data-Capstone-Project.mlflow/#/experiments/4.\n",
      "2025/10/22 21:57:09 INFO mlflow.tracking._tracking_service.client: 🏃 View run CountVectorizer_MultinomialNB_grid_11 at: https://dagshub.com/Jugal-lachhwani/Data-Capstone-Project.mlflow/#/experiments/4/runs/d7f77b3451d446c8a289e51216043b72.\n",
      "2025/10/22 21:57:09 INFO mlflow.tracking._tracking_service.client: 🧪 View experiment at: https://dagshub.com/Jugal-lachhwani/Data-Capstone-Project.mlflow/#/experiments/4.\n",
      "2025/10/22 21:57:16 INFO mlflow.tracking._tracking_service.client: 🏃 View run CountVectorizer_MultinomialNB_grid_12 at: https://dagshub.com/Jugal-lachhwani/Data-Capstone-Project.mlflow/#/experiments/4/runs/d2730a8d44974ee6aeeaaa1773d30578.\n",
      "2025/10/22 21:57:16 INFO mlflow.tracking._tracking_service.client: 🧪 View experiment at: https://dagshub.com/Jugal-lachhwani/Data-Capstone-Project.mlflow/#/experiments/4.\n",
      "2025/10/22 21:57:23 INFO mlflow.tracking._tracking_service.client: 🏃 View run CountVectorizer_MultinomialNB_grid_13 at: https://dagshub.com/Jugal-lachhwani/Data-Capstone-Project.mlflow/#/experiments/4/runs/98f59874b6d34e329ceb7e1a9e7993f2.\n",
      "2025/10/22 21:57:23 INFO mlflow.tracking._tracking_service.client: 🧪 View experiment at: https://dagshub.com/Jugal-lachhwani/Data-Capstone-Project.mlflow/#/experiments/4.\n",
      "2025/10/22 21:57:30 INFO mlflow.tracking._tracking_service.client: 🏃 View run CountVectorizer_MultinomialNB_grid_14 at: https://dagshub.com/Jugal-lachhwani/Data-Capstone-Project.mlflow/#/experiments/4/runs/6f842da00c4d4f45b006c102540ad1e7.\n",
      "2025/10/22 21:57:30 INFO mlflow.tracking._tracking_service.client: 🧪 View experiment at: https://dagshub.com/Jugal-lachhwani/Data-Capstone-Project.mlflow/#/experiments/4.\n",
      "2025/10/22 21:57:37 INFO mlflow.tracking._tracking_service.client: 🏃 View run CountVectorizer_MultinomialNB_grid_15 at: https://dagshub.com/Jugal-lachhwani/Data-Capstone-Project.mlflow/#/experiments/4/runs/f02c2efb29d449ae958a60714c615ba9.\n",
      "2025/10/22 21:57:37 INFO mlflow.tracking._tracking_service.client: 🧪 View experiment at: https://dagshub.com/Jugal-lachhwani/Data-Capstone-Project.mlflow/#/experiments/4.\n",
      "2025/10/22 21:57:44 INFO mlflow.tracking._tracking_service.client: 🏃 View run CountVectorizer_MultinomialNB_grid_16 at: https://dagshub.com/Jugal-lachhwani/Data-Capstone-Project.mlflow/#/experiments/4/runs/3804fc94daa34de18bdb0f61f04d7594.\n",
      "2025/10/22 21:57:44 INFO mlflow.tracking._tracking_service.client: 🧪 View experiment at: https://dagshub.com/Jugal-lachhwani/Data-Capstone-Project.mlflow/#/experiments/4.\n",
      "2025/10/22 21:57:51 INFO mlflow.tracking._tracking_service.client: 🏃 View run CountVectorizer_MultinomialNB_grid_17 at: https://dagshub.com/Jugal-lachhwani/Data-Capstone-Project.mlflow/#/experiments/4/runs/181658e4e02d474fb6b83ba51a5328fd.\n",
      "2025/10/22 21:57:51 INFO mlflow.tracking._tracking_service.client: 🧪 View experiment at: https://dagshub.com/Jugal-lachhwani/Data-Capstone-Project.mlflow/#/experiments/4.\n",
      "2025/10/22 21:57:58 INFO mlflow.tracking._tracking_service.client: 🏃 View run CountVectorizer_MultinomialNB_grid_18 at: https://dagshub.com/Jugal-lachhwani/Data-Capstone-Project.mlflow/#/experiments/4/runs/abe9ede3cd4e474fb47073bc2f3e5870.\n",
      "2025/10/22 21:57:58 INFO mlflow.tracking._tracking_service.client: 🧪 View experiment at: https://dagshub.com/Jugal-lachhwani/Data-Capstone-Project.mlflow/#/experiments/4.\n",
      "2025/10/22 21:58:05 INFO mlflow.tracking._tracking_service.client: 🏃 View run CountVectorizer_MultinomialNB_grid_19 at: https://dagshub.com/Jugal-lachhwani/Data-Capstone-Project.mlflow/#/experiments/4/runs/10f9b2781c094fa78d8ae6e10f68eda3.\n",
      "2025/10/22 21:58:05 INFO mlflow.tracking._tracking_service.client: 🧪 View experiment at: https://dagshub.com/Jugal-lachhwani/Data-Capstone-Project.mlflow/#/experiments/4.\n",
      "2025/10/22 21:58:12 INFO mlflow.tracking._tracking_service.client: 🏃 View run CountVectorizer_MultinomialNB_grid_20 at: https://dagshub.com/Jugal-lachhwani/Data-Capstone-Project.mlflow/#/experiments/4/runs/00638a99dd364d33a1d4180e967d7db3.\n",
      "2025/10/22 21:58:12 INFO mlflow.tracking._tracking_service.client: 🧪 View experiment at: https://dagshub.com/Jugal-lachhwani/Data-Capstone-Project.mlflow/#/experiments/4.\n",
      "2025/10/22 21:58:19 INFO mlflow.tracking._tracking_service.client: 🏃 View run CountVectorizer_MultinomialNB_grid_21 at: https://dagshub.com/Jugal-lachhwani/Data-Capstone-Project.mlflow/#/experiments/4/runs/9487e48c0483439ba0bc89cf4637dbea.\n",
      "2025/10/22 21:58:19 INFO mlflow.tracking._tracking_service.client: 🧪 View experiment at: https://dagshub.com/Jugal-lachhwani/Data-Capstone-Project.mlflow/#/experiments/4.\n",
      "2025/10/22 21:58:26 INFO mlflow.tracking._tracking_service.client: 🏃 View run CountVectorizer_MultinomialNB_grid_22 at: https://dagshub.com/Jugal-lachhwani/Data-Capstone-Project.mlflow/#/experiments/4/runs/fc799f242ebf46bebaa6b3e34e3dd041.\n",
      "2025/10/22 21:58:26 INFO mlflow.tracking._tracking_service.client: 🧪 View experiment at: https://dagshub.com/Jugal-lachhwani/Data-Capstone-Project.mlflow/#/experiments/4.\n",
      "2025/10/22 21:58:33 INFO mlflow.tracking._tracking_service.client: 🏃 View run CountVectorizer_MultinomialNB_grid_23 at: https://dagshub.com/Jugal-lachhwani/Data-Capstone-Project.mlflow/#/experiments/4/runs/9c3c735288224efdb8bb93185b39cda1.\n",
      "2025/10/22 21:58:33 INFO mlflow.tracking._tracking_service.client: 🧪 View experiment at: https://dagshub.com/Jugal-lachhwani/Data-Capstone-Project.mlflow/#/experiments/4.\n",
      "2025/10/22 21:58:40 INFO mlflow.tracking._tracking_service.client: 🏃 View run CountVectorizer_MultinomialNB_grid_24 at: https://dagshub.com/Jugal-lachhwani/Data-Capstone-Project.mlflow/#/experiments/4/runs/966deff4c6024cd7b93110fc668e0ee8.\n",
      "2025/10/22 21:58:40 INFO mlflow.tracking._tracking_service.client: 🧪 View experiment at: https://dagshub.com/Jugal-lachhwani/Data-Capstone-Project.mlflow/#/experiments/4.\n",
      "2025/10/22 21:58:47 INFO mlflow.tracking._tracking_service.client: 🏃 View run CountVectorizer_MultinomialNB_grid_25 at: https://dagshub.com/Jugal-lachhwani/Data-Capstone-Project.mlflow/#/experiments/4/runs/0413f59a62774371affc63f8761b0539.\n",
      "2025/10/22 21:58:47 INFO mlflow.tracking._tracking_service.client: 🧪 View experiment at: https://dagshub.com/Jugal-lachhwani/Data-Capstone-Project.mlflow/#/experiments/4.\n",
      "2025/10/22 21:58:54 INFO mlflow.tracking._tracking_service.client: 🏃 View run CountVectorizer_MultinomialNB_grid_26 at: https://dagshub.com/Jugal-lachhwani/Data-Capstone-Project.mlflow/#/experiments/4/runs/5feb1007c1724d50ad9431bcf5fe9812.\n",
      "2025/10/22 21:58:54 INFO mlflow.tracking._tracking_service.client: 🧪 View experiment at: https://dagshub.com/Jugal-lachhwani/Data-Capstone-Project.mlflow/#/experiments/4.\n",
      "2025/10/22 21:59:01 INFO mlflow.tracking._tracking_service.client: 🏃 View run CountVectorizer_MultinomialNB_grid_27 at: https://dagshub.com/Jugal-lachhwani/Data-Capstone-Project.mlflow/#/experiments/4/runs/abbb8f51c3144508a448850be7865213.\n",
      "2025/10/22 21:59:01 INFO mlflow.tracking._tracking_service.client: 🧪 View experiment at: https://dagshub.com/Jugal-lachhwani/Data-Capstone-Project.mlflow/#/experiments/4.\n",
      "2025/10/22 21:59:08 INFO mlflow.tracking._tracking_service.client: 🏃 View run CountVectorizer_MultinomialNB_grid_28 at: https://dagshub.com/Jugal-lachhwani/Data-Capstone-Project.mlflow/#/experiments/4/runs/151f3422dbe2412abfb947a1b3a61d7f.\n",
      "2025/10/22 21:59:08 INFO mlflow.tracking._tracking_service.client: 🧪 View experiment at: https://dagshub.com/Jugal-lachhwani/Data-Capstone-Project.mlflow/#/experiments/4.\n",
      "2025/10/22 21:59:15 INFO mlflow.tracking._tracking_service.client: 🏃 View run CountVectorizer_MultinomialNB_grid_29 at: https://dagshub.com/Jugal-lachhwani/Data-Capstone-Project.mlflow/#/experiments/4/runs/b4c8bff966c64362bebf35b10987034f.\n",
      "2025/10/22 21:59:15 INFO mlflow.tracking._tracking_service.client: 🧪 View experiment at: https://dagshub.com/Jugal-lachhwani/Data-Capstone-Project.mlflow/#/experiments/4.\n",
      "2025/10/22 21:59:22 INFO mlflow.tracking._tracking_service.client: 🏃 View run CountVectorizer_MultinomialNB_grid_30 at: https://dagshub.com/Jugal-lachhwani/Data-Capstone-Project.mlflow/#/experiments/4/runs/72fec77d443c4669afeb398695a90302.\n",
      "2025/10/22 21:59:22 INFO mlflow.tracking._tracking_service.client: 🧪 View experiment at: https://dagshub.com/Jugal-lachhwani/Data-Capstone-Project.mlflow/#/experiments/4.\n",
      "2025/10/22 21:59:29 INFO mlflow.tracking._tracking_service.client: 🏃 View run CountVectorizer_MultinomialNB_grid_31 at: https://dagshub.com/Jugal-lachhwani/Data-Capstone-Project.mlflow/#/experiments/4/runs/a57001b84413400bafb8d8992737b0c0.\n",
      "2025/10/22 21:59:29 INFO mlflow.tracking._tracking_service.client: 🧪 View experiment at: https://dagshub.com/Jugal-lachhwani/Data-Capstone-Project.mlflow/#/experiments/4.\n",
      "2025/10/22 21:59:36 INFO mlflow.tracking._tracking_service.client: 🏃 View run CountVectorizer_MultinomialNB_grid_32 at: https://dagshub.com/Jugal-lachhwani/Data-Capstone-Project.mlflow/#/experiments/4/runs/841cb00987b74485b5eedb4048f09f8f.\n",
      "2025/10/22 21:59:36 INFO mlflow.tracking._tracking_service.client: 🧪 View experiment at: https://dagshub.com/Jugal-lachhwani/Data-Capstone-Project.mlflow/#/experiments/4.\n",
      "2025/10/22 21:59:43 INFO mlflow.tracking._tracking_service.client: 🏃 View run CountVectorizer_MultinomialNB_grid_33 at: https://dagshub.com/Jugal-lachhwani/Data-Capstone-Project.mlflow/#/experiments/4/runs/b5d8bd5994254fc6a4b7e4a1cf30d39a.\n",
      "2025/10/22 21:59:43 INFO mlflow.tracking._tracking_service.client: 🧪 View experiment at: https://dagshub.com/Jugal-lachhwani/Data-Capstone-Project.mlflow/#/experiments/4.\n",
      "2025/10/22 21:59:50 INFO mlflow.tracking._tracking_service.client: 🏃 View run CountVectorizer_MultinomialNB_grid_34 at: https://dagshub.com/Jugal-lachhwani/Data-Capstone-Project.mlflow/#/experiments/4/runs/5aa5c27723794c1a9403c24a16181dec.\n",
      "2025/10/22 21:59:50 INFO mlflow.tracking._tracking_service.client: 🧪 View experiment at: https://dagshub.com/Jugal-lachhwani/Data-Capstone-Project.mlflow/#/experiments/4.\n",
      "2025/10/22 21:59:57 INFO mlflow.tracking._tracking_service.client: 🏃 View run CountVectorizer_MultinomialNB_grid_35 at: https://dagshub.com/Jugal-lachhwani/Data-Capstone-Project.mlflow/#/experiments/4/runs/9c8e5e3070fb4bb7a4004cede8289aca.\n",
      "2025/10/22 21:59:57 INFO mlflow.tracking._tracking_service.client: 🧪 View experiment at: https://dagshub.com/Jugal-lachhwani/Data-Capstone-Project.mlflow/#/experiments/4.\n",
      "2025/10/22 22:00:05 INFO mlflow.tracking._tracking_service.client: 🏃 View run CountVectorizer_MultinomialNB_grid_36 at: https://dagshub.com/Jugal-lachhwani/Data-Capstone-Project.mlflow/#/experiments/4/runs/1d2e6cdc79324708b74c9dc6c18570cc.\n",
      "2025/10/22 22:00:05 INFO mlflow.tracking._tracking_service.client: 🧪 View experiment at: https://dagshub.com/Jugal-lachhwani/Data-Capstone-Project.mlflow/#/experiments/4.\n"
     ]
    },
    {
     "name": "stdout",
     "output_type": "stream",
     "text": [
      "2025-10-22 22:00:06,218 - WARNING - Retrying (Retry(total=4, connect=5, read=4, redirect=5, status=5)) after connection broken by 'RemoteDisconnected('Remote end closed connection without response')': /Jugal-lachhwani/Data-Capstone-Project.mlflow/api/2.0/mlflow/runs/update\n"
     ]
    },
    {
     "name": "stderr",
     "output_type": "stream",
     "text": [
      "2025/10/22 22:00:13 INFO mlflow.tracking._tracking_service.client: 🏃 View run CountVectorizer_MultinomialNB_grid_37 at: https://dagshub.com/Jugal-lachhwani/Data-Capstone-Project.mlflow/#/experiments/4/runs/ed2ca3990df141ad89278a6b6dadc5d1.\n",
      "2025/10/22 22:00:13 INFO mlflow.tracking._tracking_service.client: 🧪 View experiment at: https://dagshub.com/Jugal-lachhwani/Data-Capstone-Project.mlflow/#/experiments/4.\n",
      "2025/10/22 22:00:19 INFO mlflow.tracking._tracking_service.client: 🏃 View run CountVectorizer_MultinomialNB_grid_38 at: https://dagshub.com/Jugal-lachhwani/Data-Capstone-Project.mlflow/#/experiments/4/runs/b1fc0dde924841f7baa8258c1542e5d0.\n",
      "2025/10/22 22:00:19 INFO mlflow.tracking._tracking_service.client: 🧪 View experiment at: https://dagshub.com/Jugal-lachhwani/Data-Capstone-Project.mlflow/#/experiments/4.\n",
      "2025/10/22 22:00:25 INFO mlflow.tracking._tracking_service.client: 🏃 View run CountVectorizer_MultinomialNB_grid_39 at: https://dagshub.com/Jugal-lachhwani/Data-Capstone-Project.mlflow/#/experiments/4/runs/278a732f035d4f548159bb9f7ea7a60c.\n",
      "2025/10/22 22:00:25 INFO mlflow.tracking._tracking_service.client: 🧪 View experiment at: https://dagshub.com/Jugal-lachhwani/Data-Capstone-Project.mlflow/#/experiments/4.\n",
      "2025/10/22 22:00:32 INFO mlflow.tracking._tracking_service.client: 🏃 View run CountVectorizer_MultinomialNB_grid_40 at: https://dagshub.com/Jugal-lachhwani/Data-Capstone-Project.mlflow/#/experiments/4/runs/46eb867571a0479ea0ad646e0d7c5df6.\n",
      "2025/10/22 22:00:32 INFO mlflow.tracking._tracking_service.client: 🧪 View experiment at: https://dagshub.com/Jugal-lachhwani/Data-Capstone-Project.mlflow/#/experiments/4.\n",
      "2025/10/22 22:00:39 INFO mlflow.tracking._tracking_service.client: 🏃 View run CountVectorizer_MultinomialNB_grid_41 at: https://dagshub.com/Jugal-lachhwani/Data-Capstone-Project.mlflow/#/experiments/4/runs/4b2e1a7591b947f088414a5807a00b26.\n",
      "2025/10/22 22:00:39 INFO mlflow.tracking._tracking_service.client: 🧪 View experiment at: https://dagshub.com/Jugal-lachhwani/Data-Capstone-Project.mlflow/#/experiments/4.\n",
      "2025/10/22 22:00:46 INFO mlflow.tracking._tracking_service.client: 🏃 View run CountVectorizer_MultinomialNB_grid_42 at: https://dagshub.com/Jugal-lachhwani/Data-Capstone-Project.mlflow/#/experiments/4/runs/e2deb678fbdb4e1f9c26f31492e2b628.\n",
      "2025/10/22 22:00:46 INFO mlflow.tracking._tracking_service.client: 🧪 View experiment at: https://dagshub.com/Jugal-lachhwani/Data-Capstone-Project.mlflow/#/experiments/4.\n",
      "2025/10/22 22:00:53 INFO mlflow.tracking._tracking_service.client: 🏃 View run CountVectorizer_MultinomialNB_grid_43 at: https://dagshub.com/Jugal-lachhwani/Data-Capstone-Project.mlflow/#/experiments/4/runs/4c18eb9eb4b448a6b4e9583c8153e44f.\n",
      "2025/10/22 22:00:53 INFO mlflow.tracking._tracking_service.client: 🧪 View experiment at: https://dagshub.com/Jugal-lachhwani/Data-Capstone-Project.mlflow/#/experiments/4.\n",
      "2025/10/22 22:01:07 INFO mlflow.tracking._tracking_service.client: 🏃 View run CountVectorizer_MultinomialNB_grid_44 at: https://dagshub.com/Jugal-lachhwani/Data-Capstone-Project.mlflow/#/experiments/4/runs/1d5e5a28a1694ab4bc902c5ce92d6f78.\n",
      "2025/10/22 22:01:07 INFO mlflow.tracking._tracking_service.client: 🧪 View experiment at: https://dagshub.com/Jugal-lachhwani/Data-Capstone-Project.mlflow/#/experiments/4.\n"
     ]
    },
    {
     "name": "stdout",
     "output_type": "stream",
     "text": [
      "2025-10-22 22:01:12,454 - WARNING - Retrying (Retry(total=4, connect=5, read=4, redirect=5, status=5)) after connection broken by 'RemoteDisconnected('Remote end closed connection without response')': /Jugal-lachhwani/Data-Capstone-Project.mlflow/api/2.0/mlflow/runs/log-metric\n"
     ]
    },
    {
     "name": "stderr",
     "output_type": "stream",
     "text": [
      "2025/10/22 22:01:13 INFO mlflow.tracking._tracking_service.client: 🏃 View run CountVectorizer_MultinomialNB_grid_45 at: https://dagshub.com/Jugal-lachhwani/Data-Capstone-Project.mlflow/#/experiments/4/runs/f57825db73184fd6826c4b45fc8d7053.\n",
      "2025/10/22 22:01:13 INFO mlflow.tracking._tracking_service.client: 🧪 View experiment at: https://dagshub.com/Jugal-lachhwani/Data-Capstone-Project.mlflow/#/experiments/4.\n",
      "2025/10/22 22:01:17 INFO mlflow.tracking._tracking_service.client: 🏃 View run CountVectorizer_MultinomialNB_grid_46 at: https://dagshub.com/Jugal-lachhwani/Data-Capstone-Project.mlflow/#/experiments/4/runs/d838ed9e2df742669d3adb7e7d633faf.\n",
      "2025/10/22 22:01:17 INFO mlflow.tracking._tracking_service.client: 🧪 View experiment at: https://dagshub.com/Jugal-lachhwani/Data-Capstone-Project.mlflow/#/experiments/4.\n",
      "2025/10/22 22:01:21 INFO mlflow.tracking._tracking_service.client: 🏃 View run CountVectorizer_MultinomialNB_grid_47 at: https://dagshub.com/Jugal-lachhwani/Data-Capstone-Project.mlflow/#/experiments/4/runs/0bc7dddffa3245a4bd9c7882875790a3.\n",
      "2025/10/22 22:01:21 INFO mlflow.tracking._tracking_service.client: 🧪 View experiment at: https://dagshub.com/Jugal-lachhwani/Data-Capstone-Project.mlflow/#/experiments/4.\n",
      "2025/10/22 22:01:28 INFO mlflow.tracking._tracking_service.client: 🏃 View run CountVectorizer_MultinomialNB_grid_48 at: https://dagshub.com/Jugal-lachhwani/Data-Capstone-Project.mlflow/#/experiments/4/runs/8253eaee016b4f66adca173b2685be95.\n",
      "2025/10/22 22:01:28 INFO mlflow.tracking._tracking_service.client: 🧪 View experiment at: https://dagshub.com/Jugal-lachhwani/Data-Capstone-Project.mlflow/#/experiments/4.\n",
      "2025/10/22 22:01:35 INFO mlflow.tracking._tracking_service.client: 🏃 View run CountVectorizer_MultinomialNB_grid_49 at: https://dagshub.com/Jugal-lachhwani/Data-Capstone-Project.mlflow/#/experiments/4/runs/ab6a01ba49e9456388e822515d806728.\n",
      "2025/10/22 22:01:35 INFO mlflow.tracking._tracking_service.client: 🧪 View experiment at: https://dagshub.com/Jugal-lachhwani/Data-Capstone-Project.mlflow/#/experiments/4.\n",
      "2025/10/22 22:01:42 INFO mlflow.tracking._tracking_service.client: 🏃 View run CountVectorizer_MultinomialNB_grid_50 at: https://dagshub.com/Jugal-lachhwani/Data-Capstone-Project.mlflow/#/experiments/4/runs/107faaccd5e0413f81b0189ad500f679.\n",
      "2025/10/22 22:01:42 INFO mlflow.tracking._tracking_service.client: 🧪 View experiment at: https://dagshub.com/Jugal-lachhwani/Data-Capstone-Project.mlflow/#/experiments/4.\n",
      "2025/10/22 22:01:49 INFO mlflow.tracking._tracking_service.client: 🏃 View run CountVectorizer_MultinomialNB_grid_51 at: https://dagshub.com/Jugal-lachhwani/Data-Capstone-Project.mlflow/#/experiments/4/runs/b5b4e542077240afa65f63c2e50493f9.\n",
      "2025/10/22 22:01:49 INFO mlflow.tracking._tracking_service.client: 🧪 View experiment at: https://dagshub.com/Jugal-lachhwani/Data-Capstone-Project.mlflow/#/experiments/4.\n",
      "2025/10/22 22:01:56 INFO mlflow.tracking._tracking_service.client: 🏃 View run CountVectorizer_MultinomialNB_grid_52 at: https://dagshub.com/Jugal-lachhwani/Data-Capstone-Project.mlflow/#/experiments/4/runs/19234f2cd9564faea9fa52d7ef62fe0f.\n",
      "2025/10/22 22:01:56 INFO mlflow.tracking._tracking_service.client: 🧪 View experiment at: https://dagshub.com/Jugal-lachhwani/Data-Capstone-Project.mlflow/#/experiments/4.\n",
      "2025/10/22 22:02:03 INFO mlflow.tracking._tracking_service.client: 🏃 View run CountVectorizer_MultinomialNB_grid_53 at: https://dagshub.com/Jugal-lachhwani/Data-Capstone-Project.mlflow/#/experiments/4/runs/af97ec4d9b484025b17ef7719e217033.\n",
      "2025/10/22 22:02:03 INFO mlflow.tracking._tracking_service.client: 🧪 View experiment at: https://dagshub.com/Jugal-lachhwani/Data-Capstone-Project.mlflow/#/experiments/4.\n",
      "2025/10/22 22:02:10 INFO mlflow.tracking._tracking_service.client: 🏃 View run CountVectorizer_MultinomialNB_grid_54 at: https://dagshub.com/Jugal-lachhwani/Data-Capstone-Project.mlflow/#/experiments/4/runs/8b703db89e434b1692f1c70143e41176.\n",
      "2025/10/22 22:02:10 INFO mlflow.tracking._tracking_service.client: 🧪 View experiment at: https://dagshub.com/Jugal-lachhwani/Data-Capstone-Project.mlflow/#/experiments/4.\n",
      "2025/10/22 22:02:17 INFO mlflow.tracking._tracking_service.client: 🏃 View run CountVectorizer_MultinomialNB_grid_55 at: https://dagshub.com/Jugal-lachhwani/Data-Capstone-Project.mlflow/#/experiments/4/runs/60dad3b0189742548f156dcacf001878.\n",
      "2025/10/22 22:02:17 INFO mlflow.tracking._tracking_service.client: 🧪 View experiment at: https://dagshub.com/Jugal-lachhwani/Data-Capstone-Project.mlflow/#/experiments/4.\n",
      "2025/10/22 22:02:24 INFO mlflow.tracking._tracking_service.client: 🏃 View run CountVectorizer_MultinomialNB_grid_56 at: https://dagshub.com/Jugal-lachhwani/Data-Capstone-Project.mlflow/#/experiments/4/runs/57d29fca92624c308ab26e87bc83ec51.\n",
      "2025/10/22 22:02:24 INFO mlflow.tracking._tracking_service.client: 🧪 View experiment at: https://dagshub.com/Jugal-lachhwani/Data-Capstone-Project.mlflow/#/experiments/4.\n",
      "2025/10/22 22:02:31 INFO mlflow.tracking._tracking_service.client: 🏃 View run CountVectorizer_MultinomialNB_grid_57 at: https://dagshub.com/Jugal-lachhwani/Data-Capstone-Project.mlflow/#/experiments/4/runs/7f2547759f404bba9a6d815cb16a1a1e.\n",
      "2025/10/22 22:02:31 INFO mlflow.tracking._tracking_service.client: 🧪 View experiment at: https://dagshub.com/Jugal-lachhwani/Data-Capstone-Project.mlflow/#/experiments/4.\n",
      "2025/10/22 22:02:38 INFO mlflow.tracking._tracking_service.client: 🏃 View run CountVectorizer_MultinomialNB_grid_58 at: https://dagshub.com/Jugal-lachhwani/Data-Capstone-Project.mlflow/#/experiments/4/runs/ddbd0e0d02024bad8346a4076269d848.\n",
      "2025/10/22 22:02:38 INFO mlflow.tracking._tracking_service.client: 🧪 View experiment at: https://dagshub.com/Jugal-lachhwani/Data-Capstone-Project.mlflow/#/experiments/4.\n",
      "2025/10/22 22:02:45 INFO mlflow.tracking._tracking_service.client: 🏃 View run CountVectorizer_MultinomialNB_grid_59 at: https://dagshub.com/Jugal-lachhwani/Data-Capstone-Project.mlflow/#/experiments/4/runs/95cb48c1f0c944858cea11a19ebecf03.\n",
      "2025/10/22 22:02:45 INFO mlflow.tracking._tracking_service.client: 🧪 View experiment at: https://dagshub.com/Jugal-lachhwani/Data-Capstone-Project.mlflow/#/experiments/4.\n"
     ]
    },
    {
     "name": "stdout",
     "output_type": "stream",
     "text": [
      "2025-10-22 22:02:46,157 - INFO - 🔹 Using Vectorizer: TFIDFVectorizer\n",
      "Fitting 3 folds for each of 60 candidates, totalling 180 fits\n"
     ]
    },
    {
     "name": "stderr",
     "output_type": "stream",
     "text": [
      "2025/10/22 22:03:21 INFO mlflow.tracking._tracking_service.client: 🏃 View run TFIDFVectorizer_MultinomialNB_grid_0 at: https://dagshub.com/Jugal-lachhwani/Data-Capstone-Project.mlflow/#/experiments/4/runs/040fa07967bf4f3eb9326a44f800eda4.\n",
      "2025/10/22 22:03:21 INFO mlflow.tracking._tracking_service.client: 🧪 View experiment at: https://dagshub.com/Jugal-lachhwani/Data-Capstone-Project.mlflow/#/experiments/4.\n",
      "2025/10/22 22:03:24 INFO mlflow.tracking._tracking_service.client: 🏃 View run TFIDFVectorizer_MultinomialNB_grid_1 at: https://dagshub.com/Jugal-lachhwani/Data-Capstone-Project.mlflow/#/experiments/4/runs/b9e131a8cc4e42fea86a7c2feaed716b.\n",
      "2025/10/22 22:03:24 INFO mlflow.tracking._tracking_service.client: 🧪 View experiment at: https://dagshub.com/Jugal-lachhwani/Data-Capstone-Project.mlflow/#/experiments/4.\n",
      "2025/10/22 22:03:27 INFO mlflow.tracking._tracking_service.client: 🏃 View run TFIDFVectorizer_MultinomialNB_grid_2 at: https://dagshub.com/Jugal-lachhwani/Data-Capstone-Project.mlflow/#/experiments/4/runs/14dafe8c8f88420f94bf680dbcdd074d.\n",
      "2025/10/22 22:03:27 INFO mlflow.tracking._tracking_service.client: 🧪 View experiment at: https://dagshub.com/Jugal-lachhwani/Data-Capstone-Project.mlflow/#/experiments/4.\n",
      "2025/10/22 22:03:34 INFO mlflow.tracking._tracking_service.client: 🏃 View run TFIDFVectorizer_MultinomialNB_grid_3 at: https://dagshub.com/Jugal-lachhwani/Data-Capstone-Project.mlflow/#/experiments/4/runs/3628c2f2c69d4d639356f97410fedb5e.\n",
      "2025/10/22 22:03:34 INFO mlflow.tracking._tracking_service.client: 🧪 View experiment at: https://dagshub.com/Jugal-lachhwani/Data-Capstone-Project.mlflow/#/experiments/4.\n",
      "2025/10/22 22:03:41 INFO mlflow.tracking._tracking_service.client: 🏃 View run TFIDFVectorizer_MultinomialNB_grid_4 at: https://dagshub.com/Jugal-lachhwani/Data-Capstone-Project.mlflow/#/experiments/4/runs/cb704868ee5f4ad485f4a93bcf8e4813.\n",
      "2025/10/22 22:03:41 INFO mlflow.tracking._tracking_service.client: 🧪 View experiment at: https://dagshub.com/Jugal-lachhwani/Data-Capstone-Project.mlflow/#/experiments/4.\n",
      "2025/10/22 22:03:48 INFO mlflow.tracking._tracking_service.client: 🏃 View run TFIDFVectorizer_MultinomialNB_grid_5 at: https://dagshub.com/Jugal-lachhwani/Data-Capstone-Project.mlflow/#/experiments/4/runs/4c87311594a14d479de94c4c218cee2b.\n",
      "2025/10/22 22:03:48 INFO mlflow.tracking._tracking_service.client: 🧪 View experiment at: https://dagshub.com/Jugal-lachhwani/Data-Capstone-Project.mlflow/#/experiments/4.\n",
      "2025/10/22 22:03:55 INFO mlflow.tracking._tracking_service.client: 🏃 View run TFIDFVectorizer_MultinomialNB_grid_6 at: https://dagshub.com/Jugal-lachhwani/Data-Capstone-Project.mlflow/#/experiments/4/runs/ed055d83a3dd46d08fc3290b72134121.\n",
      "2025/10/22 22:03:55 INFO mlflow.tracking._tracking_service.client: 🧪 View experiment at: https://dagshub.com/Jugal-lachhwani/Data-Capstone-Project.mlflow/#/experiments/4.\n",
      "2025/10/22 22:04:02 INFO mlflow.tracking._tracking_service.client: 🏃 View run TFIDFVectorizer_MultinomialNB_grid_7 at: https://dagshub.com/Jugal-lachhwani/Data-Capstone-Project.mlflow/#/experiments/4/runs/1e073f74fa964d7887f573aa2e588b5f.\n",
      "2025/10/22 22:04:02 INFO mlflow.tracking._tracking_service.client: 🧪 View experiment at: https://dagshub.com/Jugal-lachhwani/Data-Capstone-Project.mlflow/#/experiments/4.\n",
      "2025/10/22 22:04:09 INFO mlflow.tracking._tracking_service.client: 🏃 View run TFIDFVectorizer_MultinomialNB_grid_8 at: https://dagshub.com/Jugal-lachhwani/Data-Capstone-Project.mlflow/#/experiments/4/runs/9823da49934c4a8d81bf138d8760210d.\n",
      "2025/10/22 22:04:09 INFO mlflow.tracking._tracking_service.client: 🧪 View experiment at: https://dagshub.com/Jugal-lachhwani/Data-Capstone-Project.mlflow/#/experiments/4.\n",
      "2025/10/22 22:04:16 INFO mlflow.tracking._tracking_service.client: 🏃 View run TFIDFVectorizer_MultinomialNB_grid_9 at: https://dagshub.com/Jugal-lachhwani/Data-Capstone-Project.mlflow/#/experiments/4/runs/39226624d6274ce0b21c41634e763bfb.\n",
      "2025/10/22 22:04:16 INFO mlflow.tracking._tracking_service.client: 🧪 View experiment at: https://dagshub.com/Jugal-lachhwani/Data-Capstone-Project.mlflow/#/experiments/4.\n",
      "2025/10/22 22:04:24 INFO mlflow.tracking._tracking_service.client: 🏃 View run TFIDFVectorizer_MultinomialNB_grid_10 at: https://dagshub.com/Jugal-lachhwani/Data-Capstone-Project.mlflow/#/experiments/4/runs/cef968d4d6c640a888db3bc32e6dc994.\n",
      "2025/10/22 22:04:24 INFO mlflow.tracking._tracking_service.client: 🧪 View experiment at: https://dagshub.com/Jugal-lachhwani/Data-Capstone-Project.mlflow/#/experiments/4.\n",
      "2025/10/22 22:04:30 INFO mlflow.tracking._tracking_service.client: 🏃 View run TFIDFVectorizer_MultinomialNB_grid_11 at: https://dagshub.com/Jugal-lachhwani/Data-Capstone-Project.mlflow/#/experiments/4/runs/62ce4bc339e94170b695de3b6fc4766f.\n",
      "2025/10/22 22:04:30 INFO mlflow.tracking._tracking_service.client: 🧪 View experiment at: https://dagshub.com/Jugal-lachhwani/Data-Capstone-Project.mlflow/#/experiments/4.\n",
      "2025/10/22 22:04:37 INFO mlflow.tracking._tracking_service.client: 🏃 View run TFIDFVectorizer_MultinomialNB_grid_12 at: https://dagshub.com/Jugal-lachhwani/Data-Capstone-Project.mlflow/#/experiments/4/runs/aa3176a71d8049f183c9352eda48c5c5.\n",
      "2025/10/22 22:04:37 INFO mlflow.tracking._tracking_service.client: 🧪 View experiment at: https://dagshub.com/Jugal-lachhwani/Data-Capstone-Project.mlflow/#/experiments/4.\n",
      "2025/10/22 22:04:44 INFO mlflow.tracking._tracking_service.client: 🏃 View run TFIDFVectorizer_MultinomialNB_grid_13 at: https://dagshub.com/Jugal-lachhwani/Data-Capstone-Project.mlflow/#/experiments/4/runs/0676c423359e4e838b3d53cc9364e653.\n",
      "2025/10/22 22:04:44 INFO mlflow.tracking._tracking_service.client: 🧪 View experiment at: https://dagshub.com/Jugal-lachhwani/Data-Capstone-Project.mlflow/#/experiments/4.\n",
      "2025/10/22 22:04:51 INFO mlflow.tracking._tracking_service.client: 🏃 View run TFIDFVectorizer_MultinomialNB_grid_14 at: https://dagshub.com/Jugal-lachhwani/Data-Capstone-Project.mlflow/#/experiments/4/runs/146388527c794e2ab94f771154ea1c5b.\n",
      "2025/10/22 22:04:51 INFO mlflow.tracking._tracking_service.client: 🧪 View experiment at: https://dagshub.com/Jugal-lachhwani/Data-Capstone-Project.mlflow/#/experiments/4.\n",
      "2025/10/22 22:04:58 INFO mlflow.tracking._tracking_service.client: 🏃 View run TFIDFVectorizer_MultinomialNB_grid_15 at: https://dagshub.com/Jugal-lachhwani/Data-Capstone-Project.mlflow/#/experiments/4/runs/2a60ac638e7a4784bd1cd6a080ea5e44.\n",
      "2025/10/22 22:04:58 INFO mlflow.tracking._tracking_service.client: 🧪 View experiment at: https://dagshub.com/Jugal-lachhwani/Data-Capstone-Project.mlflow/#/experiments/4.\n",
      "2025/10/22 22:05:05 INFO mlflow.tracking._tracking_service.client: 🏃 View run TFIDFVectorizer_MultinomialNB_grid_16 at: https://dagshub.com/Jugal-lachhwani/Data-Capstone-Project.mlflow/#/experiments/4/runs/d6a3b702c96542fa83cf39ce53cefad7.\n",
      "2025/10/22 22:05:05 INFO mlflow.tracking._tracking_service.client: 🧪 View experiment at: https://dagshub.com/Jugal-lachhwani/Data-Capstone-Project.mlflow/#/experiments/4.\n",
      "2025/10/22 22:05:12 INFO mlflow.tracking._tracking_service.client: 🏃 View run TFIDFVectorizer_MultinomialNB_grid_17 at: https://dagshub.com/Jugal-lachhwani/Data-Capstone-Project.mlflow/#/experiments/4/runs/9ea7fed810d7434e9e091951b0ec131e.\n",
      "2025/10/22 22:05:12 INFO mlflow.tracking._tracking_service.client: 🧪 View experiment at: https://dagshub.com/Jugal-lachhwani/Data-Capstone-Project.mlflow/#/experiments/4.\n",
      "2025/10/22 22:05:19 INFO mlflow.tracking._tracking_service.client: 🏃 View run TFIDFVectorizer_MultinomialNB_grid_18 at: https://dagshub.com/Jugal-lachhwani/Data-Capstone-Project.mlflow/#/experiments/4/runs/87bbf3789acd415e97be6fc053626b57.\n",
      "2025/10/22 22:05:19 INFO mlflow.tracking._tracking_service.client: 🧪 View experiment at: https://dagshub.com/Jugal-lachhwani/Data-Capstone-Project.mlflow/#/experiments/4.\n",
      "2025/10/22 22:05:26 INFO mlflow.tracking._tracking_service.client: 🏃 View run TFIDFVectorizer_MultinomialNB_grid_19 at: https://dagshub.com/Jugal-lachhwani/Data-Capstone-Project.mlflow/#/experiments/4/runs/c5ca87adbcd5467cbf80cafb8642897e.\n",
      "2025/10/22 22:05:26 INFO mlflow.tracking._tracking_service.client: 🧪 View experiment at: https://dagshub.com/Jugal-lachhwani/Data-Capstone-Project.mlflow/#/experiments/4.\n",
      "2025/10/22 22:05:33 INFO mlflow.tracking._tracking_service.client: 🏃 View run TFIDFVectorizer_MultinomialNB_grid_20 at: https://dagshub.com/Jugal-lachhwani/Data-Capstone-Project.mlflow/#/experiments/4/runs/0ed17632bc7e416a97a700380cf4c99c.\n",
      "2025/10/22 22:05:33 INFO mlflow.tracking._tracking_service.client: 🧪 View experiment at: https://dagshub.com/Jugal-lachhwani/Data-Capstone-Project.mlflow/#/experiments/4.\n",
      "2025/10/22 22:05:40 INFO mlflow.tracking._tracking_service.client: 🏃 View run TFIDFVectorizer_MultinomialNB_grid_21 at: https://dagshub.com/Jugal-lachhwani/Data-Capstone-Project.mlflow/#/experiments/4/runs/1e79500a30534410b4b9d4b85d470894.\n",
      "2025/10/22 22:05:40 INFO mlflow.tracking._tracking_service.client: 🧪 View experiment at: https://dagshub.com/Jugal-lachhwani/Data-Capstone-Project.mlflow/#/experiments/4.\n",
      "2025/10/22 22:05:47 INFO mlflow.tracking._tracking_service.client: 🏃 View run TFIDFVectorizer_MultinomialNB_grid_22 at: https://dagshub.com/Jugal-lachhwani/Data-Capstone-Project.mlflow/#/experiments/4/runs/634a6148245940679896b0b5a61eed28.\n",
      "2025/10/22 22:05:47 INFO mlflow.tracking._tracking_service.client: 🧪 View experiment at: https://dagshub.com/Jugal-lachhwani/Data-Capstone-Project.mlflow/#/experiments/4.\n",
      "2025/10/22 22:05:54 INFO mlflow.tracking._tracking_service.client: 🏃 View run TFIDFVectorizer_MultinomialNB_grid_23 at: https://dagshub.com/Jugal-lachhwani/Data-Capstone-Project.mlflow/#/experiments/4/runs/c73c3d0221374370a6f0b04a5215d582.\n",
      "2025/10/22 22:05:54 INFO mlflow.tracking._tracking_service.client: 🧪 View experiment at: https://dagshub.com/Jugal-lachhwani/Data-Capstone-Project.mlflow/#/experiments/4.\n",
      "2025/10/22 22:06:01 INFO mlflow.tracking._tracking_service.client: 🏃 View run TFIDFVectorizer_MultinomialNB_grid_24 at: https://dagshub.com/Jugal-lachhwani/Data-Capstone-Project.mlflow/#/experiments/4/runs/2ac03638d586412aa6473137ff764498.\n",
      "2025/10/22 22:06:01 INFO mlflow.tracking._tracking_service.client: 🧪 View experiment at: https://dagshub.com/Jugal-lachhwani/Data-Capstone-Project.mlflow/#/experiments/4.\n",
      "2025/10/22 22:06:09 INFO mlflow.tracking._tracking_service.client: 🏃 View run TFIDFVectorizer_MultinomialNB_grid_25 at: https://dagshub.com/Jugal-lachhwani/Data-Capstone-Project.mlflow/#/experiments/4/runs/160b7f82e9584e3fa9d7ff223c918d0d.\n",
      "2025/10/22 22:06:09 INFO mlflow.tracking._tracking_service.client: 🧪 View experiment at: https://dagshub.com/Jugal-lachhwani/Data-Capstone-Project.mlflow/#/experiments/4.\n",
      "2025/10/22 22:06:15 INFO mlflow.tracking._tracking_service.client: 🏃 View run TFIDFVectorizer_MultinomialNB_grid_26 at: https://dagshub.com/Jugal-lachhwani/Data-Capstone-Project.mlflow/#/experiments/4/runs/0f76304294e44346a9e50509591509e9.\n",
      "2025/10/22 22:06:15 INFO mlflow.tracking._tracking_service.client: 🧪 View experiment at: https://dagshub.com/Jugal-lachhwani/Data-Capstone-Project.mlflow/#/experiments/4.\n",
      "2025/10/22 22:06:22 INFO mlflow.tracking._tracking_service.client: 🏃 View run TFIDFVectorizer_MultinomialNB_grid_27 at: https://dagshub.com/Jugal-lachhwani/Data-Capstone-Project.mlflow/#/experiments/4/runs/9b5b8b720b0842f08601e1c3d5c3581a.\n",
      "2025/10/22 22:06:22 INFO mlflow.tracking._tracking_service.client: 🧪 View experiment at: https://dagshub.com/Jugal-lachhwani/Data-Capstone-Project.mlflow/#/experiments/4.\n",
      "2025/10/22 22:06:29 INFO mlflow.tracking._tracking_service.client: 🏃 View run TFIDFVectorizer_MultinomialNB_grid_28 at: https://dagshub.com/Jugal-lachhwani/Data-Capstone-Project.mlflow/#/experiments/4/runs/33a4319884dd4602a927cfbd88b21e79.\n",
      "2025/10/22 22:06:29 INFO mlflow.tracking._tracking_service.client: 🧪 View experiment at: https://dagshub.com/Jugal-lachhwani/Data-Capstone-Project.mlflow/#/experiments/4.\n",
      "2025/10/22 22:06:36 INFO mlflow.tracking._tracking_service.client: 🏃 View run TFIDFVectorizer_MultinomialNB_grid_29 at: https://dagshub.com/Jugal-lachhwani/Data-Capstone-Project.mlflow/#/experiments/4/runs/443c2a285593479db5f75be0420fe948.\n",
      "2025/10/22 22:06:36 INFO mlflow.tracking._tracking_service.client: 🧪 View experiment at: https://dagshub.com/Jugal-lachhwani/Data-Capstone-Project.mlflow/#/experiments/4.\n",
      "2025/10/22 22:06:43 INFO mlflow.tracking._tracking_service.client: 🏃 View run TFIDFVectorizer_MultinomialNB_grid_30 at: https://dagshub.com/Jugal-lachhwani/Data-Capstone-Project.mlflow/#/experiments/4/runs/134e1b77ea6741bcaa4f407a47af465b.\n",
      "2025/10/22 22:06:43 INFO mlflow.tracking._tracking_service.client: 🧪 View experiment at: https://dagshub.com/Jugal-lachhwani/Data-Capstone-Project.mlflow/#/experiments/4.\n",
      "2025/10/22 22:06:50 INFO mlflow.tracking._tracking_service.client: 🏃 View run TFIDFVectorizer_MultinomialNB_grid_31 at: https://dagshub.com/Jugal-lachhwani/Data-Capstone-Project.mlflow/#/experiments/4/runs/53e4005816564488b7038b2b64d6983a.\n",
      "2025/10/22 22:06:50 INFO mlflow.tracking._tracking_service.client: 🧪 View experiment at: https://dagshub.com/Jugal-lachhwani/Data-Capstone-Project.mlflow/#/experiments/4.\n",
      "2025/10/22 22:06:57 INFO mlflow.tracking._tracking_service.client: 🏃 View run TFIDFVectorizer_MultinomialNB_grid_32 at: https://dagshub.com/Jugal-lachhwani/Data-Capstone-Project.mlflow/#/experiments/4/runs/18fec17b439940bd8530f96c657d9497.\n",
      "2025/10/22 22:06:57 INFO mlflow.tracking._tracking_service.client: 🧪 View experiment at: https://dagshub.com/Jugal-lachhwani/Data-Capstone-Project.mlflow/#/experiments/4.\n",
      "2025/10/22 22:07:04 INFO mlflow.tracking._tracking_service.client: 🏃 View run TFIDFVectorizer_MultinomialNB_grid_33 at: https://dagshub.com/Jugal-lachhwani/Data-Capstone-Project.mlflow/#/experiments/4/runs/a0bbbbc562224c688c7091d34f939382.\n",
      "2025/10/22 22:07:04 INFO mlflow.tracking._tracking_service.client: 🧪 View experiment at: https://dagshub.com/Jugal-lachhwani/Data-Capstone-Project.mlflow/#/experiments/4.\n"
     ]
    },
    {
     "name": "stdout",
     "output_type": "stream",
     "text": [
      "2025-10-22 22:07:10,969 - INFO - ✅ Best params for TFIDFVectorizer: {'clf__alpha': 0.3, 'clf__fit_prior': False, 'vectorizer__max_features': 2000, 'vectorizer__ngram_range': (1, 1)}\n"
     ]
    },
    {
     "name": "stderr",
     "output_type": "stream",
     "text": [
      "2025/10/22 22:07:17 WARNING mlflow.models.signature: Failed to infer the model signature from the input example. Reason: AttributeError(\"'int' object has no attribute 'lower'\"). To see the full traceback, set the logging level to DEBUG via `logging.getLogger(\"mlflow\").setLevel(logging.DEBUG)`. To disable automatic signature inference, set `signature` to `False` in your `log_model` or `save_model` call.\n",
      "Downloading artifacts: 100%|██████████| 7/7 [00:02<00:00,  2.99it/s]"
     ]
    },
    {
     "name": "stdout",
     "output_type": "stream",
     "text": [
      "2025-10-22 22:07:36,225 - INFO - TFIDFVectorizer -> acc=0.768, f1=0.762\n"
     ]
    },
    {
     "name": "stderr",
     "output_type": "stream",
     "text": [
      "\n",
      "2025/10/22 22:07:37 INFO mlflow.tracking._tracking_service.client: 🏃 View run TFIDFVectorizer_MultinomialNB_grid_34 at: https://dagshub.com/Jugal-lachhwani/Data-Capstone-Project.mlflow/#/experiments/4/runs/3fc9670f1e85417293be4e44d3844734.\n",
      "2025/10/22 22:07:37 INFO mlflow.tracking._tracking_service.client: 🧪 View experiment at: https://dagshub.com/Jugal-lachhwani/Data-Capstone-Project.mlflow/#/experiments/4.\n",
      "2025/10/22 22:07:42 INFO mlflow.tracking._tracking_service.client: 🏃 View run TFIDFVectorizer_MultinomialNB_grid_35 at: https://dagshub.com/Jugal-lachhwani/Data-Capstone-Project.mlflow/#/experiments/4/runs/8ca1dd6ceb3b4c7fa4ec034ea6780ab3.\n",
      "2025/10/22 22:07:42 INFO mlflow.tracking._tracking_service.client: 🧪 View experiment at: https://dagshub.com/Jugal-lachhwani/Data-Capstone-Project.mlflow/#/experiments/4.\n",
      "2025/10/22 22:07:49 INFO mlflow.tracking._tracking_service.client: 🏃 View run TFIDFVectorizer_MultinomialNB_grid_36 at: https://dagshub.com/Jugal-lachhwani/Data-Capstone-Project.mlflow/#/experiments/4/runs/a88aa3b6cc254ac8858819b5f8b43e28.\n",
      "2025/10/22 22:07:49 INFO mlflow.tracking._tracking_service.client: 🧪 View experiment at: https://dagshub.com/Jugal-lachhwani/Data-Capstone-Project.mlflow/#/experiments/4.\n",
      "2025/10/22 22:07:57 INFO mlflow.tracking._tracking_service.client: 🏃 View run TFIDFVectorizer_MultinomialNB_grid_37 at: https://dagshub.com/Jugal-lachhwani/Data-Capstone-Project.mlflow/#/experiments/4/runs/35b6a9116f7743a2a24c6a66436cef24.\n",
      "2025/10/22 22:07:57 INFO mlflow.tracking._tracking_service.client: 🧪 View experiment at: https://dagshub.com/Jugal-lachhwani/Data-Capstone-Project.mlflow/#/experiments/4.\n",
      "2025/10/22 22:08:03 INFO mlflow.tracking._tracking_service.client: 🏃 View run TFIDFVectorizer_MultinomialNB_grid_38 at: https://dagshub.com/Jugal-lachhwani/Data-Capstone-Project.mlflow/#/experiments/4/runs/ad29b421ca6446ffa753c165f147a4c3.\n",
      "2025/10/22 22:08:03 INFO mlflow.tracking._tracking_service.client: 🧪 View experiment at: https://dagshub.com/Jugal-lachhwani/Data-Capstone-Project.mlflow/#/experiments/4.\n",
      "2025/10/22 22:08:10 INFO mlflow.tracking._tracking_service.client: 🏃 View run TFIDFVectorizer_MultinomialNB_grid_39 at: https://dagshub.com/Jugal-lachhwani/Data-Capstone-Project.mlflow/#/experiments/4/runs/afe90de8882f4733ac04982aff8e2bb7.\n",
      "2025/10/22 22:08:10 INFO mlflow.tracking._tracking_service.client: 🧪 View experiment at: https://dagshub.com/Jugal-lachhwani/Data-Capstone-Project.mlflow/#/experiments/4.\n",
      "2025/10/22 22:08:17 INFO mlflow.tracking._tracking_service.client: 🏃 View run TFIDFVectorizer_MultinomialNB_grid_40 at: https://dagshub.com/Jugal-lachhwani/Data-Capstone-Project.mlflow/#/experiments/4/runs/f9b392b28f2648a2be9c2748f5f41779.\n",
      "2025/10/22 22:08:17 INFO mlflow.tracking._tracking_service.client: 🧪 View experiment at: https://dagshub.com/Jugal-lachhwani/Data-Capstone-Project.mlflow/#/experiments/4.\n",
      "2025/10/22 22:08:24 INFO mlflow.tracking._tracking_service.client: 🏃 View run TFIDFVectorizer_MultinomialNB_grid_41 at: https://dagshub.com/Jugal-lachhwani/Data-Capstone-Project.mlflow/#/experiments/4/runs/3f1d0c17991b4a1e83f1636a49b00b71.\n",
      "2025/10/22 22:08:24 INFO mlflow.tracking._tracking_service.client: 🧪 View experiment at: https://dagshub.com/Jugal-lachhwani/Data-Capstone-Project.mlflow/#/experiments/4.\n",
      "2025/10/22 22:08:31 INFO mlflow.tracking._tracking_service.client: 🏃 View run TFIDFVectorizer_MultinomialNB_grid_42 at: https://dagshub.com/Jugal-lachhwani/Data-Capstone-Project.mlflow/#/experiments/4/runs/afc859d397cd4641b286e75b44354cbc.\n",
      "2025/10/22 22:08:31 INFO mlflow.tracking._tracking_service.client: 🧪 View experiment at: https://dagshub.com/Jugal-lachhwani/Data-Capstone-Project.mlflow/#/experiments/4.\n",
      "2025/10/22 22:08:39 INFO mlflow.tracking._tracking_service.client: 🏃 View run TFIDFVectorizer_MultinomialNB_grid_43 at: https://dagshub.com/Jugal-lachhwani/Data-Capstone-Project.mlflow/#/experiments/4/runs/cd07e7ab7eb348c381a2c2fabe8eefb3.\n",
      "2025/10/22 22:08:39 INFO mlflow.tracking._tracking_service.client: 🧪 View experiment at: https://dagshub.com/Jugal-lachhwani/Data-Capstone-Project.mlflow/#/experiments/4.\n",
      "2025/10/22 22:08:45 INFO mlflow.tracking._tracking_service.client: 🏃 View run TFIDFVectorizer_MultinomialNB_grid_44 at: https://dagshub.com/Jugal-lachhwani/Data-Capstone-Project.mlflow/#/experiments/4/runs/4549b6bdef4347d0af9a6ed278888fcd.\n",
      "2025/10/22 22:08:45 INFO mlflow.tracking._tracking_service.client: 🧪 View experiment at: https://dagshub.com/Jugal-lachhwani/Data-Capstone-Project.mlflow/#/experiments/4.\n",
      "2025/10/22 22:08:52 INFO mlflow.tracking._tracking_service.client: 🏃 View run TFIDFVectorizer_MultinomialNB_grid_45 at: https://dagshub.com/Jugal-lachhwani/Data-Capstone-Project.mlflow/#/experiments/4/runs/47ffcd0ce3e14afea0c104fcc8eb4994.\n",
      "2025/10/22 22:08:52 INFO mlflow.tracking._tracking_service.client: 🧪 View experiment at: https://dagshub.com/Jugal-lachhwani/Data-Capstone-Project.mlflow/#/experiments/4.\n",
      "2025/10/22 22:08:59 INFO mlflow.tracking._tracking_service.client: 🏃 View run TFIDFVectorizer_MultinomialNB_grid_46 at: https://dagshub.com/Jugal-lachhwani/Data-Capstone-Project.mlflow/#/experiments/4/runs/23b22e94c15542879984f6e0d2a0aa1b.\n",
      "2025/10/22 22:08:59 INFO mlflow.tracking._tracking_service.client: 🧪 View experiment at: https://dagshub.com/Jugal-lachhwani/Data-Capstone-Project.mlflow/#/experiments/4.\n",
      "2025/10/22 22:09:06 INFO mlflow.tracking._tracking_service.client: 🏃 View run TFIDFVectorizer_MultinomialNB_grid_47 at: https://dagshub.com/Jugal-lachhwani/Data-Capstone-Project.mlflow/#/experiments/4/runs/785b671db9b64f18a108fcfbf8db78d0.\n",
      "2025/10/22 22:09:06 INFO mlflow.tracking._tracking_service.client: 🧪 View experiment at: https://dagshub.com/Jugal-lachhwani/Data-Capstone-Project.mlflow/#/experiments/4.\n",
      "2025/10/22 22:09:13 INFO mlflow.tracking._tracking_service.client: 🏃 View run TFIDFVectorizer_MultinomialNB_grid_48 at: https://dagshub.com/Jugal-lachhwani/Data-Capstone-Project.mlflow/#/experiments/4/runs/bd579edcfbb14f6fafe00bd018651901.\n",
      "2025/10/22 22:09:13 INFO mlflow.tracking._tracking_service.client: 🧪 View experiment at: https://dagshub.com/Jugal-lachhwani/Data-Capstone-Project.mlflow/#/experiments/4.\n",
      "2025/10/22 22:09:20 INFO mlflow.tracking._tracking_service.client: 🏃 View run TFIDFVectorizer_MultinomialNB_grid_49 at: https://dagshub.com/Jugal-lachhwani/Data-Capstone-Project.mlflow/#/experiments/4/runs/e6537be871cf48f48320018180acf18d.\n",
      "2025/10/22 22:09:20 INFO mlflow.tracking._tracking_service.client: 🧪 View experiment at: https://dagshub.com/Jugal-lachhwani/Data-Capstone-Project.mlflow/#/experiments/4.\n",
      "2025/10/22 22:09:27 INFO mlflow.tracking._tracking_service.client: 🏃 View run TFIDFVectorizer_MultinomialNB_grid_50 at: https://dagshub.com/Jugal-lachhwani/Data-Capstone-Project.mlflow/#/experiments/4/runs/5133ba65194f4dddb12af8c8747a565c.\n",
      "2025/10/22 22:09:27 INFO mlflow.tracking._tracking_service.client: 🧪 View experiment at: https://dagshub.com/Jugal-lachhwani/Data-Capstone-Project.mlflow/#/experiments/4.\n",
      "2025/10/22 22:09:34 INFO mlflow.tracking._tracking_service.client: 🏃 View run TFIDFVectorizer_MultinomialNB_grid_51 at: https://dagshub.com/Jugal-lachhwani/Data-Capstone-Project.mlflow/#/experiments/4/runs/d8e7fdfb5c734963879c034540f34fd4.\n",
      "2025/10/22 22:09:34 INFO mlflow.tracking._tracking_service.client: 🧪 View experiment at: https://dagshub.com/Jugal-lachhwani/Data-Capstone-Project.mlflow/#/experiments/4.\n",
      "2025/10/22 22:09:41 INFO mlflow.tracking._tracking_service.client: 🏃 View run TFIDFVectorizer_MultinomialNB_grid_52 at: https://dagshub.com/Jugal-lachhwani/Data-Capstone-Project.mlflow/#/experiments/4/runs/caa81b499be94d7a8ca975402cedec41.\n",
      "2025/10/22 22:09:41 INFO mlflow.tracking._tracking_service.client: 🧪 View experiment at: https://dagshub.com/Jugal-lachhwani/Data-Capstone-Project.mlflow/#/experiments/4.\n",
      "2025/10/22 22:09:49 INFO mlflow.tracking._tracking_service.client: 🏃 View run TFIDFVectorizer_MultinomialNB_grid_53 at: https://dagshub.com/Jugal-lachhwani/Data-Capstone-Project.mlflow/#/experiments/4/runs/6b526b7d0ef04d1289ec1da07c0696e5.\n",
      "2025/10/22 22:09:49 INFO mlflow.tracking._tracking_service.client: 🧪 View experiment at: https://dagshub.com/Jugal-lachhwani/Data-Capstone-Project.mlflow/#/experiments/4.\n",
      "2025/10/22 22:09:55 INFO mlflow.tracking._tracking_service.client: 🏃 View run TFIDFVectorizer_MultinomialNB_grid_54 at: https://dagshub.com/Jugal-lachhwani/Data-Capstone-Project.mlflow/#/experiments/4/runs/187f74a505f844de941d7d01c66d3648.\n",
      "2025/10/22 22:09:55 INFO mlflow.tracking._tracking_service.client: 🧪 View experiment at: https://dagshub.com/Jugal-lachhwani/Data-Capstone-Project.mlflow/#/experiments/4.\n",
      "2025/10/22 22:10:02 INFO mlflow.tracking._tracking_service.client: 🏃 View run TFIDFVectorizer_MultinomialNB_grid_55 at: https://dagshub.com/Jugal-lachhwani/Data-Capstone-Project.mlflow/#/experiments/4/runs/731a7c4d5e854d77ae960a51ebdf5842.\n",
      "2025/10/22 22:10:02 INFO mlflow.tracking._tracking_service.client: 🧪 View experiment at: https://dagshub.com/Jugal-lachhwani/Data-Capstone-Project.mlflow/#/experiments/4.\n",
      "2025/10/22 22:10:10 INFO mlflow.tracking._tracking_service.client: 🏃 View run TFIDFVectorizer_MultinomialNB_grid_56 at: https://dagshub.com/Jugal-lachhwani/Data-Capstone-Project.mlflow/#/experiments/4/runs/71f36a02562f42f2b05875a445600619.\n",
      "2025/10/22 22:10:10 INFO mlflow.tracking._tracking_service.client: 🧪 View experiment at: https://dagshub.com/Jugal-lachhwani/Data-Capstone-Project.mlflow/#/experiments/4.\n",
      "2025/10/22 22:10:16 INFO mlflow.tracking._tracking_service.client: 🏃 View run TFIDFVectorizer_MultinomialNB_grid_57 at: https://dagshub.com/Jugal-lachhwani/Data-Capstone-Project.mlflow/#/experiments/4/runs/2482b155355c4b0296f6f7a0b1dfd316.\n",
      "2025/10/22 22:10:16 INFO mlflow.tracking._tracking_service.client: 🧪 View experiment at: https://dagshub.com/Jugal-lachhwani/Data-Capstone-Project.mlflow/#/experiments/4.\n",
      "2025/10/22 22:10:24 INFO mlflow.tracking._tracking_service.client: 🏃 View run TFIDFVectorizer_MultinomialNB_grid_58 at: https://dagshub.com/Jugal-lachhwani/Data-Capstone-Project.mlflow/#/experiments/4/runs/de5d4959b70c44f391312c8dfd633199.\n",
      "2025/10/22 22:10:24 INFO mlflow.tracking._tracking_service.client: 🧪 View experiment at: https://dagshub.com/Jugal-lachhwani/Data-Capstone-Project.mlflow/#/experiments/4.\n",
      "2025/10/22 22:10:30 INFO mlflow.tracking._tracking_service.client: 🏃 View run TFIDFVectorizer_MultinomialNB_grid_59 at: https://dagshub.com/Jugal-lachhwani/Data-Capstone-Project.mlflow/#/experiments/4/runs/ccbf6555824f47e1a5f26dca23a82b20.\n",
      "2025/10/22 22:10:30 INFO mlflow.tracking._tracking_service.client: 🧪 View experiment at: https://dagshub.com/Jugal-lachhwani/Data-Capstone-Project.mlflow/#/experiments/4.\n",
      "2025/10/22 22:10:32 INFO mlflow.tracking._tracking_service.client: 🏃 View run Text_Classification_All_Experiments at: https://dagshub.com/Jugal-lachhwani/Data-Capstone-Project.mlflow/#/experiments/4/runs/bad03e45af46491199d447a5dcd0da67.\n",
      "2025/10/22 22:10:32 INFO mlflow.tracking._tracking_service.client: 🧪 View experiment at: https://dagshub.com/Jugal-lachhwani/Data-Capstone-Project.mlflow/#/experiments/4.\n"
     ]
    },
    {
     "name": "stdout",
     "output_type": "stream",
     "text": [
      "2025-10-22 22:10:33,965 - INFO - 🎯 All vectorizers and hyperparameter combinations logged to MLflow successfully!\n"
     ]
    },
    {
     "data": {
      "image/png": "[encoded data removed]",
      "text/plain": [
       "<Figure size 400x300 with 2 Axes>"
      ]
     },
     "metadata": {},
     "output_type": "display_data"
    },
    {
     "data": {
      "image/png": "[encoded data removed]",
      "text/plain": [
       "<Figure size 400x300 with 2 Axes>"
      ]
     },
     "metadata": {},
     "output_type": "display_data"
    }
   ],
   "source": [
    "import mlflow\n",
    "import mlflow.sklearn\n",
    "import logging\n",
    "import sys\n",
    "import numpy as np\n",
    "import matplotlib.pyplot as plt\n",
    "import seaborn as sns\n",
    "import pandas as pd\n",
    "\n",
    "from sklearn.metrics import accuracy_score, precision_score, recall_score, f1_score, confusion_matrix, classification_report\n",
    "from sklearn.feature_extraction.text import CountVectorizer, TfidfVectorizer\n",
    "from sklearn.naive_bayes import MultinomialNB\n",
    "from sklearn.pipeline import Pipeline\n",
    "from sklearn.model_selection import GridSearchCV, train_test_split\n",
    "\n",
    "# --- Logging setup ---\n",
    "for h in logging.root.handlers[:]:\n",
    "    logging.root.removeHandler(h)\n",
    "logging.basicConfig(\n",
    "    level=logging.INFO,\n",
    "    format=\"%(asctime)s - %(levelname)s - %(message)s\",\n",
    "    handlers=[logging.StreamHandler(sys.stdout)],\n",
    "    force=True\n",
    ")\n",
    "\n",
    "# Example: replace with your data\n",
    "# df = pd.read_csv(\"your_dataset.csv\")\n",
    "# X, y = df['review'], df['label']\n",
    "\n",
    "X_train, X_test, y_train, y_test = train_test_split(X, y, test_size=0.25, random_state=42)\n",
    "\n",
    "# --- Define preprocessing methods ---\n",
    "vectorizers = {\n",
    "    \"CountVectorizer\": CountVectorizer(stop_words='english'),\n",
    "    \"TFIDFVectorizer\": TfidfVectorizer(stop_words='english')\n",
    "}\n",
    "\n",
    "# --- Define model ---\n",
    "model = MultinomialNB()\n",
    "\n",
    "# --- Define full param grid (vectorizer + model) ---\n",
    "param_grid = {\n",
    "    'vectorizer__max_features': [500, 1000, 2000],\n",
    "    'vectorizer__ngram_range': [(1,1), (1,2)],\n",
    "    'clf__alpha': [0.01, 0.1, 0.3, 0.5, 1.0],\n",
    "    'clf__fit_prior': [True, False]\n",
    "}\n",
    "\n",
    "# --- MLflow parent run ---\n",
    "with mlflow.start_run(run_name='Text_Classification_All_Experiments') as parent_run:\n",
    "    \n",
    "    for vec_name, vec in vectorizers.items():\n",
    "        logging.info(f\"🔹 Using Vectorizer: {vec_name}\")\n",
    "\n",
    "        # Build pipeline\n",
    "        pipeline = Pipeline([\n",
    "            ('vectorizer', vec),\n",
    "            ('clf', model)\n",
    "        ])\n",
    "\n",
    "        # Grid Search\n",
    "        grid = GridSearchCV(\n",
    "            estimator=pipeline,\n",
    "            param_grid=param_grid,\n",
    "            cv=3,\n",
    "            n_jobs=-1,\n",
    "            verbose=1,\n",
    "            return_train_score=True\n",
    "        )\n",
    "        grid.fit(X_train, y_train)\n",
    "\n",
    "        # --- Log each parameter combination ---\n",
    "        for i, params in enumerate(grid.cv_results_[\"params\"]):\n",
    "            with mlflow.start_run(run_name=f\"{vec_name}_MultinomialNB_grid_{i}\", nested=True) as child_run:\n",
    "                mlflow.log_param(\"vectorizer\", vec_name)\n",
    "                mlflow.log_params(params)\n",
    "                mlflow.log_metric(\"mean_test_score\", grid.cv_results_[\"mean_test_score\"][i])\n",
    "                mlflow.log_metric(\"mean_train_score\", grid.cv_results_[\"mean_train_score\"][i])\n",
    "\n",
    "                # If best params, log detailed metrics + model\n",
    "                if params == grid.best_params_:\n",
    "                    logging.info(f\"✅ Best params for {vec_name}: {params}\")\n",
    "                    mlflow.set_tag(\"best_model\", \"True\")\n",
    "\n",
    "                    best_model = grid.best_estimator_\n",
    "                    y_pred = best_model.predict(X_test)\n",
    "\n",
    "                    # Compute metrics\n",
    "                    acc = accuracy_score(y_test, y_pred)\n",
    "                    prec = precision_score(y_test, y_pred)\n",
    "                    rec = recall_score(y_test, y_pred)\n",
    "                    f1 = f1_score(y_test, y_pred)\n",
    "\n",
    "                    mlflow.log_metrics({\n",
    "                        \"accuracy\": acc,\n",
    "                        \"precision\": prec,\n",
    "                        \"recall\": rec,\n",
    "                        \"f1\": f1\n",
    "                    })\n",
    "\n",
    "                    # Log classification report\n",
    "                    report = classification_report(y_test, y_pred, output_dict=True)\n",
    "                    mlflow.log_dict(report, \"classification_report.json\")\n",
    "\n",
    "                    # Log confusion matrix\n",
    "                    conf = confusion_matrix(y_test, y_pred)\n",
    "                    mlflow.log_dict({\"confusion_matrix\": conf.tolist()}, \"confusion_matrix.json\")\n",
    "\n",
    "                    # Plot confusion matrix\n",
    "                    plt.figure(figsize=(4,3))\n",
    "                    sns.heatmap(conf, annot=True, fmt=\"d\", cmap=\"Blues\")\n",
    "                    plt.xlabel(\"Predicted\")\n",
    "                    plt.ylabel(\"Actual\")\n",
    "                    plt.title(f\"{vec_name} + MultinomialNB\")\n",
    "                    plt.tight_layout()\n",
    "                    plt.savefig(\"confusion_matrix.png\")\n",
    "                    mlflow.log_artifact(\"confusion_matrix.png\")\n",
    "\n",
    "                    # Log model\n",
    "                    input_example = (\n",
    "                        X_test[:5].tolist()\n",
    "                    )\n",
    "                    mlflow.sklearn.log_model(best_model, \"best_model\", input_example=input_example)\n",
    "\n",
    "                    logging.info(f\"{vec_name} -> acc={acc:.3f}, f1={f1:.3f}\")\n",
    "\n",
    "logging.info(\"🎯 All vectorizers and hyperparameter combinations logged to MLflow successfully!\")\n"
   ]
  },
  {
   "cell_type": "code",
   "execution_count": 20,
   "id": "1361a63d",
   "metadata": {},
   "outputs": [
    {
     "data": {
      "text/plain": [
       "np.int64(34)"
      ]
     },
     "execution_count": 20,
     "metadata": {},
     "output_type": "execute_result"
    }
   ],
   "source": [
    "grid.best_index_"
   ]
  },
  {
   "cell_type": "code",
   "execution_count": null,
   "id": "ae0c06f0",
   "metadata": {},
   "outputs": [],
   "source": []
  }
 ],
 "metadata": {
  "kernelspec": {
   "display_name": "simple_env",
   "language": "python",
   "name": "python3"
  },
  "language_info": {
   "codemirror_mode": {
    "name": "ipython",
    "version": 3
   },
   "file_extension": ".py",
   "mimetype": "text/x-python",
   "name": "python",
   "nbconvert_exporter": "python",
   "pygments_lexer": "ipython3",
   "version": "3.11.14"
  }
 },
 "nbformat": 4,
 "nbformat_minor": 5
}
