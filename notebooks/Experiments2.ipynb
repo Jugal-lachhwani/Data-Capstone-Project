{
 "cells": [
  {
   "cell_type": "code",
   "execution_count": null,
   "id": "d011b5c7",
   "metadata": {},
   "outputs": [],
   "source": [
    "import mlflow\n",
    "import mlflow.sklearn\n",
    "import logging\n",
    "import sys\n",
    "import time\n",
    "import numpy as np\n",
    "import scipy\n",
    "import matplotlib.pyplot as plt\n",
    "import seaborn as sns\n",
    "import pandas as pd\n",
    "import nltk\n",
    "from nltk.corpus import stopwords\n",
    "from nltk.stem import WordNetLemmatizer\n",
    "import re\n",
    "import os\n",
    "import sys\n",
    "import string\n",
    "\n",
    "from sklearn.model_selection import train_test_split, GridSearchCV\n",
    "from sklearn.metrics import accuracy_score, precision_score, recall_score, f1_score, confusion_matrix, classification_report\n",
    "from sklearn.feature_extraction.text import CountVectorizer, TfidfVectorizer"
   ]
  },
  {
   "cell_type": "code",
   "execution_count": 4,
   "id": "d87a585f",
   "metadata": {},
   "outputs": [],
   "source": [
    "df = pd.read_csv('IMDB.csv')"
   ]
  },
  {
   "cell_type": "code",
   "execution_count": 5,
   "id": "590f9828",
   "metadata": {},
   "outputs": [],
   "source": [
    "def lemmatization(text):\n",
    "    \"\"\"Lemmatize the text.\"\"\"\n",
    "    lemmatizer = WordNetLemmatizer()\n",
    "    text = text.split()\n",
    "    text = [lemmatizer.lemmatize(word) for word in text]\n",
    "    return \" \".join(text)\n",
    "\n",
    "def remove_stop_words(text):\n",
    "    \"\"\"Remove stop words from the text.\"\"\"\n",
    "    stop_words = set(stopwords.words(\"english\"))\n",
    "    text = [word for word in str(text).split() if word not in stop_words]\n",
    "    return \" \".join(text)\n",
    "\n",
    "def removing_numbers(text):\n",
    "    \"\"\"Remove numbers from the text.\"\"\"\n",
    "    text = ''.join([char for char in text if not char.isdigit()])\n",
    "    return text\n",
    "\n",
    "def lower_case(text):\n",
    "    \"\"\"Convert text to lower case.\"\"\"\n",
    "    text = text.split()\n",
    "    text = [word.lower() for word in text]\n",
    "    return \" \".join(text)\n",
    "\n",
    "def removing_punctuations(text):\n",
    "    \"\"\"Remove punctuations from the text.\"\"\"\n",
    "    text = re.sub('[%s]' % re.escape(string.punctuation), ' ', text)\n",
    "    text = text.replace('؛', \"\")\n",
    "    text = re.sub('\\s+', ' ', text).strip()\n",
    "    return text\n",
    "\n",
    "def removing_urls(text):\n",
    "    \"\"\"Remove URLs from the text.\"\"\"\n",
    "    url_pattern = re.compile(r'https?://\\S+|www\\.\\S+')\n",
    "    return url_pattern.sub(r'', text)\n",
    "\n",
    "def normalize_text(df):\n",
    "    \"\"\"Normalize the text data.\"\"\"\n",
    "    try:\n",
    "        df['review'] = df['review'].apply(lower_case)\n",
    "        df['review'] = df['review'].apply(remove_stop_words)\n",
    "        df['review'] = df['review'].apply(removing_numbers)\n",
    "        df['review'] = df['review'].apply(removing_punctuations)\n",
    "        df['review'] = df['review'].apply(removing_urls)\n",
    "        df['review'] = df['review'].apply(lemmatization)\n",
    "        return df\n",
    "    except Exception as e:\n",
    "        print(f'Error during text normalization: {e}')\n",
    "        raise\n"
   ]
  },
  {
   "cell_type": "code",
   "execution_count": 6,
   "id": "3f80ec84",
   "metadata": {},
   "outputs": [
    {
     "name": "stderr",
     "output_type": "stream",
     "text": [
      "[nltk_data] Downloading package wordnet to\n",
      "[nltk_data]     C:\\Users\\DELL\\AppData\\Roaming\\nltk_data...\n",
      "[nltk_data]   Package wordnet is already up-to-date!\n"
     ]
    },
    {
     "data": {
      "text/html": [
       "<div>\n",
       "<style scoped>\n",
       "    .dataframe tbody tr th:only-of-type {\n",
       "        vertical-align: middle;\n",
       "    }\n",
       "\n",
       "    .dataframe tbody tr th {\n",
       "        vertical-align: top;\n",
       "    }\n",
       "\n",
       "    .dataframe thead th {\n",
       "        text-align: right;\n",
       "    }\n",
       "</style>\n",
       "<table border=\"1\" class=\"dataframe\">\n",
       "  <thead>\n",
       "    <tr style=\"text-align: right;\">\n",
       "      <th></th>\n",
       "      <th>review</th>\n",
       "      <th>sentiment</th>\n",
       "    </tr>\n",
       "  </thead>\n",
       "  <tbody>\n",
       "    <tr>\n",
       "      <th>0</th>\n",
       "      <td>film version sandra bernhard s one woman off b...</td>\n",
       "      <td>negative</td>\n",
       "    </tr>\n",
       "    <tr>\n",
       "      <th>1</th>\n",
       "      <td>switched from cable whim treated quite surpris...</td>\n",
       "      <td>positive</td>\n",
       "    </tr>\n",
       "    <tr>\n",
       "      <th>2</th>\n",
       "      <td>plot film contains hole could drive massive tr...</td>\n",
       "      <td>negative</td>\n",
       "    </tr>\n",
       "    <tr>\n",
       "      <th>3</th>\n",
       "      <td>amusing humor fall flat decent acting quite at...</td>\n",
       "      <td>negative</td>\n",
       "    </tr>\n",
       "    <tr>\n",
       "      <th>4</th>\n",
       "      <td>say movie terrible good two day earlier watche...</td>\n",
       "      <td>negative</td>\n",
       "    </tr>\n",
       "  </tbody>\n",
       "</table>\n",
       "</div>"
      ],
      "text/plain": [
       "                                              review sentiment\n",
       "0  film version sandra bernhard s one woman off b...  negative\n",
       "1  switched from cable whim treated quite surpris...  positive\n",
       "2  plot film contains hole could drive massive tr...  negative\n",
       "3  amusing humor fall flat decent acting quite at...  negative\n",
       "4  say movie terrible good two day earlier watche...  negative"
      ]
     },
     "execution_count": 6,
     "metadata": {},
     "output_type": "execute_result"
    }
   ],
   "source": [
    "nltk.download('wordnet')\n",
    "df = normalize_text(df)\n",
    "df.head()"
   ]
  },
  {
   "cell_type": "code",
   "execution_count": 7,
   "id": "d1e2b23a",
   "metadata": {},
   "outputs": [
    {
     "data": {
      "text/html": [
       "<div>\n",
       "<style scoped>\n",
       "    .dataframe tbody tr th:only-of-type {\n",
       "        vertical-align: middle;\n",
       "    }\n",
       "\n",
       "    .dataframe tbody tr th {\n",
       "        vertical-align: top;\n",
       "    }\n",
       "\n",
       "    .dataframe thead th {\n",
       "        text-align: right;\n",
       "    }\n",
       "</style>\n",
       "<table border=\"1\" class=\"dataframe\">\n",
       "  <thead>\n",
       "    <tr style=\"text-align: right;\">\n",
       "      <th></th>\n",
       "      <th>review</th>\n",
       "      <th>sentiment</th>\n",
       "    </tr>\n",
       "  </thead>\n",
       "  <tbody>\n",
       "    <tr>\n",
       "      <th>0</th>\n",
       "      <td>film version sandra bernhard s one woman off b...</td>\n",
       "      <td>0</td>\n",
       "    </tr>\n",
       "    <tr>\n",
       "      <th>1</th>\n",
       "      <td>switched from cable whim treated quite surpris...</td>\n",
       "      <td>1</td>\n",
       "    </tr>\n",
       "    <tr>\n",
       "      <th>2</th>\n",
       "      <td>plot film contains hole could drive massive tr...</td>\n",
       "      <td>0</td>\n",
       "    </tr>\n",
       "    <tr>\n",
       "      <th>3</th>\n",
       "      <td>amusing humor fall flat decent acting quite at...</td>\n",
       "      <td>0</td>\n",
       "    </tr>\n",
       "    <tr>\n",
       "      <th>4</th>\n",
       "      <td>say movie terrible good two day earlier watche...</td>\n",
       "      <td>0</td>\n",
       "    </tr>\n",
       "  </tbody>\n",
       "</table>\n",
       "</div>"
      ],
      "text/plain": [
       "                                              review  sentiment\n",
       "0  film version sandra bernhard s one woman off b...          0\n",
       "1  switched from cable whim treated quite surpris...          1\n",
       "2  plot film contains hole could drive massive tr...          0\n",
       "3  amusing humor fall flat decent acting quite at...          0\n",
       "4  say movie terrible good two day earlier watche...          0"
      ]
     },
     "execution_count": 7,
     "metadata": {},
     "output_type": "execute_result"
    }
   ],
   "source": [
    "df['sentiment'] = df['sentiment'].map({'positive':1, 'negative':0})\n",
    "df.head()"
   ]
  },
  {
   "cell_type": "code",
   "execution_count": 8,
   "id": "81ec1e0a",
   "metadata": {},
   "outputs": [
    {
     "data": {
      "text/plain": [
       "review       0\n",
       "sentiment    0\n",
       "dtype: int64"
      ]
     },
     "execution_count": 8,
     "metadata": {},
     "output_type": "execute_result"
    }
   ],
   "source": [
    "df.isnull().sum()"
   ]
  },
  {
   "cell_type": "code",
   "execution_count": 9,
   "id": "53c84263",
   "metadata": {},
   "outputs": [],
   "source": [
    "X = df['review']\n",
    "y = df['sentiment']"
   ]
  },
  {
   "cell_type": "code",
   "execution_count": 10,
   "id": "3b5c27e2",
   "metadata": {},
   "outputs": [
    {
     "data": {
      "text/html": [
       "<pre style=\"white-space:pre;overflow-x:auto;line-height:normal;font-family:Menlo,'DejaVu Sans Mono',consolas,'Courier New',monospace\">Accessing as Jugal-lachhwani\n",
       "</pre>\n"
      ],
      "text/plain": [
       "Accessing as Jugal-lachhwani\n"
      ]
     },
     "metadata": {},
     "output_type": "display_data"
    },
    {
     "data": {
      "text/html": [
       "<pre style=\"white-space:pre;overflow-x:auto;line-height:normal;font-family:Menlo,'DejaVu Sans Mono',consolas,'Courier New',monospace\">Initialized MLflow to track repo <span style=\"color: #008000; text-decoration-color: #008000\">\"Jugal-lachhwani/Data-Capstone-Project\"</span>\n",
       "</pre>\n"
      ],
      "text/plain": [
       "Initialized MLflow to track repo \u001b[32m\"Jugal-lachhwani/Data-Capstone-Project\"\u001b[0m\n"
      ]
     },
     "metadata": {},
     "output_type": "display_data"
    },
    {
     "data": {
      "text/html": [
       "<pre style=\"white-space:pre;overflow-x:auto;line-height:normal;font-family:Menlo,'DejaVu Sans Mono',consolas,'Courier New',monospace\">Repository Jugal-lachhwani/Data-Capstone-Project initialized!\n",
       "</pre>\n"
      ],
      "text/plain": [
       "Repository Jugal-lachhwani/Data-Capstone-Project initialized!\n"
      ]
     },
     "metadata": {},
     "output_type": "display_data"
    }
   ],
   "source": [
    "import dagshub\n",
    "mlflow.set_tracking_uri(\"https://dagshub.com/Jugal-lachhwani/Data-Capstone-Project.mlflow\")\n",
    "dagshub.init(repo_owner='Jugal-lachhwani', repo_name='Data-Capstone-Project', mlflow=True)"
   ]
  },
  {
   "cell_type": "code",
   "execution_count": 11,
   "id": "e7777bd2",
   "metadata": {},
   "outputs": [],
   "source": [
    "from sklearn.linear_model import LogisticRegression, RidgeClassifier\n",
    "from sklearn.ensemble import RandomForestClassifier, GradientBoostingClassifier, AdaBoostClassifier\n",
    "from sklearn.svm import SVC\n",
    "from sklearn.neighbors import KNeighborsClassifier\n",
    "from sklearn.tree import DecisionTreeClassifier\n",
    "from xgboost import XGBClassifier\n",
    "from lightgbm import LGBMClassifier"
   ]
  },
  {
   "cell_type": "code",
   "execution_count": 12,
   "id": "b731f663",
   "metadata": {},
   "outputs": [
    {
     "name": "stderr",
     "output_type": "stream",
     "text": [
      "2025/10/22 16:27:43 INFO mlflow.tracking.fluent: Experiment with name 'IMDB_1st' does not exist. Creating a new experiment.\n"
     ]
    },
    {
     "name": "stdout",
     "output_type": "stream",
     "text": [
      "2025-10-22 16:27:44,988 - INFO - Vectorizer: CountVectorizer\n",
      "2025-10-22 16:27:45,324 - INFO - Training model: LogisticRegression\n"
     ]
    },
    {
     "name": "stderr",
     "output_type": "stream",
     "text": [
      "2025/10/22 16:28:16 INFO mlflow.tracking._tracking_service.client: 🏃 View run CountVectorizer_LogisticRegression at: https://dagshub.com/Jugal-lachhwani/Data-Capstone-Project.mlflow/#/experiments/3/runs/f5626a7ce80d4fa7ad205d94d7c8aae9.\n",
      "2025/10/22 16:28:16 INFO mlflow.tracking._tracking_service.client: 🧪 View experiment at: https://dagshub.com/Jugal-lachhwani/Data-Capstone-Project.mlflow/#/experiments/3.\n"
     ]
    },
    {
     "ename": "KeyboardInterrupt",
     "evalue": "",
     "output_type": "error",
     "traceback": [
      "\u001b[31m---------------------------------------------------------------------------\u001b[39m",
      "\u001b[31mKeyboardInterrupt\u001b[39m                         Traceback (most recent call last)",
      "\u001b[36mCell\u001b[39m\u001b[36m \u001b[39m\u001b[32mIn[12]\u001b[39m\u001b[32m, line 173\u001b[39m\n\u001b[32m    168\u001b[39m \u001b[38;5;66;03m# --- Log model ---\u001b[39;00m\n\u001b[32m    169\u001b[39m input_example = (\n\u001b[32m    170\u001b[39m     X_test_vec[:\u001b[32m5\u001b[39m].toarray() \u001b[38;5;28;01mif\u001b[39;00m scipy.sparse.issparse(X_test_vec)\n\u001b[32m    171\u001b[39m     \u001b[38;5;28;01melse\u001b[39;00m X_test_vec[:\u001b[32m5\u001b[39m]\n\u001b[32m    172\u001b[39m )\n\u001b[32m--> \u001b[39m\u001b[32m173\u001b[39m \u001b[43mmlflow\u001b[49m\u001b[43m.\u001b[49m\u001b[43msklearn\u001b[49m\u001b[43m.\u001b[49m\u001b[43mlog_model\u001b[49m\u001b[43m(\u001b[49m\u001b[43mbest_model\u001b[49m\u001b[43m,\u001b[49m\u001b[43m \u001b[49m\u001b[33;43m\"\u001b[39;49m\u001b[33;43mmodel\u001b[39;49m\u001b[33;43m\"\u001b[39;49m\u001b[43m,\u001b[49m\u001b[43m \u001b[49m\u001b[43minput_example\u001b[49m\u001b[43m=\u001b[49m\u001b[43minput_example\u001b[49m\u001b[43m)\u001b[49m\n\u001b[32m    175\u001b[39m end_time = time.time()\n\u001b[32m    176\u001b[39m mlflow.log_metric(\u001b[33m\"\u001b[39m\u001b[33mtraining_time_sec\u001b[39m\u001b[33m\"\u001b[39m, end_time - start_time)\n",
      "\u001b[36mFile \u001b[39m\u001b[32mc:\\Users\\DELL\\miniconda3\\envs\\simple_env\\Lib\\site-packages\\mlflow\\sklearn\\__init__.py:412\u001b[39m, in \u001b[36mlog_model\u001b[39m\u001b[34m(sk_model, artifact_path, conda_env, code_paths, serialization_format, registered_model_name, signature, input_example, await_registration_for, pip_requirements, extra_pip_requirements, pyfunc_predict_fn, metadata)\u001b[39m\n\u001b[32m    333\u001b[39m \u001b[38;5;129m@format_docstring\u001b[39m(LOG_MODEL_PARAM_DOCS.format(package_name=\u001b[33m\"\u001b[39m\u001b[33mscikit-learn\u001b[39m\u001b[33m\"\u001b[39m))\n\u001b[32m    334\u001b[39m \u001b[38;5;28;01mdef\u001b[39;00m\u001b[38;5;250m \u001b[39m\u001b[34mlog_model\u001b[39m(\n\u001b[32m    335\u001b[39m     sk_model,\n\u001b[32m   (...)\u001b[39m\u001b[32m    347\u001b[39m     metadata=\u001b[38;5;28;01mNone\u001b[39;00m,\n\u001b[32m    348\u001b[39m ):\n\u001b[32m    349\u001b[39m \u001b[38;5;250m    \u001b[39m\u001b[33;03m\"\"\"\u001b[39;00m\n\u001b[32m    350\u001b[39m \u001b[33;03m    Log a scikit-learn model as an MLflow artifact for the current run. Produces an MLflow Model\u001b[39;00m\n\u001b[32m    351\u001b[39m \u001b[33;03m    containing the following flavors:\u001b[39;00m\n\u001b[32m   (...)\u001b[39m\u001b[32m    410\u001b[39m \n\u001b[32m    411\u001b[39m \u001b[33;03m    \"\"\"\u001b[39;00m\n\u001b[32m--> \u001b[39m\u001b[32m412\u001b[39m     \u001b[38;5;28;01mreturn\u001b[39;00m \u001b[43mModel\u001b[49m\u001b[43m.\u001b[49m\u001b[43mlog\u001b[49m\u001b[43m(\u001b[49m\n\u001b[32m    413\u001b[39m \u001b[43m        \u001b[49m\u001b[43martifact_path\u001b[49m\u001b[43m=\u001b[49m\u001b[43martifact_path\u001b[49m\u001b[43m,\u001b[49m\n\u001b[32m    414\u001b[39m \u001b[43m        \u001b[49m\u001b[43mflavor\u001b[49m\u001b[43m=\u001b[49m\u001b[43mmlflow\u001b[49m\u001b[43m.\u001b[49m\u001b[43msklearn\u001b[49m\u001b[43m,\u001b[49m\n\u001b[32m    415\u001b[39m \u001b[43m        \u001b[49m\u001b[43msk_model\u001b[49m\u001b[43m=\u001b[49m\u001b[43msk_model\u001b[49m\u001b[43m,\u001b[49m\n\u001b[32m    416\u001b[39m \u001b[43m        \u001b[49m\u001b[43mconda_env\u001b[49m\u001b[43m=\u001b[49m\u001b[43mconda_env\u001b[49m\u001b[43m,\u001b[49m\n\u001b[32m    417\u001b[39m \u001b[43m        \u001b[49m\u001b[43mcode_paths\u001b[49m\u001b[43m=\u001b[49m\u001b[43mcode_paths\u001b[49m\u001b[43m,\u001b[49m\n\u001b[32m    418\u001b[39m \u001b[43m        \u001b[49m\u001b[43mserialization_format\u001b[49m\u001b[43m=\u001b[49m\u001b[43mserialization_format\u001b[49m\u001b[43m,\u001b[49m\n\u001b[32m    419\u001b[39m \u001b[43m        \u001b[49m\u001b[43mregistered_model_name\u001b[49m\u001b[43m=\u001b[49m\u001b[43mregistered_model_name\u001b[49m\u001b[43m,\u001b[49m\n\u001b[32m    420\u001b[39m \u001b[43m        \u001b[49m\u001b[43msignature\u001b[49m\u001b[43m=\u001b[49m\u001b[43msignature\u001b[49m\u001b[43m,\u001b[49m\n\u001b[32m    421\u001b[39m \u001b[43m        \u001b[49m\u001b[43minput_example\u001b[49m\u001b[43m=\u001b[49m\u001b[43minput_example\u001b[49m\u001b[43m,\u001b[49m\n\u001b[32m    422\u001b[39m \u001b[43m        \u001b[49m\u001b[43mawait_registration_for\u001b[49m\u001b[43m=\u001b[49m\u001b[43mawait_registration_for\u001b[49m\u001b[43m,\u001b[49m\n\u001b[32m    423\u001b[39m \u001b[43m        \u001b[49m\u001b[43mpip_requirements\u001b[49m\u001b[43m=\u001b[49m\u001b[43mpip_requirements\u001b[49m\u001b[43m,\u001b[49m\n\u001b[32m    424\u001b[39m \u001b[43m        \u001b[49m\u001b[43mextra_pip_requirements\u001b[49m\u001b[43m=\u001b[49m\u001b[43mextra_pip_requirements\u001b[49m\u001b[43m,\u001b[49m\n\u001b[32m    425\u001b[39m \u001b[43m        \u001b[49m\u001b[43mpyfunc_predict_fn\u001b[49m\u001b[43m=\u001b[49m\u001b[43mpyfunc_predict_fn\u001b[49m\u001b[43m,\u001b[49m\n\u001b[32m    426\u001b[39m \u001b[43m        \u001b[49m\u001b[43mmetadata\u001b[49m\u001b[43m=\u001b[49m\u001b[43mmetadata\u001b[49m\u001b[43m,\u001b[49m\n\u001b[32m    427\u001b[39m \u001b[43m    \u001b[49m\u001b[43m)\u001b[49m\n",
      "\u001b[36mFile \u001b[39m\u001b[32mc:\\Users\\DELL\\miniconda3\\envs\\simple_env\\Lib\\site-packages\\mlflow\\models\\model.py:725\u001b[39m, in \u001b[36mModel.log\u001b[39m\u001b[34m(cls, artifact_path, flavor, registered_model_name, await_registration_for, metadata, run_id, resources, **kwargs)\u001b[39m\n\u001b[32m    721\u001b[39m     run_id = mlflow.tracking.fluent._get_or_start_run().info.run_id\n\u001b[32m    722\u001b[39m mlflow_model = \u001b[38;5;28mcls\u001b[39m(\n\u001b[32m    723\u001b[39m     artifact_path=artifact_path, run_id=run_id, metadata=metadata, resources=resources\n\u001b[32m    724\u001b[39m )\n\u001b[32m--> \u001b[39m\u001b[32m725\u001b[39m \u001b[43mflavor\u001b[49m\u001b[43m.\u001b[49m\u001b[43msave_model\u001b[49m\u001b[43m(\u001b[49m\u001b[43mpath\u001b[49m\u001b[43m=\u001b[49m\u001b[43mlocal_path\u001b[49m\u001b[43m,\u001b[49m\u001b[43m \u001b[49m\u001b[43mmlflow_model\u001b[49m\u001b[43m=\u001b[49m\u001b[43mmlflow_model\u001b[49m\u001b[43m,\u001b[49m\u001b[43m \u001b[49m\u001b[43m*\u001b[49m\u001b[43m*\u001b[49m\u001b[43mkwargs\u001b[49m\u001b[43m)\u001b[49m\n\u001b[32m    726\u001b[39m \u001b[38;5;66;03m# `save_model` calls `load_model` to infer the model requirements, which may result in\u001b[39;00m\n\u001b[32m    727\u001b[39m \u001b[38;5;66;03m# __pycache__ directories being created in the model directory.\u001b[39;00m\n\u001b[32m    728\u001b[39m \u001b[38;5;28;01mfor\u001b[39;00m pycache \u001b[38;5;129;01min\u001b[39;00m Path(local_path).rglob(\u001b[33m\"\u001b[39m\u001b[33m__pycache__\u001b[39m\u001b[33m\"\u001b[39m):\n",
      "\u001b[36mFile \u001b[39m\u001b[32mc:\\Users\\DELL\\miniconda3\\envs\\simple_env\\Lib\\site-packages\\mlflow\\sklearn\\__init__.py:304\u001b[39m, in \u001b[36msave_model\u001b[39m\u001b[34m(sk_model, path, conda_env, code_paths, mlflow_model, serialization_format, signature, input_example, pip_requirements, extra_pip_requirements, pyfunc_predict_fn, metadata)\u001b[39m\n\u001b[32m    301\u001b[39m     default_reqs = get_default_pip_requirements(include_cloudpickle)\n\u001b[32m    302\u001b[39m     \u001b[38;5;66;03m# To ensure `_load_pyfunc` can successfully load the model during the dependency\u001b[39;00m\n\u001b[32m    303\u001b[39m     \u001b[38;5;66;03m# inference, `mlflow_model.save` must be called beforehand to save an MLmodel file.\u001b[39;00m\n\u001b[32m--> \u001b[39m\u001b[32m304\u001b[39m     inferred_reqs = \u001b[43mmlflow\u001b[49m\u001b[43m.\u001b[49m\u001b[43mmodels\u001b[49m\u001b[43m.\u001b[49m\u001b[43minfer_pip_requirements\u001b[49m\u001b[43m(\u001b[49m\n\u001b[32m    305\u001b[39m \u001b[43m        \u001b[49m\u001b[43mmodel_data_path\u001b[49m\u001b[43m,\u001b[49m\n\u001b[32m    306\u001b[39m \u001b[43m        \u001b[49m\u001b[43mFLAVOR_NAME\u001b[49m\u001b[43m,\u001b[49m\n\u001b[32m    307\u001b[39m \u001b[43m        \u001b[49m\u001b[43mfallback\u001b[49m\u001b[43m=\u001b[49m\u001b[43mdefault_reqs\u001b[49m\u001b[43m,\u001b[49m\n\u001b[32m    308\u001b[39m \u001b[43m    \u001b[49m\u001b[43m)\u001b[49m\n\u001b[32m    309\u001b[39m     default_reqs = \u001b[38;5;28msorted\u001b[39m(\u001b[38;5;28mset\u001b[39m(inferred_reqs).union(default_reqs))\n\u001b[32m    310\u001b[39m \u001b[38;5;28;01melse\u001b[39;00m:\n",
      "\u001b[36mFile \u001b[39m\u001b[32mc:\\Users\\DELL\\miniconda3\\envs\\simple_env\\Lib\\site-packages\\mlflow\\utils\\environment.py:417\u001b[39m, in \u001b[36minfer_pip_requirements\u001b[39m\u001b[34m(model_uri, flavor, fallback, timeout)\u001b[39m\n\u001b[32m    415\u001b[39m             \u001b[38;5;28;01mreturn\u001b[39;00m _infer_requirements(model_uri, flavor, raise_on_error=raise_on_error)\n\u001b[32m    416\u001b[39m     \u001b[38;5;28;01melse\u001b[39;00m:\n\u001b[32m--> \u001b[39m\u001b[32m417\u001b[39m         \u001b[38;5;28;01mreturn\u001b[39;00m \u001b[43m_infer_requirements\u001b[49m\u001b[43m(\u001b[49m\u001b[43mmodel_uri\u001b[49m\u001b[43m,\u001b[49m\u001b[43m \u001b[49m\u001b[43mflavor\u001b[49m\u001b[43m,\u001b[49m\u001b[43m \u001b[49m\u001b[43mraise_on_error\u001b[49m\u001b[43m=\u001b[49m\u001b[43mraise_on_error\u001b[49m\u001b[43m)\u001b[49m\n\u001b[32m    418\u001b[39m \u001b[38;5;28;01mexcept\u001b[39;00m \u001b[38;5;167;01mException\u001b[39;00m \u001b[38;5;28;01mas\u001b[39;00m e:\n\u001b[32m    419\u001b[39m     \u001b[38;5;28;01mif\u001b[39;00m raise_on_error \u001b[38;5;129;01mor\u001b[39;00m (fallback \u001b[38;5;129;01mis\u001b[39;00m \u001b[38;5;28;01mNone\u001b[39;00m):\n",
      "\u001b[36mFile \u001b[39m\u001b[32mc:\\Users\\DELL\\miniconda3\\envs\\simple_env\\Lib\\site-packages\\mlflow\\utils\\requirements_utils.py:502\u001b[39m, in \u001b[36m_infer_requirements\u001b[39m\u001b[34m(model_uri, flavor, raise_on_error)\u001b[39m\n\u001b[32m    499\u001b[39m \u001b[38;5;28;01mif\u001b[39;00m _PYPI_PACKAGE_INDEX \u001b[38;5;129;01mis\u001b[39;00m \u001b[38;5;28;01mNone\u001b[39;00m:\n\u001b[32m    500\u001b[39m     _PYPI_PACKAGE_INDEX = _load_pypi_package_index()\n\u001b[32m--> \u001b[39m\u001b[32m502\u001b[39m modules = \u001b[43m_capture_imported_modules\u001b[49m\u001b[43m(\u001b[49m\u001b[43mmodel_uri\u001b[49m\u001b[43m,\u001b[49m\u001b[43m \u001b[49m\u001b[43mflavor\u001b[49m\u001b[43m)\u001b[49m\n\u001b[32m    503\u001b[39m packages = _flatten([_MODULES_TO_PACKAGES.get(module, []) \u001b[38;5;28;01mfor\u001b[39;00m module \u001b[38;5;129;01min\u001b[39;00m modules])\n\u001b[32m    504\u001b[39m packages = \u001b[38;5;28mmap\u001b[39m(_normalize_package_name, packages)\n",
      "\u001b[36mFile \u001b[39m\u001b[32mc:\\Users\\DELL\\miniconda3\\envs\\simple_env\\Lib\\site-packages\\mlflow\\utils\\requirements_utils.py:379\u001b[39m, in \u001b[36m_capture_imported_modules\u001b[39m\u001b[34m(model_uri, flavor, record_full_module)\u001b[39m\n\u001b[32m    376\u001b[39m \u001b[38;5;28;01mfrom\u001b[39;00m\u001b[38;5;250m \u001b[39m\u001b[34;01mmlflow\u001b[39;00m\u001b[34;01m.\u001b[39;00m\u001b[34;01mutils\u001b[39;00m\u001b[38;5;250m \u001b[39m\u001b[38;5;28;01mimport\u001b[39;00m _capture_modules\n\u001b[32m    378\u001b[39m error_file = os.path.join(tmpdir, \u001b[33m\"\u001b[39m\u001b[33merror.txt\u001b[39m\u001b[33m\"\u001b[39m)\n\u001b[32m--> \u001b[39m\u001b[32m379\u001b[39m \u001b[43m_run_command\u001b[49m\u001b[43m(\u001b[49m\n\u001b[32m    380\u001b[39m \u001b[43m    \u001b[49m\u001b[43m[\u001b[49m\n\u001b[32m    381\u001b[39m \u001b[43m        \u001b[49m\u001b[43msys\u001b[49m\u001b[43m.\u001b[49m\u001b[43mexecutable\u001b[49m\u001b[43m,\u001b[49m\n\u001b[32m    382\u001b[39m \u001b[43m        \u001b[49m\u001b[43m_capture_modules\u001b[49m\u001b[43m.\u001b[49m\u001b[34;43m__file__\u001b[39;49m\u001b[43m,\u001b[49m\n\u001b[32m    383\u001b[39m \u001b[43m        \u001b[49m\u001b[33;43m\"\u001b[39;49m\u001b[33;43m--model-path\u001b[39;49m\u001b[33;43m\"\u001b[39;49m\u001b[43m,\u001b[49m\n\u001b[32m    384\u001b[39m \u001b[43m        \u001b[49m\u001b[43mlocal_model_path\u001b[49m\u001b[43m,\u001b[49m\n\u001b[32m    385\u001b[39m \u001b[43m        \u001b[49m\u001b[33;43m\"\u001b[39;49m\u001b[33;43m--flavor\u001b[39;49m\u001b[33;43m\"\u001b[39;49m\u001b[43m,\u001b[49m\n\u001b[32m    386\u001b[39m \u001b[43m        \u001b[49m\u001b[43mflavor\u001b[49m\u001b[43m,\u001b[49m\n\u001b[32m    387\u001b[39m \u001b[43m        \u001b[49m\u001b[33;43m\"\u001b[39;49m\u001b[33;43m--output-file\u001b[39;49m\u001b[33;43m\"\u001b[39;49m\u001b[43m,\u001b[49m\n\u001b[32m    388\u001b[39m \u001b[43m        \u001b[49m\u001b[43moutput_file\u001b[49m\u001b[43m,\u001b[49m\n\u001b[32m    389\u001b[39m \u001b[43m        \u001b[49m\u001b[33;43m\"\u001b[39;49m\u001b[33;43m--error-file\u001b[39;49m\u001b[33;43m\"\u001b[39;49m\u001b[43m,\u001b[49m\n\u001b[32m    390\u001b[39m \u001b[43m        \u001b[49m\u001b[43merror_file\u001b[49m\u001b[43m,\u001b[49m\n\u001b[32m    391\u001b[39m \u001b[43m        \u001b[49m\u001b[33;43m\"\u001b[39;49m\u001b[33;43m--sys-path\u001b[39;49m\u001b[33;43m\"\u001b[39;49m\u001b[43m,\u001b[49m\n\u001b[32m    392\u001b[39m \u001b[43m        \u001b[49m\u001b[43mjson\u001b[49m\u001b[43m.\u001b[49m\u001b[43mdumps\u001b[49m\u001b[43m(\u001b[49m\u001b[43msys\u001b[49m\u001b[43m.\u001b[49m\u001b[43mpath\u001b[49m\u001b[43m)\u001b[49m\u001b[43m,\u001b[49m\n\u001b[32m    393\u001b[39m \u001b[43m        \u001b[49m\u001b[43m*\u001b[49m\u001b[43mrecord_full_module_args\u001b[49m\u001b[43m,\u001b[49m\n\u001b[32m    394\u001b[39m \u001b[43m    \u001b[49m\u001b[43m]\u001b[49m\u001b[43m,\u001b[49m\n\u001b[32m    395\u001b[39m \u001b[43m    \u001b[49m\u001b[43mtimeout_seconds\u001b[49m\u001b[43m=\u001b[49m\u001b[43mprocess_timeout\u001b[49m\u001b[43m,\u001b[49m\n\u001b[32m    396\u001b[39m \u001b[43m    \u001b[49m\u001b[43menv\u001b[49m\u001b[43m=\u001b[49m\u001b[43m{\u001b[49m\n\u001b[32m    397\u001b[39m \u001b[43m        \u001b[49m\u001b[43m*\u001b[49m\u001b[43m*\u001b[49m\u001b[43mmain_env\u001b[49m\u001b[43m,\u001b[49m\n\u001b[32m    398\u001b[39m \u001b[43m        \u001b[49m\u001b[43m_MLFLOW_IN_CAPTURE_MODULE_PROCESS\u001b[49m\u001b[43m.\u001b[49m\u001b[43mname\u001b[49m\u001b[43m:\u001b[49m\u001b[43m \u001b[49m\u001b[33;43m\"\u001b[39;49m\u001b[33;43mtrue\u001b[39;49m\u001b[33;43m\"\u001b[39;49m\u001b[43m,\u001b[49m\n\u001b[32m    399\u001b[39m \u001b[43m    \u001b[49m\u001b[43m}\u001b[49m\u001b[43m,\u001b[49m\n\u001b[32m    400\u001b[39m \u001b[43m\u001b[49m\u001b[43m)\u001b[49m\n\u001b[32m    402\u001b[39m \u001b[38;5;28;01mif\u001b[39;00m os.path.exists(error_file):\n\u001b[32m    403\u001b[39m     \u001b[38;5;28;01mwith\u001b[39;00m \u001b[38;5;28mopen\u001b[39m(error_file) \u001b[38;5;28;01mas\u001b[39;00m f:\n",
      "\u001b[36mFile \u001b[39m\u001b[32mc:\\Users\\DELL\\miniconda3\\envs\\simple_env\\Lib\\site-packages\\mlflow\\utils\\requirements_utils.py:252\u001b[39m, in \u001b[36m_run_command\u001b[39m\u001b[34m(cmd, timeout_seconds, env)\u001b[39m\n\u001b[32m    250\u001b[39m \u001b[38;5;28;01mtry\u001b[39;00m:\n\u001b[32m    251\u001b[39m     timer.start()\n\u001b[32m--> \u001b[39m\u001b[32m252\u001b[39m     stdout, stderr = \u001b[43mproc\u001b[49m\u001b[43m.\u001b[49m\u001b[43mcommunicate\u001b[49m\u001b[43m(\u001b[49m\u001b[43m)\u001b[49m\n\u001b[32m    253\u001b[39m     stdout = stdout.decode(\u001b[33m\"\u001b[39m\u001b[33mutf-8\u001b[39m\u001b[33m\"\u001b[39m)\n\u001b[32m    254\u001b[39m     stderr = stderr.decode(\u001b[33m\"\u001b[39m\u001b[33mutf-8\u001b[39m\u001b[33m\"\u001b[39m)\n",
      "\u001b[36mFile \u001b[39m\u001b[32mc:\\Users\\DELL\\miniconda3\\envs\\simple_env\\Lib\\subprocess.py:1209\u001b[39m, in \u001b[36mPopen.communicate\u001b[39m\u001b[34m(self, input, timeout)\u001b[39m\n\u001b[32m   1206\u001b[39m     endtime = \u001b[38;5;28;01mNone\u001b[39;00m\n\u001b[32m   1208\u001b[39m \u001b[38;5;28;01mtry\u001b[39;00m:\n\u001b[32m-> \u001b[39m\u001b[32m1209\u001b[39m     stdout, stderr = \u001b[38;5;28;43mself\u001b[39;49m\u001b[43m.\u001b[49m\u001b[43m_communicate\u001b[49m\u001b[43m(\u001b[49m\u001b[38;5;28;43minput\u001b[39;49m\u001b[43m,\u001b[49m\u001b[43m \u001b[49m\u001b[43mendtime\u001b[49m\u001b[43m,\u001b[49m\u001b[43m \u001b[49m\u001b[43mtimeout\u001b[49m\u001b[43m)\u001b[49m\n\u001b[32m   1210\u001b[39m \u001b[38;5;28;01mexcept\u001b[39;00m \u001b[38;5;167;01mKeyboardInterrupt\u001b[39;00m:\n\u001b[32m   1211\u001b[39m     \u001b[38;5;66;03m# https://bugs.python.org/issue25942\u001b[39;00m\n\u001b[32m   1212\u001b[39m     \u001b[38;5;66;03m# See the detailed comment in .wait().\u001b[39;00m\n\u001b[32m   1213\u001b[39m     \u001b[38;5;28;01mif\u001b[39;00m timeout \u001b[38;5;129;01mis\u001b[39;00m \u001b[38;5;129;01mnot\u001b[39;00m \u001b[38;5;28;01mNone\u001b[39;00m:\n",
      "\u001b[36mFile \u001b[39m\u001b[32mc:\\Users\\DELL\\miniconda3\\envs\\simple_env\\Lib\\subprocess.py:1628\u001b[39m, in \u001b[36mPopen._communicate\u001b[39m\u001b[34m(self, input, endtime, orig_timeout)\u001b[39m\n\u001b[32m   1624\u001b[39m \u001b[38;5;66;03m# Wait for the reader threads, or time out.  If we time out, the\u001b[39;00m\n\u001b[32m   1625\u001b[39m \u001b[38;5;66;03m# threads remain reading and the fds left open in case the user\u001b[39;00m\n\u001b[32m   1626\u001b[39m \u001b[38;5;66;03m# calls communicate again.\u001b[39;00m\n\u001b[32m   1627\u001b[39m \u001b[38;5;28;01mif\u001b[39;00m \u001b[38;5;28mself\u001b[39m.stdout \u001b[38;5;129;01mis\u001b[39;00m \u001b[38;5;129;01mnot\u001b[39;00m \u001b[38;5;28;01mNone\u001b[39;00m:\n\u001b[32m-> \u001b[39m\u001b[32m1628\u001b[39m     \u001b[38;5;28;43mself\u001b[39;49m\u001b[43m.\u001b[49m\u001b[43mstdout_thread\u001b[49m\u001b[43m.\u001b[49m\u001b[43mjoin\u001b[49m\u001b[43m(\u001b[49m\u001b[38;5;28;43mself\u001b[39;49m\u001b[43m.\u001b[49m\u001b[43m_remaining_time\u001b[49m\u001b[43m(\u001b[49m\u001b[43mendtime\u001b[49m\u001b[43m)\u001b[49m\u001b[43m)\u001b[49m\n\u001b[32m   1629\u001b[39m     \u001b[38;5;28;01mif\u001b[39;00m \u001b[38;5;28mself\u001b[39m.stdout_thread.is_alive():\n\u001b[32m   1630\u001b[39m         \u001b[38;5;28;01mraise\u001b[39;00m TimeoutExpired(\u001b[38;5;28mself\u001b[39m.args, orig_timeout)\n",
      "\u001b[36mFile \u001b[39m\u001b[32mc:\\Users\\DELL\\miniconda3\\envs\\simple_env\\Lib\\threading.py:1119\u001b[39m, in \u001b[36mThread.join\u001b[39m\u001b[34m(self, timeout)\u001b[39m\n\u001b[32m   1116\u001b[39m     \u001b[38;5;28;01mraise\u001b[39;00m \u001b[38;5;167;01mRuntimeError\u001b[39;00m(\u001b[33m\"\u001b[39m\u001b[33mcannot join current thread\u001b[39m\u001b[33m\"\u001b[39m)\n\u001b[32m   1118\u001b[39m \u001b[38;5;28;01mif\u001b[39;00m timeout \u001b[38;5;129;01mis\u001b[39;00m \u001b[38;5;28;01mNone\u001b[39;00m:\n\u001b[32m-> \u001b[39m\u001b[32m1119\u001b[39m     \u001b[38;5;28;43mself\u001b[39;49m\u001b[43m.\u001b[49m\u001b[43m_wait_for_tstate_lock\u001b[49m\u001b[43m(\u001b[49m\u001b[43m)\u001b[49m\n\u001b[32m   1120\u001b[39m \u001b[38;5;28;01melse\u001b[39;00m:\n\u001b[32m   1121\u001b[39m     \u001b[38;5;66;03m# the behavior of a negative timeout isn't documented, but\u001b[39;00m\n\u001b[32m   1122\u001b[39m     \u001b[38;5;66;03m# historically .join(timeout=x) for x<0 has acted as if timeout=0\u001b[39;00m\n\u001b[32m   1123\u001b[39m     \u001b[38;5;28mself\u001b[39m._wait_for_tstate_lock(timeout=\u001b[38;5;28mmax\u001b[39m(timeout, \u001b[32m0\u001b[39m))\n",
      "\u001b[36mFile \u001b[39m\u001b[32mc:\\Users\\DELL\\miniconda3\\envs\\simple_env\\Lib\\threading.py:1139\u001b[39m, in \u001b[36mThread._wait_for_tstate_lock\u001b[39m\u001b[34m(self, block, timeout)\u001b[39m\n\u001b[32m   1136\u001b[39m     \u001b[38;5;28;01mreturn\u001b[39;00m\n\u001b[32m   1138\u001b[39m \u001b[38;5;28;01mtry\u001b[39;00m:\n\u001b[32m-> \u001b[39m\u001b[32m1139\u001b[39m     \u001b[38;5;28;01mif\u001b[39;00m \u001b[43mlock\u001b[49m\u001b[43m.\u001b[49m\u001b[43macquire\u001b[49m\u001b[43m(\u001b[49m\u001b[43mblock\u001b[49m\u001b[43m,\u001b[49m\u001b[43m \u001b[49m\u001b[43mtimeout\u001b[49m\u001b[43m)\u001b[49m:\n\u001b[32m   1140\u001b[39m         lock.release()\n\u001b[32m   1141\u001b[39m         \u001b[38;5;28mself\u001b[39m._stop()\n",
      "\u001b[31mKeyboardInterrupt\u001b[39m: "
     ]
    },
    {
     "data": {
      "image/png": "[encoded data removed]",
      "text/plain": [
       "<Figure size 400x300 with 2 Axes>"
      ]
     },
     "metadata": {},
     "output_type": "display_data"
    }
   ],
   "source": [
    "mlflow.set_experiment('IMDB_1st')\n",
    "\n",
    "# --- Logging setup for notebook ---\n",
    "for h in logging.root.handlers[:]:\n",
    "    logging.root.removeHandler(h)\n",
    "logging.basicConfig(\n",
    "    level=logging.INFO,\n",
    "    format=\"%(asctime)s - %(levelname)s - %(message)s\",\n",
    "    handlers=[logging.StreamHandler(sys.stdout)],\n",
    "    force=True\n",
    ")\n",
    "\n",
    "X_train, X_test, y_train, y_test = train_test_split(X, y, test_size=0.25, random_state=42)\n",
    "\n",
    "# --- Define preprocessing methods ---\n",
    "vectorizers = {\n",
    "    \"CountVectorizer\": CountVectorizer(max_features=100),\n",
    "    \"TFIDFVectorizer\": TfidfVectorizer(max_features=100)\n",
    "}\n",
    "\n",
    "# --- Define algorithms and hyperparameters ---\n",
    "\n",
    "models = {\n",
    "    \"LogisticRegression\": {\n",
    "        \"estimator\": LogisticRegression(max_iter=1000, random_state=42),\n",
    "        \"param_grid\": {\n",
    "            \"C\": [0.01, 0.1, 1.0, 10.0],\n",
    "            \"solver\": [\"lbfgs\", \"liblinear\"]\n",
    "        }\n",
    "    },\n",
    "    \"RidgeClassifier\": {\n",
    "        \"estimator\": RidgeClassifier(random_state=42),\n",
    "        \"param_grid\": {\n",
    "            \"alpha\": [0.1, 1.0, 10.0]\n",
    "        }\n",
    "    },\n",
    "    \"DecisionTree\": {\n",
    "        \"estimator\": DecisionTreeClassifier(random_state=42),\n",
    "        \"param_grid\": {\n",
    "            \"max_depth\": [None, 5, 10, 20],\n",
    "            \"min_samples_split\": [2, 5, 10]\n",
    "        }\n",
    "    },\n",
    "    \"RandomForest\": {\n",
    "        \"estimator\": RandomForestClassifier(random_state=42),\n",
    "        \"param_grid\": {\n",
    "            \"n_estimators\": [50, 100, 150, 200],\n",
    "            \"max_depth\": [None, 10, 20],\n",
    "            \"min_samples_split\": [2, 5, 10]\n",
    "        }\n",
    "    },\n",
    "    \"GradientBoosting\": {\n",
    "        \"estimator\": GradientBoostingClassifier(random_state=42),\n",
    "        \"param_grid\": {\n",
    "            \"n_estimators\": [100, 200],\n",
    "            \"learning_rate\": [0.01, 0.1, 0.2],\n",
    "            \"max_depth\": [3, 5, 7]\n",
    "        }\n",
    "    },\n",
    "    \"AdaBoost\": {\n",
    "        \"estimator\": AdaBoostClassifier(random_state=42),\n",
    "        \"param_grid\": {\n",
    "            \"n_estimators\": [50, 100, 200],\n",
    "            \"learning_rate\": [0.01, 0.1, 1.0]\n",
    "        }\n",
    "    },\n",
    "    \"SVM\": {\n",
    "        \"estimator\": SVC(probability=True, random_state=42),\n",
    "        \"param_grid\": {\n",
    "            \"C\": [0.1, 1, 10],\n",
    "            \"kernel\": [\"linear\", \"rbf\"]\n",
    "        }\n",
    "    },\n",
    "    \"KNN\": {\n",
    "        \"estimator\": KNeighborsClassifier(),\n",
    "        \"param_grid\": {\n",
    "            \"n_neighbors\": [3, 5, 7, 9],\n",
    "            \"weights\": [\"uniform\", \"distance\"]\n",
    "        }\n",
    "    },\n",
    "    \"XGBoost\": {\n",
    "        \"estimator\": XGBClassifier(use_label_encoder=False, eval_metric='logloss', random_state=42),\n",
    "        \"param_grid\": {\n",
    "            \"n_estimators\": [100, 200],\n",
    "            \"learning_rate\": [0.01, 0.1, 0.2],\n",
    "            \"max_depth\": [3, 5, 7]\n",
    "        }\n",
    "    },\n",
    "    \"LightGBM\": {\n",
    "        \"estimator\": LGBMClassifier(random_state=42),\n",
    "        \"param_grid\": {\n",
    "            \"n_estimators\": [100, 200],\n",
    "            \"learning_rate\": [0.01, 0.1, 0.2],\n",
    "            \"num_leaves\": [31, 50, 100]\n",
    "        }\n",
    "    }\n",
    "}\n",
    "\n",
    "\n",
    "\n",
    "\n",
    "# --- Loop through all combinations ---\n",
    "for vec_name, vec in vectorizers.items():\n",
    "    logging.info(f\"Vectorizer: {vec_name}\")\n",
    "\n",
    "    X_train_vec = vec.fit_transform(X_train)\n",
    "    X_test_vec = vec.transform(X_test)\n",
    "\n",
    "    for model_name, model_info in models.items():\n",
    "        logging.info(f\"Training model: {model_name}\")\n",
    "\n",
    "        with mlflow.start_run(run_name=f\"{vec_name}_{model_name}\"):\n",
    "\n",
    "            start_time = time.time()\n",
    "\n",
    "            # Fit GridSearchCV\n",
    "            grid = GridSearchCV(\n",
    "                estimator=model_info[\"estimator\"],\n",
    "                param_grid=model_info[\"param_grid\"],\n",
    "                cv=3,\n",
    "                n_jobs=-1,\n",
    "                verbose=0\n",
    "            )\n",
    "\n",
    "            grid.fit(X_train_vec, y_train)\n",
    "            best_model = grid.best_estimator_\n",
    "\n",
    "            y_pred = best_model.predict(X_test_vec)\n",
    "\n",
    "            # --- Calculate metrics ---\n",
    "            acc = accuracy_score(y_test, y_pred)\n",
    "            prec = precision_score(y_test, y_pred)\n",
    "            rec = recall_score(y_test, y_pred)\n",
    "            f1 = f1_score(y_test, y_pred)\n",
    "\n",
    "            # --- Log parameters ---\n",
    "            mlflow.log_param(\"vectorizer\", vec_name)\n",
    "            mlflow.log_param(\"model\", model_name)\n",
    "            mlflow.log_params(grid.best_params_)\n",
    "\n",
    "            # --- Log metrics ---\n",
    "            mlflow.log_metrics({\n",
    "                \"accuracy\": acc,\n",
    "                \"precision\": prec,\n",
    "                \"recall\": rec,\n",
    "                \"f1\": f1\n",
    "            })\n",
    "\n",
    "            # --- Log classification report ---\n",
    "            report = classification_report(y_test, y_pred, output_dict=True)\n",
    "            mlflow.log_dict(report, \"classification_report.json\")\n",
    "\n",
    "            # --- Log confusion matrix ---\n",
    "            conf = confusion_matrix(y_test, y_pred)\n",
    "            conf_dict = {\"confusion_matrix\": conf.tolist()}\n",
    "            mlflow.log_dict(conf_dict, \"confusion_matrix.json\")\n",
    "\n",
    "            # --- Optional: confusion matrix plot ---\n",
    "            plt.figure(figsize=(4,3))\n",
    "            sns.heatmap(conf, annot=True, fmt=\"d\", cmap=\"Blues\")\n",
    "            plt.xlabel(\"Predicted\")\n",
    "            plt.ylabel(\"Actual\")\n",
    "            plt.title(f\"{vec_name} + {model_name}\")\n",
    "            plt.tight_layout()\n",
    "            plt.savefig(\"confusion_matrix.png\")\n",
    "            mlflow.log_artifact(\"confusion_matrix.png\")\n",
    "\n",
    "            # --- Log model ---\n",
    "            input_example = (\n",
    "                X_test_vec[:5].toarray() if scipy.sparse.issparse(X_test_vec)\n",
    "                else X_test_vec[:5]\n",
    "            )\n",
    "            mlflow.sklearn.log_model(best_model, \"model\", input_example=input_example)\n",
    "\n",
    "            end_time = time.time()\n",
    "            mlflow.log_metric(\"training_time_sec\", end_time - start_time)\n",
    "\n",
    "            logging.info(f\"{vec_name} + {model_name} -> acc={acc:.3f}, f1={f1:.3f}\")"
   ]
  },
  {
   "cell_type": "code",
   "execution_count": 14,
   "id": "e8b319f8",
   "metadata": {},
   "outputs": [
    {
     "name": "stdout",
     "output_type": "stream",
     "text": [
      "2025-10-22 17:03:52,955 - INFO - Vectorizer: TFIDFVectorizer\n",
      "2025-10-22 17:03:53,296 - INFO - Training model: LogisticRegression\n"
     ]
    },
    {
     "name": "stderr",
     "output_type": "stream",
     "text": [
      "2025/10/22 17:04:11 INFO mlflow.tracking._tracking_service.client: 🏃 View run TFIDFVectorizer_LogisticRegression_grid_0 at: https://dagshub.com/Jugal-lachhwani/Data-Capstone-Project.mlflow/#/experiments/3/runs/49fe527019854101bc56b3ff98affb52.\n",
      "2025/10/22 17:04:11 INFO mlflow.tracking._tracking_service.client: 🧪 View experiment at: https://dagshub.com/Jugal-lachhwani/Data-Capstone-Project.mlflow/#/experiments/3.\n",
      "2025/10/22 17:04:15 INFO mlflow.tracking._tracking_service.client: 🏃 View run TFIDFVectorizer_LogisticRegression_grid_1 at: https://dagshub.com/Jugal-lachhwani/Data-Capstone-Project.mlflow/#/experiments/3/runs/97676347d631440098f30178285ce7f1.\n",
      "2025/10/22 17:04:15 INFO mlflow.tracking._tracking_service.client: 🧪 View experiment at: https://dagshub.com/Jugal-lachhwani/Data-Capstone-Project.mlflow/#/experiments/3.\n"
     ]
    },
    {
     "name": "stdout",
     "output_type": "stream",
     "text": [
      "2025-10-22 17:04:18,429 - INFO - Best params found: {'C': 0.1, 'solver': 'lbfgs'}\n"
     ]
    },
    {
     "name": "stderr",
     "output_type": "stream",
     "text": [
      "Downloading artifacts: 100%|██████████| 7/7 [00:02<00:00,  2.45it/s]\n"
     ]
    },
    {
     "name": "stdout",
     "output_type": "stream",
     "text": [
      "2025-10-22 17:04:42,837 - INFO - TFIDFVectorizer + LogisticRegression -> acc=0.688, f1=0.655\n"
     ]
    },
    {
     "name": "stderr",
     "output_type": "stream",
     "text": [
      "2025/10/22 17:04:43 INFO mlflow.tracking._tracking_service.client: 🏃 View run TFIDFVectorizer_LogisticRegression_grid_2 at: https://dagshub.com/Jugal-lachhwani/Data-Capstone-Project.mlflow/#/experiments/3/runs/24fd5b43c8854cdfa66fa3e25b3328d8.\n",
      "2025/10/22 17:04:43 INFO mlflow.tracking._tracking_service.client: 🧪 View experiment at: https://dagshub.com/Jugal-lachhwani/Data-Capstone-Project.mlflow/#/experiments/3.\n",
      "2025/10/22 17:04:51 INFO mlflow.tracking._tracking_service.client: 🏃 View run TFIDFVectorizer_LogisticRegression_grid_3 at: https://dagshub.com/Jugal-lachhwani/Data-Capstone-Project.mlflow/#/experiments/3/runs/0a7233ff2c5d4692814ade4138a01137.\n",
      "2025/10/22 17:04:51 INFO mlflow.tracking._tracking_service.client: 🧪 View experiment at: https://dagshub.com/Jugal-lachhwani/Data-Capstone-Project.mlflow/#/experiments/3.\n",
      "2025/10/22 17:04:59 INFO mlflow.tracking._tracking_service.client: 🏃 View run TFIDFVectorizer_LogisticRegression_grid_4 at: https://dagshub.com/Jugal-lachhwani/Data-Capstone-Project.mlflow/#/experiments/3/runs/a3095a20e91b4ae5a59c027d8c18895a.\n",
      "2025/10/22 17:04:59 INFO mlflow.tracking._tracking_service.client: 🧪 View experiment at: https://dagshub.com/Jugal-lachhwani/Data-Capstone-Project.mlflow/#/experiments/3.\n",
      "2025/10/22 17:05:07 INFO mlflow.tracking._tracking_service.client: 🏃 View run TFIDFVectorizer_LogisticRegression_grid_5 at: https://dagshub.com/Jugal-lachhwani/Data-Capstone-Project.mlflow/#/experiments/3/runs/a6c910bfd71745bb86bb280d7630263d.\n",
      "2025/10/22 17:05:07 INFO mlflow.tracking._tracking_service.client: 🧪 View experiment at: https://dagshub.com/Jugal-lachhwani/Data-Capstone-Project.mlflow/#/experiments/3.\n",
      "2025/10/22 17:05:15 INFO mlflow.tracking._tracking_service.client: 🏃 View run TFIDFVectorizer_LogisticRegression_grid_6 at: https://dagshub.com/Jugal-lachhwani/Data-Capstone-Project.mlflow/#/experiments/3/runs/0394ac157e8541b29372ed8f7962901f.\n",
      "2025/10/22 17:05:15 INFO mlflow.tracking._tracking_service.client: 🧪 View experiment at: https://dagshub.com/Jugal-lachhwani/Data-Capstone-Project.mlflow/#/experiments/3.\n",
      "2025/10/22 17:05:23 INFO mlflow.tracking._tracking_service.client: 🏃 View run TFIDFVectorizer_LogisticRegression_grid_7 at: https://dagshub.com/Jugal-lachhwani/Data-Capstone-Project.mlflow/#/experiments/3/runs/c3457a23fa14488eb523affc2dc3d1f4.\n",
      "2025/10/22 17:05:23 INFO mlflow.tracking._tracking_service.client: 🧪 View experiment at: https://dagshub.com/Jugal-lachhwani/Data-Capstone-Project.mlflow/#/experiments/3.\n"
     ]
    },
    {
     "name": "stdout",
     "output_type": "stream",
     "text": [
      "2025-10-22 17:05:24,416 - INFO - Training model: RidgeClassifier\n"
     ]
    },
    {
     "name": "stderr",
     "output_type": "stream",
     "text": [
      "2025/10/22 17:05:31 INFO mlflow.tracking._tracking_service.client: 🏃 View run TFIDFVectorizer_RidgeClassifier_grid_0 at: https://dagshub.com/Jugal-lachhwani/Data-Capstone-Project.mlflow/#/experiments/3/runs/6bd82467c4d94e9ba353f5f83ff0c6cd.\n",
      "2025/10/22 17:05:31 INFO mlflow.tracking._tracking_service.client: 🧪 View experiment at: https://dagshub.com/Jugal-lachhwani/Data-Capstone-Project.mlflow/#/experiments/3.\n"
     ]
    },
    {
     "name": "stdout",
     "output_type": "stream",
     "text": [
      "2025-10-22 17:05:38,413 - INFO - Best params found: {'alpha': 1.0}\n"
     ]
    },
    {
     "name": "stderr",
     "output_type": "stream",
     "text": [
      "Downloading artifacts: 100%|██████████| 7/7 [00:02<00:00,  3.02it/s]"
     ]
    },
    {
     "name": "stdout",
     "output_type": "stream",
     "text": [
      "2025-10-22 17:06:02,709 - INFO - TFIDFVectorizer + RidgeClassifier -> acc=0.688, f1=0.688\n"
     ]
    },
    {
     "name": "stderr",
     "output_type": "stream",
     "text": [
      "\n",
      "2025/10/22 17:06:03 INFO mlflow.tracking._tracking_service.client: 🏃 View run TFIDFVectorizer_RidgeClassifier_grid_1 at: https://dagshub.com/Jugal-lachhwani/Data-Capstone-Project.mlflow/#/experiments/3/runs/5acd4ba1c2a54acf9504f56aecb0ceb2.\n",
      "2025/10/22 17:06:03 INFO mlflow.tracking._tracking_service.client: 🧪 View experiment at: https://dagshub.com/Jugal-lachhwani/Data-Capstone-Project.mlflow/#/experiments/3.\n",
      "2025/10/22 17:06:11 INFO mlflow.tracking._tracking_service.client: 🏃 View run TFIDFVectorizer_RidgeClassifier_grid_2 at: https://dagshub.com/Jugal-lachhwani/Data-Capstone-Project.mlflow/#/experiments/3/runs/2f5046df3f5e4c62a9d68b443fe2e985.\n",
      "2025/10/22 17:06:11 INFO mlflow.tracking._tracking_service.client: 🧪 View experiment at: https://dagshub.com/Jugal-lachhwani/Data-Capstone-Project.mlflow/#/experiments/3.\n"
     ]
    },
    {
     "name": "stdout",
     "output_type": "stream",
     "text": [
      "2025-10-22 17:06:12,471 - INFO - Training model: DecisionTree\n"
     ]
    },
    {
     "name": "stderr",
     "output_type": "stream",
     "text": [
      "2025/10/22 17:06:19 INFO mlflow.tracking._tracking_service.client: 🏃 View run TFIDFVectorizer_DecisionTree_grid_0 at: https://dagshub.com/Jugal-lachhwani/Data-Capstone-Project.mlflow/#/experiments/3/runs/44fe2827a2c24ff6bc38618f220e7d48.\n",
      "2025/10/22 17:06:19 INFO mlflow.tracking._tracking_service.client: 🧪 View experiment at: https://dagshub.com/Jugal-lachhwani/Data-Capstone-Project.mlflow/#/experiments/3.\n",
      "2025/10/22 17:06:27 INFO mlflow.tracking._tracking_service.client: 🏃 View run TFIDFVectorizer_DecisionTree_grid_1 at: https://dagshub.com/Jugal-lachhwani/Data-Capstone-Project.mlflow/#/experiments/3/runs/ba9344ffab8140009a649dd888d9aafe.\n",
      "2025/10/22 17:06:27 INFO mlflow.tracking._tracking_service.client: 🧪 View experiment at: https://dagshub.com/Jugal-lachhwani/Data-Capstone-Project.mlflow/#/experiments/3.\n",
      "2025/10/22 17:06:35 INFO mlflow.tracking._tracking_service.client: 🏃 View run TFIDFVectorizer_DecisionTree_grid_2 at: https://dagshub.com/Jugal-lachhwani/Data-Capstone-Project.mlflow/#/experiments/3/runs/360880ff0f3c4047a70495227815d6ad.\n",
      "2025/10/22 17:06:35 INFO mlflow.tracking._tracking_service.client: 🧪 View experiment at: https://dagshub.com/Jugal-lachhwani/Data-Capstone-Project.mlflow/#/experiments/3.\n",
      "2025/10/22 17:06:43 INFO mlflow.tracking._tracking_service.client: 🏃 View run TFIDFVectorizer_DecisionTree_grid_3 at: https://dagshub.com/Jugal-lachhwani/Data-Capstone-Project.mlflow/#/experiments/3/runs/d5d368378c954e48b91121cdea31d0de.\n",
      "2025/10/22 17:06:43 INFO mlflow.tracking._tracking_service.client: 🧪 View experiment at: https://dagshub.com/Jugal-lachhwani/Data-Capstone-Project.mlflow/#/experiments/3.\n"
     ]
    },
    {
     "name": "stdout",
     "output_type": "stream",
     "text": [
      "2025-10-22 17:06:50,413 - INFO - Best params found: {'max_depth': 5, 'min_samples_split': 5}\n"
     ]
    },
    {
     "name": "stderr",
     "output_type": "stream",
     "text": [
      "Downloading artifacts: 100%|██████████| 7/7 [00:04<00:00,  1.49it/s]"
     ]
    },
    {
     "name": "stdout",
     "output_type": "stream",
     "text": [
      "2025-10-22 17:07:14,702 - INFO - TFIDFVectorizer + DecisionTree -> acc=0.560, f1=0.534\n"
     ]
    },
    {
     "name": "stderr",
     "output_type": "stream",
     "text": [
      "\n",
      "2025/10/22 17:07:15 INFO mlflow.tracking._tracking_service.client: 🏃 View run TFIDFVectorizer_DecisionTree_grid_4 at: https://dagshub.com/Jugal-lachhwani/Data-Capstone-Project.mlflow/#/experiments/3/runs/a3d4f021ad3b4ccdb6dd4cba402a0f35.\n",
      "2025/10/22 17:07:15 INFO mlflow.tracking._tracking_service.client: 🧪 View experiment at: https://dagshub.com/Jugal-lachhwani/Data-Capstone-Project.mlflow/#/experiments/3.\n",
      "2025/10/22 17:07:23 INFO mlflow.tracking._tracking_service.client: 🏃 View run TFIDFVectorizer_DecisionTree_grid_5 at: https://dagshub.com/Jugal-lachhwani/Data-Capstone-Project.mlflow/#/experiments/3/runs/5efb019174cc4d6fa405f7c9c2c33c8d.\n",
      "2025/10/22 17:07:23 INFO mlflow.tracking._tracking_service.client: 🧪 View experiment at: https://dagshub.com/Jugal-lachhwani/Data-Capstone-Project.mlflow/#/experiments/3.\n",
      "2025/10/22 17:07:31 INFO mlflow.tracking._tracking_service.client: 🏃 View run TFIDFVectorizer_DecisionTree_grid_6 at: https://dagshub.com/Jugal-lachhwani/Data-Capstone-Project.mlflow/#/experiments/3/runs/b46c11b8217a4f159dd972bfb3e95591.\n",
      "2025/10/22 17:07:31 INFO mlflow.tracking._tracking_service.client: 🧪 View experiment at: https://dagshub.com/Jugal-lachhwani/Data-Capstone-Project.mlflow/#/experiments/3.\n",
      "2025/10/22 17:07:39 INFO mlflow.tracking._tracking_service.client: 🏃 View run TFIDFVectorizer_DecisionTree_grid_7 at: https://dagshub.com/Jugal-lachhwani/Data-Capstone-Project.mlflow/#/experiments/3/runs/8ad6a9cc4f004101bcbd8d5bd78922fd.\n",
      "2025/10/22 17:07:39 INFO mlflow.tracking._tracking_service.client: 🧪 View experiment at: https://dagshub.com/Jugal-lachhwani/Data-Capstone-Project.mlflow/#/experiments/3.\n",
      "2025/10/22 17:07:47 INFO mlflow.tracking._tracking_service.client: 🏃 View run TFIDFVectorizer_DecisionTree_grid_8 at: https://dagshub.com/Jugal-lachhwani/Data-Capstone-Project.mlflow/#/experiments/3/runs/c8bb3f77487442ce9141a8e7b3f7a8fc.\n",
      "2025/10/22 17:07:47 INFO mlflow.tracking._tracking_service.client: 🧪 View experiment at: https://dagshub.com/Jugal-lachhwani/Data-Capstone-Project.mlflow/#/experiments/3.\n",
      "2025/10/22 17:07:55 INFO mlflow.tracking._tracking_service.client: 🏃 View run TFIDFVectorizer_DecisionTree_grid_9 at: https://dagshub.com/Jugal-lachhwani/Data-Capstone-Project.mlflow/#/experiments/3/runs/48ae73711822409a81f47f75de5b5e15.\n",
      "2025/10/22 17:07:55 INFO mlflow.tracking._tracking_service.client: 🧪 View experiment at: https://dagshub.com/Jugal-lachhwani/Data-Capstone-Project.mlflow/#/experiments/3.\n",
      "2025/10/22 17:08:03 INFO mlflow.tracking._tracking_service.client: 🏃 View run TFIDFVectorizer_DecisionTree_grid_10 at: https://dagshub.com/Jugal-lachhwani/Data-Capstone-Project.mlflow/#/experiments/3/runs/bf65cae5e5a24bc89b693e8d1fd3ea03.\n",
      "2025/10/22 17:08:03 INFO mlflow.tracking._tracking_service.client: 🧪 View experiment at: https://dagshub.com/Jugal-lachhwani/Data-Capstone-Project.mlflow/#/experiments/3.\n",
      "2025/10/22 17:08:12 INFO mlflow.tracking._tracking_service.client: 🏃 View run TFIDFVectorizer_DecisionTree_grid_11 at: https://dagshub.com/Jugal-lachhwani/Data-Capstone-Project.mlflow/#/experiments/3/runs/045d66bd8b9f40bebb466f2ef128e1d4.\n",
      "2025/10/22 17:08:12 INFO mlflow.tracking._tracking_service.client: 🧪 View experiment at: https://dagshub.com/Jugal-lachhwani/Data-Capstone-Project.mlflow/#/experiments/3.\n"
     ]
    },
    {
     "name": "stdout",
     "output_type": "stream",
     "text": [
      "2025-10-22 17:08:13,681 - INFO - Training model: RandomForest\n"
     ]
    },
    {
     "name": "stderr",
     "output_type": "stream",
     "text": [
      "2025/10/22 17:08:31 INFO mlflow.tracking._tracking_service.client: 🏃 View run TFIDFVectorizer_RandomForest_grid_0 at: https://dagshub.com/Jugal-lachhwani/Data-Capstone-Project.mlflow/#/experiments/3/runs/3d14b9df80d948c2b1a71ae1f391a6dc.\n",
      "2025/10/22 17:08:31 INFO mlflow.tracking._tracking_service.client: 🧪 View experiment at: https://dagshub.com/Jugal-lachhwani/Data-Capstone-Project.mlflow/#/experiments/3.\n",
      "2025/10/22 17:08:35 INFO mlflow.tracking._tracking_service.client: 🏃 View run TFIDFVectorizer_RandomForest_grid_1 at: https://dagshub.com/Jugal-lachhwani/Data-Capstone-Project.mlflow/#/experiments/3/runs/810465c2791f4746ab5441ec84f88b96.\n",
      "2025/10/22 17:08:35 INFO mlflow.tracking._tracking_service.client: 🧪 View experiment at: https://dagshub.com/Jugal-lachhwani/Data-Capstone-Project.mlflow/#/experiments/3.\n",
      "2025/10/22 17:08:40 INFO mlflow.tracking._tracking_service.client: 🏃 View run TFIDFVectorizer_RandomForest_grid_2 at: https://dagshub.com/Jugal-lachhwani/Data-Capstone-Project.mlflow/#/experiments/3/runs/083d90be994242ceac40b464f6b77916.\n",
      "2025/10/22 17:08:40 INFO mlflow.tracking._tracking_service.client: 🧪 View experiment at: https://dagshub.com/Jugal-lachhwani/Data-Capstone-Project.mlflow/#/experiments/3.\n",
      "2025/10/22 17:08:48 INFO mlflow.tracking._tracking_service.client: 🏃 View run TFIDFVectorizer_RandomForest_grid_3 at: https://dagshub.com/Jugal-lachhwani/Data-Capstone-Project.mlflow/#/experiments/3/runs/5c946656971e4320ba777e183c3ea699.\n",
      "2025/10/22 17:08:48 INFO mlflow.tracking._tracking_service.client: 🧪 View experiment at: https://dagshub.com/Jugal-lachhwani/Data-Capstone-Project.mlflow/#/experiments/3.\n",
      "2025/10/22 17:08:56 INFO mlflow.tracking._tracking_service.client: 🏃 View run TFIDFVectorizer_RandomForest_grid_4 at: https://dagshub.com/Jugal-lachhwani/Data-Capstone-Project.mlflow/#/experiments/3/runs/f9f893791d094bfb951f90191eab129f.\n",
      "2025/10/22 17:08:56 INFO mlflow.tracking._tracking_service.client: 🧪 View experiment at: https://dagshub.com/Jugal-lachhwani/Data-Capstone-Project.mlflow/#/experiments/3.\n",
      "2025/10/22 17:09:04 INFO mlflow.tracking._tracking_service.client: 🏃 View run TFIDFVectorizer_RandomForest_grid_5 at: https://dagshub.com/Jugal-lachhwani/Data-Capstone-Project.mlflow/#/experiments/3/runs/7957d5c7ff4648b4a706c4c87cd76e83.\n",
      "2025/10/22 17:09:04 INFO mlflow.tracking._tracking_service.client: 🧪 View experiment at: https://dagshub.com/Jugal-lachhwani/Data-Capstone-Project.mlflow/#/experiments/3.\n",
      "2025/10/22 17:09:12 INFO mlflow.tracking._tracking_service.client: 🏃 View run TFIDFVectorizer_RandomForest_grid_6 at: https://dagshub.com/Jugal-lachhwani/Data-Capstone-Project.mlflow/#/experiments/3/runs/242c93a276f34f12a5b44584afea7047.\n",
      "2025/10/22 17:09:12 INFO mlflow.tracking._tracking_service.client: 🧪 View experiment at: https://dagshub.com/Jugal-lachhwani/Data-Capstone-Project.mlflow/#/experiments/3.\n",
      "2025/10/22 17:09:20 INFO mlflow.tracking._tracking_service.client: 🏃 View run TFIDFVectorizer_RandomForest_grid_7 at: https://dagshub.com/Jugal-lachhwani/Data-Capstone-Project.mlflow/#/experiments/3/runs/8de0027812a2411cb64becfef20942ea.\n",
      "2025/10/22 17:09:20 INFO mlflow.tracking._tracking_service.client: 🧪 View experiment at: https://dagshub.com/Jugal-lachhwani/Data-Capstone-Project.mlflow/#/experiments/3.\n",
      "2025/10/22 17:09:28 INFO mlflow.tracking._tracking_service.client: 🏃 View run TFIDFVectorizer_RandomForest_grid_8 at: https://dagshub.com/Jugal-lachhwani/Data-Capstone-Project.mlflow/#/experiments/3/runs/768471f08a8546d2a581b44a9cb894d6.\n",
      "2025/10/22 17:09:28 INFO mlflow.tracking._tracking_service.client: 🧪 View experiment at: https://dagshub.com/Jugal-lachhwani/Data-Capstone-Project.mlflow/#/experiments/3.\n",
      "2025/10/22 17:09:36 INFO mlflow.tracking._tracking_service.client: 🏃 View run TFIDFVectorizer_RandomForest_grid_9 at: https://dagshub.com/Jugal-lachhwani/Data-Capstone-Project.mlflow/#/experiments/3/runs/a95e9d4cf0fb4f748bd9e4440cec9d4c.\n",
      "2025/10/22 17:09:36 INFO mlflow.tracking._tracking_service.client: 🧪 View experiment at: https://dagshub.com/Jugal-lachhwani/Data-Capstone-Project.mlflow/#/experiments/3.\n",
      "2025/10/22 17:09:44 INFO mlflow.tracking._tracking_service.client: 🏃 View run TFIDFVectorizer_RandomForest_grid_10 at: https://dagshub.com/Jugal-lachhwani/Data-Capstone-Project.mlflow/#/experiments/3/runs/70d89f076d464586901c0258026216dd.\n",
      "2025/10/22 17:09:44 INFO mlflow.tracking._tracking_service.client: 🧪 View experiment at: https://dagshub.com/Jugal-lachhwani/Data-Capstone-Project.mlflow/#/experiments/3.\n",
      "2025/10/22 17:09:52 INFO mlflow.tracking._tracking_service.client: 🏃 View run TFIDFVectorizer_RandomForest_grid_11 at: https://dagshub.com/Jugal-lachhwani/Data-Capstone-Project.mlflow/#/experiments/3/runs/48ee92785740421292ca375c04114023.\n",
      "2025/10/22 17:09:52 INFO mlflow.tracking._tracking_service.client: 🧪 View experiment at: https://dagshub.com/Jugal-lachhwani/Data-Capstone-Project.mlflow/#/experiments/3.\n",
      "2025/10/22 17:10:00 INFO mlflow.tracking._tracking_service.client: 🏃 View run TFIDFVectorizer_RandomForest_grid_12 at: https://dagshub.com/Jugal-lachhwani/Data-Capstone-Project.mlflow/#/experiments/3/runs/5fd072e5c1884202a28b47ed72a194a4.\n",
      "2025/10/22 17:10:00 INFO mlflow.tracking._tracking_service.client: 🧪 View experiment at: https://dagshub.com/Jugal-lachhwani/Data-Capstone-Project.mlflow/#/experiments/3.\n",
      "2025/10/22 17:10:08 INFO mlflow.tracking._tracking_service.client: 🏃 View run TFIDFVectorizer_RandomForest_grid_13 at: https://dagshub.com/Jugal-lachhwani/Data-Capstone-Project.mlflow/#/experiments/3/runs/c9bbc8efcb7f48699ca0b20e9b195829.\n",
      "2025/10/22 17:10:08 INFO mlflow.tracking._tracking_service.client: 🧪 View experiment at: https://dagshub.com/Jugal-lachhwani/Data-Capstone-Project.mlflow/#/experiments/3.\n",
      "2025/10/22 17:10:17 INFO mlflow.tracking._tracking_service.client: 🏃 View run TFIDFVectorizer_RandomForest_grid_14 at: https://dagshub.com/Jugal-lachhwani/Data-Capstone-Project.mlflow/#/experiments/3/runs/0ad1001556a74654beb5e2d212fbbe68.\n",
      "2025/10/22 17:10:17 INFO mlflow.tracking._tracking_service.client: 🧪 View experiment at: https://dagshub.com/Jugal-lachhwani/Data-Capstone-Project.mlflow/#/experiments/3.\n",
      "2025/10/22 17:10:24 INFO mlflow.tracking._tracking_service.client: 🏃 View run TFIDFVectorizer_RandomForest_grid_15 at: https://dagshub.com/Jugal-lachhwani/Data-Capstone-Project.mlflow/#/experiments/3/runs/02afdfbf14ba454898066af2d3ea7c3f.\n",
      "2025/10/22 17:10:24 INFO mlflow.tracking._tracking_service.client: 🧪 View experiment at: https://dagshub.com/Jugal-lachhwani/Data-Capstone-Project.mlflow/#/experiments/3.\n",
      "2025/10/22 17:10:32 INFO mlflow.tracking._tracking_service.client: 🏃 View run TFIDFVectorizer_RandomForest_grid_16 at: https://dagshub.com/Jugal-lachhwani/Data-Capstone-Project.mlflow/#/experiments/3/runs/004e6e494591496fb0e5f111498c4221.\n",
      "2025/10/22 17:10:32 INFO mlflow.tracking._tracking_service.client: 🧪 View experiment at: https://dagshub.com/Jugal-lachhwani/Data-Capstone-Project.mlflow/#/experiments/3.\n",
      "2025/10/22 17:10:40 INFO mlflow.tracking._tracking_service.client: 🏃 View run TFIDFVectorizer_RandomForest_grid_17 at: https://dagshub.com/Jugal-lachhwani/Data-Capstone-Project.mlflow/#/experiments/3/runs/9fef3d7a71f5483abd8d458b28f21fe3.\n",
      "2025/10/22 17:10:40 INFO mlflow.tracking._tracking_service.client: 🧪 View experiment at: https://dagshub.com/Jugal-lachhwani/Data-Capstone-Project.mlflow/#/experiments/3.\n",
      "2025/10/22 17:10:48 INFO mlflow.tracking._tracking_service.client: 🏃 View run TFIDFVectorizer_RandomForest_grid_18 at: https://dagshub.com/Jugal-lachhwani/Data-Capstone-Project.mlflow/#/experiments/3/runs/0bde40061502462785a08832239fe3aa.\n",
      "2025/10/22 17:10:48 INFO mlflow.tracking._tracking_service.client: 🧪 View experiment at: https://dagshub.com/Jugal-lachhwani/Data-Capstone-Project.mlflow/#/experiments/3.\n"
     ]
    },
    {
     "name": "stdout",
     "output_type": "stream",
     "text": [
      "2025-10-22 17:10:55,755 - INFO - Best params found: {'max_depth': 10, 'min_samples_split': 5, 'n_estimators': 200}\n"
     ]
    },
    {
     "name": "stderr",
     "output_type": "stream",
     "text": [
      "Downloading artifacts: 100%|██████████| 7/7 [00:05<00:00,  1.19it/s]\n"
     ]
    },
    {
     "name": "stdout",
     "output_type": "stream",
     "text": [
      "2025-10-22 17:12:11,099 - INFO - TFIDFVectorizer + RandomForest -> acc=0.676, f1=0.669\n"
     ]
    },
    {
     "name": "stderr",
     "output_type": "stream",
     "text": [
      "2025/10/22 17:12:12 INFO mlflow.tracking._tracking_service.client: 🏃 View run TFIDFVectorizer_RandomForest_grid_19 at: https://dagshub.com/Jugal-lachhwani/Data-Capstone-Project.mlflow/#/experiments/3/runs/5efe45b0745f4171bcf3b22c3b48e12b.\n",
      "2025/10/22 17:12:12 INFO mlflow.tracking._tracking_service.client: 🧪 View experiment at: https://dagshub.com/Jugal-lachhwani/Data-Capstone-Project.mlflow/#/experiments/3.\n",
      "2025/10/22 17:12:16 INFO mlflow.tracking._tracking_service.client: 🏃 View run TFIDFVectorizer_RandomForest_grid_20 at: https://dagshub.com/Jugal-lachhwani/Data-Capstone-Project.mlflow/#/experiments/3/runs/fd0ed472653c4d79956bdb8e1a06a991.\n",
      "2025/10/22 17:12:16 INFO mlflow.tracking._tracking_service.client: 🧪 View experiment at: https://dagshub.com/Jugal-lachhwani/Data-Capstone-Project.mlflow/#/experiments/3.\n",
      "2025/10/22 17:12:20 INFO mlflow.tracking._tracking_service.client: 🏃 View run TFIDFVectorizer_RandomForest_grid_21 at: https://dagshub.com/Jugal-lachhwani/Data-Capstone-Project.mlflow/#/experiments/3/runs/c102224f1ee943dda14938068c8a88f3.\n",
      "2025/10/22 17:12:20 INFO mlflow.tracking._tracking_service.client: 🧪 View experiment at: https://dagshub.com/Jugal-lachhwani/Data-Capstone-Project.mlflow/#/experiments/3.\n",
      "2025/10/22 17:12:27 INFO mlflow.tracking._tracking_service.client: 🏃 View run TFIDFVectorizer_RandomForest_grid_22 at: https://dagshub.com/Jugal-lachhwani/Data-Capstone-Project.mlflow/#/experiments/3/runs/8aa240cd4e394f0e9a0a4ffab8cee0dd.\n",
      "2025/10/22 17:12:27 INFO mlflow.tracking._tracking_service.client: 🧪 View experiment at: https://dagshub.com/Jugal-lachhwani/Data-Capstone-Project.mlflow/#/experiments/3.\n",
      "2025/10/22 17:12:35 INFO mlflow.tracking._tracking_service.client: 🏃 View run TFIDFVectorizer_RandomForest_grid_23 at: https://dagshub.com/Jugal-lachhwani/Data-Capstone-Project.mlflow/#/experiments/3/runs/20366d2052314a5ab5ba9b9a5940d766.\n",
      "2025/10/22 17:12:35 INFO mlflow.tracking._tracking_service.client: 🧪 View experiment at: https://dagshub.com/Jugal-lachhwani/Data-Capstone-Project.mlflow/#/experiments/3.\n",
      "2025/10/22 17:12:43 INFO mlflow.tracking._tracking_service.client: 🏃 View run TFIDFVectorizer_RandomForest_grid_24 at: https://dagshub.com/Jugal-lachhwani/Data-Capstone-Project.mlflow/#/experiments/3/runs/799f7948741947f5828b0fcb604bd310.\n",
      "2025/10/22 17:12:43 INFO mlflow.tracking._tracking_service.client: 🧪 View experiment at: https://dagshub.com/Jugal-lachhwani/Data-Capstone-Project.mlflow/#/experiments/3.\n",
      "2025/10/22 17:12:51 INFO mlflow.tracking._tracking_service.client: 🏃 View run TFIDFVectorizer_RandomForest_grid_25 at: https://dagshub.com/Jugal-lachhwani/Data-Capstone-Project.mlflow/#/experiments/3/runs/c39d89a49d6f499dabab66bdcca7ecc0.\n",
      "2025/10/22 17:12:51 INFO mlflow.tracking._tracking_service.client: 🧪 View experiment at: https://dagshub.com/Jugal-lachhwani/Data-Capstone-Project.mlflow/#/experiments/3.\n",
      "2025/10/22 17:12:59 INFO mlflow.tracking._tracking_service.client: 🏃 View run TFIDFVectorizer_RandomForest_grid_26 at: https://dagshub.com/Jugal-lachhwani/Data-Capstone-Project.mlflow/#/experiments/3/runs/765de799cd8448ddb29fb03038f42b24.\n",
      "2025/10/22 17:12:59 INFO mlflow.tracking._tracking_service.client: 🧪 View experiment at: https://dagshub.com/Jugal-lachhwani/Data-Capstone-Project.mlflow/#/experiments/3.\n",
      "2025/10/22 17:13:07 INFO mlflow.tracking._tracking_service.client: 🏃 View run TFIDFVectorizer_RandomForest_grid_27 at: https://dagshub.com/Jugal-lachhwani/Data-Capstone-Project.mlflow/#/experiments/3/runs/9d64872a944d4d4f96f592c7d82a3b91.\n",
      "2025/10/22 17:13:07 INFO mlflow.tracking._tracking_service.client: 🧪 View experiment at: https://dagshub.com/Jugal-lachhwani/Data-Capstone-Project.mlflow/#/experiments/3.\n",
      "2025/10/22 17:13:15 INFO mlflow.tracking._tracking_service.client: 🏃 View run TFIDFVectorizer_RandomForest_grid_28 at: https://dagshub.com/Jugal-lachhwani/Data-Capstone-Project.mlflow/#/experiments/3/runs/ab02afd8d93f4c7985bcc1aef600d348.\n",
      "2025/10/22 17:13:15 INFO mlflow.tracking._tracking_service.client: 🧪 View experiment at: https://dagshub.com/Jugal-lachhwani/Data-Capstone-Project.mlflow/#/experiments/3.\n",
      "2025/10/22 17:13:23 INFO mlflow.tracking._tracking_service.client: 🏃 View run TFIDFVectorizer_RandomForest_grid_29 at: https://dagshub.com/Jugal-lachhwani/Data-Capstone-Project.mlflow/#/experiments/3/runs/e8347ab605054ba68add51aecbe66ce4.\n",
      "2025/10/22 17:13:23 INFO mlflow.tracking._tracking_service.client: 🧪 View experiment at: https://dagshub.com/Jugal-lachhwani/Data-Capstone-Project.mlflow/#/experiments/3.\n",
      "2025/10/22 17:13:31 INFO mlflow.tracking._tracking_service.client: 🏃 View run TFIDFVectorizer_RandomForest_grid_30 at: https://dagshub.com/Jugal-lachhwani/Data-Capstone-Project.mlflow/#/experiments/3/runs/f61a35ba267e4cbab2c8d335f660c9b4.\n",
      "2025/10/22 17:13:31 INFO mlflow.tracking._tracking_service.client: 🧪 View experiment at: https://dagshub.com/Jugal-lachhwani/Data-Capstone-Project.mlflow/#/experiments/3.\n",
      "2025/10/22 17:13:39 INFO mlflow.tracking._tracking_service.client: 🏃 View run TFIDFVectorizer_RandomForest_grid_31 at: https://dagshub.com/Jugal-lachhwani/Data-Capstone-Project.mlflow/#/experiments/3/runs/0362dc0b4cac46f2b6ca485818f0d968.\n",
      "2025/10/22 17:13:39 INFO mlflow.tracking._tracking_service.client: 🧪 View experiment at: https://dagshub.com/Jugal-lachhwani/Data-Capstone-Project.mlflow/#/experiments/3.\n",
      "2025/10/22 17:13:47 INFO mlflow.tracking._tracking_service.client: 🏃 View run TFIDFVectorizer_RandomForest_grid_32 at: https://dagshub.com/Jugal-lachhwani/Data-Capstone-Project.mlflow/#/experiments/3/runs/3b6d8ec9f6ac45c29d720a97bd329000.\n",
      "2025/10/22 17:13:47 INFO mlflow.tracking._tracking_service.client: 🧪 View experiment at: https://dagshub.com/Jugal-lachhwani/Data-Capstone-Project.mlflow/#/experiments/3.\n",
      "2025/10/22 17:13:55 INFO mlflow.tracking._tracking_service.client: 🏃 View run TFIDFVectorizer_RandomForest_grid_33 at: https://dagshub.com/Jugal-lachhwani/Data-Capstone-Project.mlflow/#/experiments/3/runs/714a849f21b2409b88baba3ecbfe7097.\n",
      "2025/10/22 17:13:55 INFO mlflow.tracking._tracking_service.client: 🧪 View experiment at: https://dagshub.com/Jugal-lachhwani/Data-Capstone-Project.mlflow/#/experiments/3.\n",
      "2025/10/22 17:14:03 INFO mlflow.tracking._tracking_service.client: 🏃 View run TFIDFVectorizer_RandomForest_grid_34 at: https://dagshub.com/Jugal-lachhwani/Data-Capstone-Project.mlflow/#/experiments/3/runs/0089f3365a5346e8bcf2259a089b55bb.\n",
      "2025/10/22 17:14:03 INFO mlflow.tracking._tracking_service.client: 🧪 View experiment at: https://dagshub.com/Jugal-lachhwani/Data-Capstone-Project.mlflow/#/experiments/3.\n",
      "2025/10/22 17:14:11 INFO mlflow.tracking._tracking_service.client: 🏃 View run TFIDFVectorizer_RandomForest_grid_35 at: https://dagshub.com/Jugal-lachhwani/Data-Capstone-Project.mlflow/#/experiments/3/runs/11159f4fdf924295a1897ca4c8183e5a.\n",
      "2025/10/22 17:14:11 INFO mlflow.tracking._tracking_service.client: 🧪 View experiment at: https://dagshub.com/Jugal-lachhwani/Data-Capstone-Project.mlflow/#/experiments/3.\n"
     ]
    },
    {
     "name": "stdout",
     "output_type": "stream",
     "text": [
      "2025-10-22 17:14:12,511 - INFO - Training model: GradientBoosting\n"
     ]
    },
    {
     "name": "stderr",
     "output_type": "stream",
     "text": [
      "2025/10/22 17:15:29 INFO mlflow.tracking._tracking_service.client: 🏃 View run TFIDFVectorizer_GradientBoosting_grid_0 at: https://dagshub.com/Jugal-lachhwani/Data-Capstone-Project.mlflow/#/experiments/3/runs/11d7826bc4e04958b6d22dc996d86b60.\n",
      "2025/10/22 17:15:29 INFO mlflow.tracking._tracking_service.client: 🧪 View experiment at: https://dagshub.com/Jugal-lachhwani/Data-Capstone-Project.mlflow/#/experiments/3.\n",
      "2025/10/22 17:15:33 INFO mlflow.tracking._tracking_service.client: 🏃 View run TFIDFVectorizer_GradientBoosting_grid_1 at: https://dagshub.com/Jugal-lachhwani/Data-Capstone-Project.mlflow/#/experiments/3/runs/5fcc2d975717493d93d861be5c016391.\n",
      "2025/10/22 17:15:33 INFO mlflow.tracking._tracking_service.client: 🧪 View experiment at: https://dagshub.com/Jugal-lachhwani/Data-Capstone-Project.mlflow/#/experiments/3.\n",
      "2025/10/22 17:15:40 INFO mlflow.tracking._tracking_service.client: 🏃 View run TFIDFVectorizer_GradientBoosting_grid_2 at: https://dagshub.com/Jugal-lachhwani/Data-Capstone-Project.mlflow/#/experiments/3/runs/5fd5916fab8a411ab235e3989a37f0e9.\n",
      "2025/10/22 17:15:40 INFO mlflow.tracking._tracking_service.client: 🧪 View experiment at: https://dagshub.com/Jugal-lachhwani/Data-Capstone-Project.mlflow/#/experiments/3.\n",
      "2025/10/22 17:15:47 INFO mlflow.tracking._tracking_service.client: 🏃 View run TFIDFVectorizer_GradientBoosting_grid_3 at: https://dagshub.com/Jugal-lachhwani/Data-Capstone-Project.mlflow/#/experiments/3/runs/3d5af5daf6ff41f2b1e65a094c344bb1.\n",
      "2025/10/22 17:15:47 INFO mlflow.tracking._tracking_service.client: 🧪 View experiment at: https://dagshub.com/Jugal-lachhwani/Data-Capstone-Project.mlflow/#/experiments/3.\n",
      "2025/10/22 17:15:55 INFO mlflow.tracking._tracking_service.client: 🏃 View run TFIDFVectorizer_GradientBoosting_grid_4 at: https://dagshub.com/Jugal-lachhwani/Data-Capstone-Project.mlflow/#/experiments/3/runs/07dcd6b273c14358b929f8157899e4a2.\n",
      "2025/10/22 17:15:55 INFO mlflow.tracking._tracking_service.client: 🧪 View experiment at: https://dagshub.com/Jugal-lachhwani/Data-Capstone-Project.mlflow/#/experiments/3.\n",
      "2025/10/22 17:16:03 INFO mlflow.tracking._tracking_service.client: 🏃 View run TFIDFVectorizer_GradientBoosting_grid_5 at: https://dagshub.com/Jugal-lachhwani/Data-Capstone-Project.mlflow/#/experiments/3/runs/7003a96048354d26b3c4d6fc90852d09.\n",
      "2025/10/22 17:16:03 INFO mlflow.tracking._tracking_service.client: 🧪 View experiment at: https://dagshub.com/Jugal-lachhwani/Data-Capstone-Project.mlflow/#/experiments/3.\n",
      "2025/10/22 17:16:11 INFO mlflow.tracking._tracking_service.client: 🏃 View run TFIDFVectorizer_GradientBoosting_grid_6 at: https://dagshub.com/Jugal-lachhwani/Data-Capstone-Project.mlflow/#/experiments/3/runs/9d0e6048816c4bc9bb594512b738bdce.\n",
      "2025/10/22 17:16:11 INFO mlflow.tracking._tracking_service.client: 🧪 View experiment at: https://dagshub.com/Jugal-lachhwani/Data-Capstone-Project.mlflow/#/experiments/3.\n",
      "2025/10/22 17:16:19 INFO mlflow.tracking._tracking_service.client: 🏃 View run TFIDFVectorizer_GradientBoosting_grid_7 at: https://dagshub.com/Jugal-lachhwani/Data-Capstone-Project.mlflow/#/experiments/3/runs/40fc77ffa0e44c29949a10388aba2886.\n",
      "2025/10/22 17:16:19 INFO mlflow.tracking._tracking_service.client: 🧪 View experiment at: https://dagshub.com/Jugal-lachhwani/Data-Capstone-Project.mlflow/#/experiments/3.\n",
      "2025/10/22 17:16:27 INFO mlflow.tracking._tracking_service.client: 🏃 View run TFIDFVectorizer_GradientBoosting_grid_8 at: https://dagshub.com/Jugal-lachhwani/Data-Capstone-Project.mlflow/#/experiments/3/runs/286d3db859d84250bddc9f3152114fe5.\n",
      "2025/10/22 17:16:27 INFO mlflow.tracking._tracking_service.client: 🧪 View experiment at: https://dagshub.com/Jugal-lachhwani/Data-Capstone-Project.mlflow/#/experiments/3.\n",
      "2025/10/22 17:16:35 INFO mlflow.tracking._tracking_service.client: 🏃 View run TFIDFVectorizer_GradientBoosting_grid_9 at: https://dagshub.com/Jugal-lachhwani/Data-Capstone-Project.mlflow/#/experiments/3/runs/d47fbf951fea4f90b090abc172e8be8f.\n",
      "2025/10/22 17:16:35 INFO mlflow.tracking._tracking_service.client: 🧪 View experiment at: https://dagshub.com/Jugal-lachhwani/Data-Capstone-Project.mlflow/#/experiments/3.\n",
      "2025/10/22 17:16:43 INFO mlflow.tracking._tracking_service.client: 🏃 View run TFIDFVectorizer_GradientBoosting_grid_10 at: https://dagshub.com/Jugal-lachhwani/Data-Capstone-Project.mlflow/#/experiments/3/runs/07b28077617340cc878d51ff8ccd5733.\n",
      "2025/10/22 17:16:43 INFO mlflow.tracking._tracking_service.client: 🧪 View experiment at: https://dagshub.com/Jugal-lachhwani/Data-Capstone-Project.mlflow/#/experiments/3.\n"
     ]
    },
    {
     "name": "stdout",
     "output_type": "stream",
     "text": [
      "2025-10-22 17:16:50,176 - INFO - Best params found: {'learning_rate': 0.1, 'max_depth': 7, 'n_estimators': 200}\n"
     ]
    },
    {
     "name": "stderr",
     "output_type": "stream",
     "text": [
      "Downloading artifacts: 100%|██████████| 7/7 [00:02<00:00,  2.35it/s]\n"
     ]
    },
    {
     "name": "stdout",
     "output_type": "stream",
     "text": [
      "2025-10-22 17:17:22,168 - INFO - TFIDFVectorizer + GradientBoosting -> acc=0.640, f1=0.634\n"
     ]
    },
    {
     "name": "stderr",
     "output_type": "stream",
     "text": [
      "2025/10/22 17:17:23 INFO mlflow.tracking._tracking_service.client: 🏃 View run TFIDFVectorizer_GradientBoosting_grid_11 at: https://dagshub.com/Jugal-lachhwani/Data-Capstone-Project.mlflow/#/experiments/3/runs/5f67ab89e9464287936ec10ea60373fd.\n",
      "2025/10/22 17:17:23 INFO mlflow.tracking._tracking_service.client: 🧪 View experiment at: https://dagshub.com/Jugal-lachhwani/Data-Capstone-Project.mlflow/#/experiments/3.\n",
      "2025/10/22 17:17:27 INFO mlflow.tracking._tracking_service.client: 🏃 View run TFIDFVectorizer_GradientBoosting_grid_12 at: https://dagshub.com/Jugal-lachhwani/Data-Capstone-Project.mlflow/#/experiments/3/runs/54d3bbe79d454c3e85bd91a74940541f.\n",
      "2025/10/22 17:17:27 INFO mlflow.tracking._tracking_service.client: 🧪 View experiment at: https://dagshub.com/Jugal-lachhwani/Data-Capstone-Project.mlflow/#/experiments/3.\n",
      "2025/10/22 17:17:34 INFO mlflow.tracking._tracking_service.client: 🏃 View run TFIDFVectorizer_GradientBoosting_grid_13 at: https://dagshub.com/Jugal-lachhwani/Data-Capstone-Project.mlflow/#/experiments/3/runs/b5d6260782434bca8bb5d7cb9e6a3b79.\n",
      "2025/10/22 17:17:34 INFO mlflow.tracking._tracking_service.client: 🧪 View experiment at: https://dagshub.com/Jugal-lachhwani/Data-Capstone-Project.mlflow/#/experiments/3.\n",
      "2025/10/22 17:17:42 INFO mlflow.tracking._tracking_service.client: 🏃 View run TFIDFVectorizer_GradientBoosting_grid_14 at: https://dagshub.com/Jugal-lachhwani/Data-Capstone-Project.mlflow/#/experiments/3/runs/ea56123f74b446e1a4edc0f946797798.\n",
      "2025/10/22 17:17:42 INFO mlflow.tracking._tracking_service.client: 🧪 View experiment at: https://dagshub.com/Jugal-lachhwani/Data-Capstone-Project.mlflow/#/experiments/3.\n",
      "2025/10/22 17:17:50 INFO mlflow.tracking._tracking_service.client: 🏃 View run TFIDFVectorizer_GradientBoosting_grid_15 at: https://dagshub.com/Jugal-lachhwani/Data-Capstone-Project.mlflow/#/experiments/3/runs/774c1b20fd844e2485d5823f7a8e69d1.\n",
      "2025/10/22 17:17:50 INFO mlflow.tracking._tracking_service.client: 🧪 View experiment at: https://dagshub.com/Jugal-lachhwani/Data-Capstone-Project.mlflow/#/experiments/3.\n",
      "2025/10/22 17:17:58 INFO mlflow.tracking._tracking_service.client: 🏃 View run TFIDFVectorizer_GradientBoosting_grid_16 at: https://dagshub.com/Jugal-lachhwani/Data-Capstone-Project.mlflow/#/experiments/3/runs/a0ee5011273c4a7aa51adf39750b0631.\n",
      "2025/10/22 17:17:58 INFO mlflow.tracking._tracking_service.client: 🧪 View experiment at: https://dagshub.com/Jugal-lachhwani/Data-Capstone-Project.mlflow/#/experiments/3.\n",
      "2025/10/22 17:18:06 INFO mlflow.tracking._tracking_service.client: 🏃 View run TFIDFVectorizer_GradientBoosting_grid_17 at: https://dagshub.com/Jugal-lachhwani/Data-Capstone-Project.mlflow/#/experiments/3/runs/38aa783f3f0b4968ae3c6d43b54e3baf.\n",
      "2025/10/22 17:18:06 INFO mlflow.tracking._tracking_service.client: 🧪 View experiment at: https://dagshub.com/Jugal-lachhwani/Data-Capstone-Project.mlflow/#/experiments/3.\n"
     ]
    },
    {
     "name": "stdout",
     "output_type": "stream",
     "text": [
      "2025-10-22 17:18:07,626 - INFO - Training model: AdaBoost\n"
     ]
    },
    {
     "name": "stderr",
     "output_type": "stream",
     "text": [
      "2025/10/22 17:18:26 INFO mlflow.tracking._tracking_service.client: 🏃 View run TFIDFVectorizer_AdaBoost_grid_0 at: https://dagshub.com/Jugal-lachhwani/Data-Capstone-Project.mlflow/#/experiments/3/runs/803c870e85f04b79b64e9fd39f97a8f0.\n",
      "2025/10/22 17:18:26 INFO mlflow.tracking._tracking_service.client: 🧪 View experiment at: https://dagshub.com/Jugal-lachhwani/Data-Capstone-Project.mlflow/#/experiments/3.\n",
      "2025/10/22 17:18:29 INFO mlflow.tracking._tracking_service.client: 🏃 View run TFIDFVectorizer_AdaBoost_grid_1 at: https://dagshub.com/Jugal-lachhwani/Data-Capstone-Project.mlflow/#/experiments/3/runs/90355c28741f47719f0f9fb8ba1a5a87.\n",
      "2025/10/22 17:18:29 INFO mlflow.tracking._tracking_service.client: 🧪 View experiment at: https://dagshub.com/Jugal-lachhwani/Data-Capstone-Project.mlflow/#/experiments/3.\n",
      "2025/10/22 17:18:35 INFO mlflow.tracking._tracking_service.client: 🏃 View run TFIDFVectorizer_AdaBoost_grid_2 at: https://dagshub.com/Jugal-lachhwani/Data-Capstone-Project.mlflow/#/experiments/3/runs/5d0b52154ad0486abdbef526418c724c.\n",
      "2025/10/22 17:18:35 INFO mlflow.tracking._tracking_service.client: 🧪 View experiment at: https://dagshub.com/Jugal-lachhwani/Data-Capstone-Project.mlflow/#/experiments/3.\n",
      "2025/10/22 17:18:43 INFO mlflow.tracking._tracking_service.client: 🏃 View run TFIDFVectorizer_AdaBoost_grid_3 at: https://dagshub.com/Jugal-lachhwani/Data-Capstone-Project.mlflow/#/experiments/3/runs/db8eb3f581894e8c8d347cce34fb5194.\n",
      "2025/10/22 17:18:43 INFO mlflow.tracking._tracking_service.client: 🧪 View experiment at: https://dagshub.com/Jugal-lachhwani/Data-Capstone-Project.mlflow/#/experiments/3.\n",
      "2025/10/22 17:18:51 INFO mlflow.tracking._tracking_service.client: 🏃 View run TFIDFVectorizer_AdaBoost_grid_4 at: https://dagshub.com/Jugal-lachhwani/Data-Capstone-Project.mlflow/#/experiments/3/runs/7dc7c0a39f7e49908530e83c7a06b1be.\n",
      "2025/10/22 17:18:51 INFO mlflow.tracking._tracking_service.client: 🧪 View experiment at: https://dagshub.com/Jugal-lachhwani/Data-Capstone-Project.mlflow/#/experiments/3.\n"
     ]
    },
    {
     "name": "stdout",
     "output_type": "stream",
     "text": [
      "2025-10-22 17:18:58,234 - INFO - Best params found: {'learning_rate': 0.1, 'n_estimators': 200}\n"
     ]
    },
    {
     "name": "stderr",
     "output_type": "stream",
     "text": [
      "Downloading artifacts: 100%|██████████| 7/7 [00:02<00:00,  2.78it/s]\n"
     ]
    },
    {
     "name": "stdout",
     "output_type": "stream",
     "text": [
      "2025-10-22 17:19:32,474 - INFO - TFIDFVectorizer + AdaBoost -> acc=0.672, f1=0.655\n"
     ]
    },
    {
     "name": "stderr",
     "output_type": "stream",
     "text": [
      "2025/10/22 17:19:33 INFO mlflow.tracking._tracking_service.client: 🏃 View run TFIDFVectorizer_AdaBoost_grid_5 at: https://dagshub.com/Jugal-lachhwani/Data-Capstone-Project.mlflow/#/experiments/3/runs/882087ecade548ec82c73bb2854f2c30.\n",
      "2025/10/22 17:19:33 INFO mlflow.tracking._tracking_service.client: 🧪 View experiment at: https://dagshub.com/Jugal-lachhwani/Data-Capstone-Project.mlflow/#/experiments/3.\n",
      "2025/10/22 17:19:39 INFO mlflow.tracking._tracking_service.client: 🏃 View run TFIDFVectorizer_AdaBoost_grid_6 at: https://dagshub.com/Jugal-lachhwani/Data-Capstone-Project.mlflow/#/experiments/3/runs/e617e3049cc5421685cf51d909ceb196.\n",
      "2025/10/22 17:19:39 INFO mlflow.tracking._tracking_service.client: 🧪 View experiment at: https://dagshub.com/Jugal-lachhwani/Data-Capstone-Project.mlflow/#/experiments/3.\n",
      "2025/10/22 17:19:45 INFO mlflow.tracking._tracking_service.client: 🏃 View run TFIDFVectorizer_AdaBoost_grid_7 at: https://dagshub.com/Jugal-lachhwani/Data-Capstone-Project.mlflow/#/experiments/3/runs/b3624732203740dd955a1c0e5783d7f8.\n",
      "2025/10/22 17:19:45 INFO mlflow.tracking._tracking_service.client: 🧪 View experiment at: https://dagshub.com/Jugal-lachhwani/Data-Capstone-Project.mlflow/#/experiments/3.\n",
      "2025/10/22 17:19:53 INFO mlflow.tracking._tracking_service.client: 🏃 View run TFIDFVectorizer_AdaBoost_grid_8 at: https://dagshub.com/Jugal-lachhwani/Data-Capstone-Project.mlflow/#/experiments/3/runs/7d9fcf10690b463f957d2e280cd10a92.\n",
      "2025/10/22 17:19:53 INFO mlflow.tracking._tracking_service.client: 🧪 View experiment at: https://dagshub.com/Jugal-lachhwani/Data-Capstone-Project.mlflow/#/experiments/3.\n"
     ]
    },
    {
     "name": "stdout",
     "output_type": "stream",
     "text": [
      "2025-10-22 17:19:54,699 - INFO - Training model: SVM\n"
     ]
    },
    {
     "name": "stderr",
     "output_type": "stream",
     "text": [
      "2025/10/22 17:20:03 INFO mlflow.tracking._tracking_service.client: 🏃 View run TFIDFVectorizer_SVM_grid_0 at: https://dagshub.com/Jugal-lachhwani/Data-Capstone-Project.mlflow/#/experiments/3/runs/82a5d921500f4411941cab72671aa5cd.\n",
      "2025/10/22 17:20:03 INFO mlflow.tracking._tracking_service.client: 🧪 View experiment at: https://dagshub.com/Jugal-lachhwani/Data-Capstone-Project.mlflow/#/experiments/3.\n",
      "2025/10/22 17:20:09 INFO mlflow.tracking._tracking_service.client: 🏃 View run TFIDFVectorizer_SVM_grid_1 at: https://dagshub.com/Jugal-lachhwani/Data-Capstone-Project.mlflow/#/experiments/3/runs/0d17fad3fdc84d398ae5a6244814fe02.\n",
      "2025/10/22 17:20:09 INFO mlflow.tracking._tracking_service.client: 🧪 View experiment at: https://dagshub.com/Jugal-lachhwani/Data-Capstone-Project.mlflow/#/experiments/3.\n",
      "2025/10/22 17:20:17 INFO mlflow.tracking._tracking_service.client: 🏃 View run TFIDFVectorizer_SVM_grid_2 at: https://dagshub.com/Jugal-lachhwani/Data-Capstone-Project.mlflow/#/experiments/3/runs/954ff2299ea7416ba62c5dce988e96ec.\n",
      "2025/10/22 17:20:17 INFO mlflow.tracking._tracking_service.client: 🧪 View experiment at: https://dagshub.com/Jugal-lachhwani/Data-Capstone-Project.mlflow/#/experiments/3.\n",
      "2025/10/22 17:20:25 INFO mlflow.tracking._tracking_service.client: 🏃 View run TFIDFVectorizer_SVM_grid_3 at: https://dagshub.com/Jugal-lachhwani/Data-Capstone-Project.mlflow/#/experiments/3/runs/31ca09f524f54b1194f63f3572c8e262.\n",
      "2025/10/22 17:20:25 INFO mlflow.tracking._tracking_service.client: 🧪 View experiment at: https://dagshub.com/Jugal-lachhwani/Data-Capstone-Project.mlflow/#/experiments/3.\n"
     ]
    },
    {
     "name": "stdout",
     "output_type": "stream",
     "text": [
      "2025-10-22 17:20:32,691 - INFO - Best params found: {'C': 10, 'kernel': 'linear'}\n"
     ]
    },
    {
     "name": "stderr",
     "output_type": "stream",
     "text": [
      "Downloading artifacts: 100%|██████████| 7/7 [00:01<00:00,  3.66it/s]\n"
     ]
    },
    {
     "name": "stdout",
     "output_type": "stream",
     "text": [
      "2025-10-22 17:21:02,120 - INFO - TFIDFVectorizer + SVM -> acc=0.692, f1=0.686\n"
     ]
    },
    {
     "name": "stderr",
     "output_type": "stream",
     "text": [
      "2025/10/22 17:21:03 INFO mlflow.tracking._tracking_service.client: 🏃 View run TFIDFVectorizer_SVM_grid_4 at: https://dagshub.com/Jugal-lachhwani/Data-Capstone-Project.mlflow/#/experiments/3/runs/71b4da2b31a34175b5a77f467dcb8db6.\n",
      "2025/10/22 17:21:03 INFO mlflow.tracking._tracking_service.client: 🧪 View experiment at: https://dagshub.com/Jugal-lachhwani/Data-Capstone-Project.mlflow/#/experiments/3.\n",
      "2025/10/22 17:21:08 INFO mlflow.tracking._tracking_service.client: 🏃 View run TFIDFVectorizer_SVM_grid_5 at: https://dagshub.com/Jugal-lachhwani/Data-Capstone-Project.mlflow/#/experiments/3/runs/e492015f746246dd933b1d4dee2e2a23.\n",
      "2025/10/22 17:21:08 INFO mlflow.tracking._tracking_service.client: 🧪 View experiment at: https://dagshub.com/Jugal-lachhwani/Data-Capstone-Project.mlflow/#/experiments/3.\n"
     ]
    },
    {
     "name": "stdout",
     "output_type": "stream",
     "text": [
      "2025-10-22 17:21:09,069 - INFO - Training model: KNN\n"
     ]
    },
    {
     "name": "stderr",
     "output_type": "stream",
     "text": [
      "2025/10/22 17:21:16 INFO mlflow.tracking._tracking_service.client: 🏃 View run TFIDFVectorizer_KNN_grid_0 at: https://dagshub.com/Jugal-lachhwani/Data-Capstone-Project.mlflow/#/experiments/3/runs/a2b953d9125e452298abc72dfe285cc3.\n",
      "2025/10/22 17:21:16 INFO mlflow.tracking._tracking_service.client: 🧪 View experiment at: https://dagshub.com/Jugal-lachhwani/Data-Capstone-Project.mlflow/#/experiments/3.\n",
      "2025/10/22 17:21:24 INFO mlflow.tracking._tracking_service.client: 🏃 View run TFIDFVectorizer_KNN_grid_1 at: https://dagshub.com/Jugal-lachhwani/Data-Capstone-Project.mlflow/#/experiments/3/runs/5b7209ac4e3f4da792588bb3d6d7b7aa.\n",
      "2025/10/22 17:21:24 INFO mlflow.tracking._tracking_service.client: 🧪 View experiment at: https://dagshub.com/Jugal-lachhwani/Data-Capstone-Project.mlflow/#/experiments/3.\n",
      "2025/10/22 17:21:35 INFO mlflow.tracking._tracking_service.client: 🏃 View run TFIDFVectorizer_KNN_grid_2 at: https://dagshub.com/Jugal-lachhwani/Data-Capstone-Project.mlflow/#/experiments/3/runs/f8126663600a48b2ba2b6de54f844be0.\n",
      "2025/10/22 17:21:35 INFO mlflow.tracking._tracking_service.client: 🧪 View experiment at: https://dagshub.com/Jugal-lachhwani/Data-Capstone-Project.mlflow/#/experiments/3.\n",
      "2025/10/22 17:21:41 INFO mlflow.tracking._tracking_service.client: 🏃 View run TFIDFVectorizer_KNN_grid_3 at: https://dagshub.com/Jugal-lachhwani/Data-Capstone-Project.mlflow/#/experiments/3/runs/e694ba0ff4474073adf09e7413aded50.\n",
      "2025/10/22 17:21:41 INFO mlflow.tracking._tracking_service.client: 🧪 View experiment at: https://dagshub.com/Jugal-lachhwani/Data-Capstone-Project.mlflow/#/experiments/3.\n",
      "2025/10/22 17:21:49 INFO mlflow.tracking._tracking_service.client: 🏃 View run TFIDFVectorizer_KNN_grid_4 at: https://dagshub.com/Jugal-lachhwani/Data-Capstone-Project.mlflow/#/experiments/3/runs/e54ad7d06da446eb9640b02f88154a66.\n",
      "2025/10/22 17:21:49 INFO mlflow.tracking._tracking_service.client: 🧪 View experiment at: https://dagshub.com/Jugal-lachhwani/Data-Capstone-Project.mlflow/#/experiments/3.\n",
      "2025/10/22 17:21:56 INFO mlflow.tracking._tracking_service.client: 🏃 View run TFIDFVectorizer_KNN_grid_5 at: https://dagshub.com/Jugal-lachhwani/Data-Capstone-Project.mlflow/#/experiments/3/runs/5b740509e9324bc58fe2683ebe4794ba.\n",
      "2025/10/22 17:21:56 INFO mlflow.tracking._tracking_service.client: 🧪 View experiment at: https://dagshub.com/Jugal-lachhwani/Data-Capstone-Project.mlflow/#/experiments/3.\n"
     ]
    },
    {
     "name": "stdout",
     "output_type": "stream",
     "text": [
      "2025-10-22 17:22:03,069 - INFO - Best params found: {'n_neighbors': 9, 'weights': 'uniform'}\n",
      "2025-10-22 17:22:52,143 - WARNING - Retrying (Retry(total=4, connect=5, read=4, redirect=5, status=5)) after connection broken by 'RemoteDisconnected('Remote end closed connection without response')': /Jugal-lachhwani/Data-Capstone-Project.mlflow/api/2.0/mlflow-artifacts/artifacts/ac15dc126a5b4643985e05484a02c235/fa0511ff88c74a03b450fd8dd262b39e/artifacts/best_model/conda.yaml\n",
      "2025-10-22 17:22:57,239 - WARNING - Retrying (Retry(total=3, connect=5, read=3, redirect=5, status=5)) after connection broken by 'ConnectionResetError(10054, 'An existing connection was forcibly closed by the remote host', None, 10054, None)': /Jugal-lachhwani/Data-Capstone-Project.mlflow/api/2.0/mlflow-artifacts/artifacts/ac15dc126a5b4643985e05484a02c235/fa0511ff88c74a03b450fd8dd262b39e/artifacts/best_model/conda.yaml\n"
     ]
    },
    {
     "name": "stderr",
     "output_type": "stream",
     "text": [
      "Downloading artifacts: 100%|██████████| 7/7 [00:03<00:00,  2.15it/s]\n"
     ]
    },
    {
     "name": "stdout",
     "output_type": "stream",
     "text": [
      "2025-10-22 17:23:09,965 - INFO - TFIDFVectorizer + KNN -> acc=0.620, f1=0.589\n"
     ]
    },
    {
     "name": "stderr",
     "output_type": "stream",
     "text": [
      "2025/10/22 17:23:10 INFO mlflow.tracking._tracking_service.client: 🏃 View run TFIDFVectorizer_KNN_grid_6 at: https://dagshub.com/Jugal-lachhwani/Data-Capstone-Project.mlflow/#/experiments/3/runs/fa0511ff88c74a03b450fd8dd262b39e.\n",
      "2025/10/22 17:23:10 INFO mlflow.tracking._tracking_service.client: 🧪 View experiment at: https://dagshub.com/Jugal-lachhwani/Data-Capstone-Project.mlflow/#/experiments/3.\n",
      "2025/10/22 17:23:14 INFO mlflow.tracking._tracking_service.client: 🏃 View run TFIDFVectorizer_KNN_grid_7 at: https://dagshub.com/Jugal-lachhwani/Data-Capstone-Project.mlflow/#/experiments/3/runs/a7db3f58e932463f91954b240a8e88d8.\n",
      "2025/10/22 17:23:14 INFO mlflow.tracking._tracking_service.client: 🧪 View experiment at: https://dagshub.com/Jugal-lachhwani/Data-Capstone-Project.mlflow/#/experiments/3.\n"
     ]
    },
    {
     "name": "stdout",
     "output_type": "stream",
     "text": [
      "2025-10-22 17:23:15,466 - INFO - Training model: XGBoost\n"
     ]
    },
    {
     "name": "stderr",
     "output_type": "stream",
     "text": [
      "c:\\Users\\DELL\\miniconda3\\envs\\simple_env\\Lib\\site-packages\\xgboost\\training.py:199: UserWarning: [17:24:23] WARNING: C:\\actions-runner\\_work\\xgboost\\xgboost\\src\\learner.cc:790: \n",
      "Parameters: { \"use_label_encoder\" } are not used.\n",
      "\n",
      "  bst.update(dtrain, iteration=i, fobj=obj)\n",
      "2025/10/22 17:24:41 INFO mlflow.tracking._tracking_service.client: 🏃 View run TFIDFVectorizer_XGBoost_grid_0 at: https://dagshub.com/Jugal-lachhwani/Data-Capstone-Project.mlflow/#/experiments/3/runs/2f629eab1277449fbea059988fa19ef4.\n",
      "2025/10/22 17:24:41 INFO mlflow.tracking._tracking_service.client: 🧪 View experiment at: https://dagshub.com/Jugal-lachhwani/Data-Capstone-Project.mlflow/#/experiments/3.\n",
      "2025/10/22 17:24:46 INFO mlflow.tracking._tracking_service.client: 🏃 View run TFIDFVectorizer_XGBoost_grid_1 at: https://dagshub.com/Jugal-lachhwani/Data-Capstone-Project.mlflow/#/experiments/3/runs/172129636b4f48fe896d2dc81bd1fd22.\n",
      "2025/10/22 17:24:46 INFO mlflow.tracking._tracking_service.client: 🧪 View experiment at: https://dagshub.com/Jugal-lachhwani/Data-Capstone-Project.mlflow/#/experiments/3.\n",
      "2025/10/22 17:24:50 INFO mlflow.tracking._tracking_service.client: 🏃 View run TFIDFVectorizer_XGBoost_grid_2 at: https://dagshub.com/Jugal-lachhwani/Data-Capstone-Project.mlflow/#/experiments/3/runs/8ba1a85b81784262a87b60f6d916a23c.\n",
      "2025/10/22 17:24:50 INFO mlflow.tracking._tracking_service.client: 🧪 View experiment at: https://dagshub.com/Jugal-lachhwani/Data-Capstone-Project.mlflow/#/experiments/3.\n"
     ]
    },
    {
     "name": "stdout",
     "output_type": "stream",
     "text": [
      "2025-10-22 17:24:57,757 - INFO - Best params found: {'learning_rate': 0.01, 'max_depth': 5, 'n_estimators': 200}\n"
     ]
    },
    {
     "name": "stderr",
     "output_type": "stream",
     "text": [
      "Downloading artifacts: 100%|██████████| 7/7 [00:03<00:00,  2.19it/s]\n"
     ]
    },
    {
     "name": "stdout",
     "output_type": "stream",
     "text": [
      "2025-10-22 17:25:46,117 - INFO - TFIDFVectorizer + XGBoost -> acc=0.668, f1=0.667\n"
     ]
    },
    {
     "name": "stderr",
     "output_type": "stream",
     "text": [
      "2025/10/22 17:25:47 INFO mlflow.tracking._tracking_service.client: 🏃 View run TFIDFVectorizer_XGBoost_grid_3 at: https://dagshub.com/Jugal-lachhwani/Data-Capstone-Project.mlflow/#/experiments/3/runs/2cae145e979547e3b185c0880019ef92.\n",
      "2025/10/22 17:25:47 INFO mlflow.tracking._tracking_service.client: 🧪 View experiment at: https://dagshub.com/Jugal-lachhwani/Data-Capstone-Project.mlflow/#/experiments/3.\n",
      "2025/10/22 17:25:51 INFO mlflow.tracking._tracking_service.client: 🏃 View run TFIDFVectorizer_XGBoost_grid_4 at: https://dagshub.com/Jugal-lachhwani/Data-Capstone-Project.mlflow/#/experiments/3/runs/54f66d681667438b897851d06d2cd977.\n",
      "2025/10/22 17:25:51 INFO mlflow.tracking._tracking_service.client: 🧪 View experiment at: https://dagshub.com/Jugal-lachhwani/Data-Capstone-Project.mlflow/#/experiments/3.\n",
      "2025/10/22 17:25:58 INFO mlflow.tracking._tracking_service.client: 🏃 View run TFIDFVectorizer_XGBoost_grid_5 at: https://dagshub.com/Jugal-lachhwani/Data-Capstone-Project.mlflow/#/experiments/3/runs/55e4cfede8314ca6b7a5daef9e98f798.\n",
      "2025/10/22 17:25:58 INFO mlflow.tracking._tracking_service.client: 🧪 View experiment at: https://dagshub.com/Jugal-lachhwani/Data-Capstone-Project.mlflow/#/experiments/3.\n",
      "2025/10/22 17:26:06 INFO mlflow.tracking._tracking_service.client: 🏃 View run TFIDFVectorizer_XGBoost_grid_6 at: https://dagshub.com/Jugal-lachhwani/Data-Capstone-Project.mlflow/#/experiments/3/runs/042d6a9d96b94fbaa8f20bac708a0848.\n",
      "2025/10/22 17:26:06 INFO mlflow.tracking._tracking_service.client: 🧪 View experiment at: https://dagshub.com/Jugal-lachhwani/Data-Capstone-Project.mlflow/#/experiments/3.\n",
      "2025/10/22 17:26:14 INFO mlflow.tracking._tracking_service.client: 🏃 View run TFIDFVectorizer_XGBoost_grid_7 at: https://dagshub.com/Jugal-lachhwani/Data-Capstone-Project.mlflow/#/experiments/3/runs/9b1029254e494ef19bc0ff7797d0b861.\n",
      "2025/10/22 17:26:14 INFO mlflow.tracking._tracking_service.client: 🧪 View experiment at: https://dagshub.com/Jugal-lachhwani/Data-Capstone-Project.mlflow/#/experiments/3.\n",
      "2025/10/22 17:26:22 INFO mlflow.tracking._tracking_service.client: 🏃 View run TFIDFVectorizer_XGBoost_grid_8 at: https://dagshub.com/Jugal-lachhwani/Data-Capstone-Project.mlflow/#/experiments/3/runs/d8afe80347854766bee8df890a30a397.\n",
      "2025/10/22 17:26:22 INFO mlflow.tracking._tracking_service.client: 🧪 View experiment at: https://dagshub.com/Jugal-lachhwani/Data-Capstone-Project.mlflow/#/experiments/3.\n",
      "2025/10/22 17:26:31 INFO mlflow.tracking._tracking_service.client: 🏃 View run TFIDFVectorizer_XGBoost_grid_9 at: https://dagshub.com/Jugal-lachhwani/Data-Capstone-Project.mlflow/#/experiments/3/runs/5b40b15bdfce4cecb7707af815fe150b.\n",
      "2025/10/22 17:26:31 INFO mlflow.tracking._tracking_service.client: 🧪 View experiment at: https://dagshub.com/Jugal-lachhwani/Data-Capstone-Project.mlflow/#/experiments/3.\n",
      "2025/10/22 17:26:38 INFO mlflow.tracking._tracking_service.client: 🏃 View run TFIDFVectorizer_XGBoost_grid_10 at: https://dagshub.com/Jugal-lachhwani/Data-Capstone-Project.mlflow/#/experiments/3/runs/f65c727e9b6241719c268c397ec42860.\n",
      "2025/10/22 17:26:38 INFO mlflow.tracking._tracking_service.client: 🧪 View experiment at: https://dagshub.com/Jugal-lachhwani/Data-Capstone-Project.mlflow/#/experiments/3.\n",
      "2025/10/22 17:26:46 INFO mlflow.tracking._tracking_service.client: 🏃 View run TFIDFVectorizer_XGBoost_grid_11 at: https://dagshub.com/Jugal-lachhwani/Data-Capstone-Project.mlflow/#/experiments/3/runs/7f9b7d016db240d68d5751cf1c95941c.\n",
      "2025/10/22 17:26:46 INFO mlflow.tracking._tracking_service.client: 🧪 View experiment at: https://dagshub.com/Jugal-lachhwani/Data-Capstone-Project.mlflow/#/experiments/3.\n",
      "2025/10/22 17:26:54 INFO mlflow.tracking._tracking_service.client: 🏃 View run TFIDFVectorizer_XGBoost_grid_12 at: https://dagshub.com/Jugal-lachhwani/Data-Capstone-Project.mlflow/#/experiments/3/runs/3bb39483ba4b45668cbf2a00c93e950f.\n",
      "2025/10/22 17:26:54 INFO mlflow.tracking._tracking_service.client: 🧪 View experiment at: https://dagshub.com/Jugal-lachhwani/Data-Capstone-Project.mlflow/#/experiments/3.\n",
      "2025/10/22 17:27:02 INFO mlflow.tracking._tracking_service.client: 🏃 View run TFIDFVectorizer_XGBoost_grid_13 at: https://dagshub.com/Jugal-lachhwani/Data-Capstone-Project.mlflow/#/experiments/3/runs/182232b2c82b42eab02404d659ab6b7c.\n",
      "2025/10/22 17:27:02 INFO mlflow.tracking._tracking_service.client: 🧪 View experiment at: https://dagshub.com/Jugal-lachhwani/Data-Capstone-Project.mlflow/#/experiments/3.\n",
      "2025/10/22 17:27:10 INFO mlflow.tracking._tracking_service.client: 🏃 View run TFIDFVectorizer_XGBoost_grid_14 at: https://dagshub.com/Jugal-lachhwani/Data-Capstone-Project.mlflow/#/experiments/3/runs/2d6705f205234dc4a6050b4023be21a1.\n",
      "2025/10/22 17:27:10 INFO mlflow.tracking._tracking_service.client: 🧪 View experiment at: https://dagshub.com/Jugal-lachhwani/Data-Capstone-Project.mlflow/#/experiments/3.\n",
      "2025/10/22 17:27:18 INFO mlflow.tracking._tracking_service.client: 🏃 View run TFIDFVectorizer_XGBoost_grid_15 at: https://dagshub.com/Jugal-lachhwani/Data-Capstone-Project.mlflow/#/experiments/3/runs/c8e04c7990c54c7689ed026dd2310d6e.\n",
      "2025/10/22 17:27:18 INFO mlflow.tracking._tracking_service.client: 🧪 View experiment at: https://dagshub.com/Jugal-lachhwani/Data-Capstone-Project.mlflow/#/experiments/3.\n",
      "2025/10/22 17:27:26 INFO mlflow.tracking._tracking_service.client: 🏃 View run TFIDFVectorizer_XGBoost_grid_16 at: https://dagshub.com/Jugal-lachhwani/Data-Capstone-Project.mlflow/#/experiments/3/runs/f99c8f5c60414fd4b9d207dfb9b5c6c0.\n",
      "2025/10/22 17:27:26 INFO mlflow.tracking._tracking_service.client: 🧪 View experiment at: https://dagshub.com/Jugal-lachhwani/Data-Capstone-Project.mlflow/#/experiments/3.\n",
      "2025/10/22 17:27:34 INFO mlflow.tracking._tracking_service.client: 🏃 View run TFIDFVectorizer_XGBoost_grid_17 at: https://dagshub.com/Jugal-lachhwani/Data-Capstone-Project.mlflow/#/experiments/3/runs/a036060ec1b1410d8bda8d093d46eefe.\n",
      "2025/10/22 17:27:34 INFO mlflow.tracking._tracking_service.client: 🧪 View experiment at: https://dagshub.com/Jugal-lachhwani/Data-Capstone-Project.mlflow/#/experiments/3.\n"
     ]
    },
    {
     "name": "stdout",
     "output_type": "stream",
     "text": [
      "2025-10-22 17:27:35,501 - INFO - Training model: MultinomialNB\n",
      "2025-10-22 17:27:41,497 - INFO - Best params found: {'alpha': 0.1}\n"
     ]
    },
    {
     "name": "stderr",
     "output_type": "stream",
     "text": [
      "Downloading artifacts: 100%|██████████| 7/7 [00:02<00:00,  2.98it/s]\n"
     ]
    },
    {
     "name": "stdout",
     "output_type": "stream",
     "text": [
      "2025-10-22 17:28:26,137 - INFO - TFIDFVectorizer + MultinomialNB -> acc=0.704, f1=0.673\n"
     ]
    },
    {
     "name": "stderr",
     "output_type": "stream",
     "text": [
      "2025/10/22 17:28:27 INFO mlflow.tracking._tracking_service.client: 🏃 View run TFIDFVectorizer_MultinomialNB_grid_0 at: https://dagshub.com/Jugal-lachhwani/Data-Capstone-Project.mlflow/#/experiments/3/runs/2cc358a3691d42a9b2b513dc15f49001.\n",
      "2025/10/22 17:28:27 INFO mlflow.tracking._tracking_service.client: 🧪 View experiment at: https://dagshub.com/Jugal-lachhwani/Data-Capstone-Project.mlflow/#/experiments/3.\n",
      "2025/10/22 17:28:31 INFO mlflow.tracking._tracking_service.client: 🏃 View run TFIDFVectorizer_MultinomialNB_grid_1 at: https://dagshub.com/Jugal-lachhwani/Data-Capstone-Project.mlflow/#/experiments/3/runs/2cbda1bfe1734ec5af728fc2f1af291c.\n",
      "2025/10/22 17:28:31 INFO mlflow.tracking._tracking_service.client: 🧪 View experiment at: https://dagshub.com/Jugal-lachhwani/Data-Capstone-Project.mlflow/#/experiments/3.\n",
      "2025/10/22 17:28:38 INFO mlflow.tracking._tracking_service.client: 🏃 View run TFIDFVectorizer_MultinomialNB_grid_2 at: https://dagshub.com/Jugal-lachhwani/Data-Capstone-Project.mlflow/#/experiments/3/runs/6462775b36f740189985aa330febfa3d.\n",
      "2025/10/22 17:28:38 INFO mlflow.tracking._tracking_service.client: 🧪 View experiment at: https://dagshub.com/Jugal-lachhwani/Data-Capstone-Project.mlflow/#/experiments/3.\n"
     ]
    },
    {
     "name": "stdout",
     "output_type": "stream",
     "text": [
      "2025-10-22 17:28:39,618 - INFO - Training model: BernoulliNB\n"
     ]
    },
    {
     "name": "stderr",
     "output_type": "stream",
     "text": [
      "2025/10/22 17:28:46 INFO mlflow.tracking._tracking_service.client: 🏃 View run TFIDFVectorizer_BernoulliNB_grid_0 at: https://dagshub.com/Jugal-lachhwani/Data-Capstone-Project.mlflow/#/experiments/3/runs/3048ac2f3c6c4911a78177a37f4ca0b4.\n",
      "2025/10/22 17:28:46 INFO mlflow.tracking._tracking_service.client: 🧪 View experiment at: https://dagshub.com/Jugal-lachhwani/Data-Capstone-Project.mlflow/#/experiments/3.\n",
      "2025/10/22 17:28:54 INFO mlflow.tracking._tracking_service.client: 🏃 View run TFIDFVectorizer_BernoulliNB_grid_1 at: https://dagshub.com/Jugal-lachhwani/Data-Capstone-Project.mlflow/#/experiments/3/runs/5c35a864d53e4414ac1e98ea757cb680.\n",
      "2025/10/22 17:28:54 INFO mlflow.tracking._tracking_service.client: 🧪 View experiment at: https://dagshub.com/Jugal-lachhwani/Data-Capstone-Project.mlflow/#/experiments/3.\n",
      "2025/10/22 17:29:02 INFO mlflow.tracking._tracking_service.client: 🏃 View run TFIDFVectorizer_BernoulliNB_grid_2 at: https://dagshub.com/Jugal-lachhwani/Data-Capstone-Project.mlflow/#/experiments/3/runs/78e63416f516471e8bdd3d45b1f1871e.\n",
      "2025/10/22 17:29:02 INFO mlflow.tracking._tracking_service.client: 🧪 View experiment at: https://dagshub.com/Jugal-lachhwani/Data-Capstone-Project.mlflow/#/experiments/3.\n"
     ]
    },
    {
     "name": "stdout",
     "output_type": "stream",
     "text": [
      "2025-10-22 17:29:09,575 - INFO - Best params found: {'alpha': 0.5, 'binarize': 0.0}\n"
     ]
    },
    {
     "name": "stderr",
     "output_type": "stream",
     "text": [
      "Downloading artifacts:   0%|          | 0/7 [00:00<?, ?it/s]"
     ]
    },
    {
     "name": "stdout",
     "output_type": "stream",
     "text": [
      "2025-10-22 17:29:54,436 - WARNING - Retrying (Retry(total=4, connect=5, read=4, redirect=5, status=5)) after connection broken by 'RemoteDisconnected('Remote end closed connection without response')': /Jugal-lachhwani/Data-Capstone-Project.mlflow/api/2.0/mlflow-artifacts/artifacts/ac15dc126a5b4643985e05484a02c235/598cda19f6f944bf819fa35314dddb06/artifacts/best_model/requirements.txt\n"
     ]
    },
    {
     "name": "stderr",
     "output_type": "stream",
     "text": [
      "Downloading artifacts: 100%|██████████| 7/7 [00:01<00:00,  3.80it/s]\n"
     ]
    },
    {
     "name": "stdout",
     "output_type": "stream",
     "text": [
      "2025-10-22 17:29:56,278 - INFO - TFIDFVectorizer + BernoulliNB -> acc=0.664, f1=0.667\n"
     ]
    },
    {
     "name": "stderr",
     "output_type": "stream",
     "text": [
      "2025/10/22 17:29:57 INFO mlflow.tracking._tracking_service.client: 🏃 View run TFIDFVectorizer_BernoulliNB_grid_3 at: https://dagshub.com/Jugal-lachhwani/Data-Capstone-Project.mlflow/#/experiments/3/runs/598cda19f6f944bf819fa35314dddb06.\n",
      "2025/10/22 17:29:57 INFO mlflow.tracking._tracking_service.client: 🧪 View experiment at: https://dagshub.com/Jugal-lachhwani/Data-Capstone-Project.mlflow/#/experiments/3.\n",
      "2025/10/22 17:30:03 INFO mlflow.tracking._tracking_service.client: 🏃 View run TFIDFVectorizer_BernoulliNB_grid_4 at: https://dagshub.com/Jugal-lachhwani/Data-Capstone-Project.mlflow/#/experiments/3/runs/6d005913e42a4cbfadc39e7b1d3ea9c1.\n",
      "2025/10/22 17:30:03 INFO mlflow.tracking._tracking_service.client: 🧪 View experiment at: https://dagshub.com/Jugal-lachhwani/Data-Capstone-Project.mlflow/#/experiments/3.\n",
      "2025/10/22 17:30:11 INFO mlflow.tracking._tracking_service.client: 🏃 View run TFIDFVectorizer_BernoulliNB_grid_5 at: https://dagshub.com/Jugal-lachhwani/Data-Capstone-Project.mlflow/#/experiments/3/runs/10406148e29b47d29dc76ec4a1eec655.\n",
      "2025/10/22 17:30:11 INFO mlflow.tracking._tracking_service.client: 🧪 View experiment at: https://dagshub.com/Jugal-lachhwani/Data-Capstone-Project.mlflow/#/experiments/3.\n",
      "2025/10/22 17:30:19 INFO mlflow.tracking._tracking_service.client: 🏃 View run TFIDFVectorizer_BernoulliNB_grid_6 at: https://dagshub.com/Jugal-lachhwani/Data-Capstone-Project.mlflow/#/experiments/3/runs/0b91c1bd645e4cdc8564a99525b736c8.\n",
      "2025/10/22 17:30:19 INFO mlflow.tracking._tracking_service.client: 🧪 View experiment at: https://dagshub.com/Jugal-lachhwani/Data-Capstone-Project.mlflow/#/experiments/3.\n",
      "2025/10/22 17:30:27 INFO mlflow.tracking._tracking_service.client: 🏃 View run TFIDFVectorizer_BernoulliNB_grid_7 at: https://dagshub.com/Jugal-lachhwani/Data-Capstone-Project.mlflow/#/experiments/3/runs/63eaefb5bedf4fa5891575c1ee316a3e.\n",
      "2025/10/22 17:30:27 INFO mlflow.tracking._tracking_service.client: 🧪 View experiment at: https://dagshub.com/Jugal-lachhwani/Data-Capstone-Project.mlflow/#/experiments/3.\n",
      "2025/10/22 17:30:35 INFO mlflow.tracking._tracking_service.client: 🏃 View run TFIDFVectorizer_BernoulliNB_grid_8 at: https://dagshub.com/Jugal-lachhwani/Data-Capstone-Project.mlflow/#/experiments/3/runs/943e7fb38d7849b0acb426f9c5386a2e.\n",
      "2025/10/22 17:30:35 INFO mlflow.tracking._tracking_service.client: 🧪 View experiment at: https://dagshub.com/Jugal-lachhwani/Data-Capstone-Project.mlflow/#/experiments/3.\n",
      "2025/10/22 17:30:37 INFO mlflow.tracking._tracking_service.client: 🏃 View run All_experiments at: https://dagshub.com/Jugal-lachhwani/Data-Capstone-Project.mlflow/#/experiments/3/runs/e796da124ef446599ce442a890be8c46.\n",
      "2025/10/22 17:30:37 INFO mlflow.tracking._tracking_service.client: 🧪 View experiment at: https://dagshub.com/Jugal-lachhwani/Data-Capstone-Project.mlflow/#/experiments/3.\n"
     ]
    },
    {
     "name": "stdout",
     "output_type": "stream",
     "text": [
      "2025-10-22 17:30:38,373 - INFO - ✅ All models and parameters logged to MLflow successfully!\n"
     ]
    },
    {
     "data": {
      "image/png": "[encoded data removed]",
      "text/plain": [
       "<Figure size 400x300 with 2 Axes>"
      ]
     },
     "metadata": {},
     "output_type": "display_data"
    },
    {
     "data": {
      "image/png": "[encoded data removed]",
      "text/plain": [
       "<Figure size 400x300 with 2 Axes>"
      ]
     },
     "metadata": {},
     "output_type": "display_data"
    },
    {
     "data": {
      "image/png": "[encoded data removed]",
      "text/plain": [
       "<Figure size 400x300 with 2 Axes>"
      ]
     },
     "metadata": {},
     "output_type": "display_data"
    },
    {
     "data": {
      "image/png": "[encoded data removed]",
      "text/plain": [
       "<Figure size 400x300 with 2 Axes>"
      ]
     },
     "metadata": {},
     "output_type": "display_data"
    },
    {
     "data": {
      "image/png": "[encoded data removed]",
      "text/plain": [
       "<Figure size 400x300 with 2 Axes>"
      ]
     },
     "metadata": {},
     "output_type": "display_data"
    },
    {
     "data": {
      "image/png": "[encoded data removed]",
      "text/plain": [
       "<Figure size 400x300 with 2 Axes>"
      ]
     },
     "metadata": {},
     "output_type": "display_data"
    },
    {
     "data": {
      "image/png": "[encoded data removed]",
      "text/plain": [
       "<Figure size 400x300 with 2 Axes>"
      ]
     },
     "metadata": {},
     "output_type": "display_data"
    },
    {
     "data": {
      "image/png": "[encoded data removed]",
      "text/plain": [
       "<Figure size 400x300 with 2 Axes>"
      ]
     },
     "metadata": {},
     "output_type": "display_data"
    },
    {
     "data": {
      "image/png": "[encoded data removed]",
      "text/plain": [
       "<Figure size 400x300 with 2 Axes>"
      ]
     },
     "metadata": {},
     "output_type": "display_data"
    },
    {
     "data": {
      "image/png": "[encoded data removed]",
      "text/plain": [
       "<Figure size 400x300 with 2 Axes>"
      ]
     },
     "metadata": {},
     "output_type": "display_data"
    },
    {
     "data": {
      "image/png": "[encoded data removed]",
      "text/plain": [
       "<Figure size 400x300 with 2 Axes>"
      ]
     },
     "metadata": {},
     "output_type": "display_data"
    }
   ],
   "source": [
    "import mlflow\n",
    "import mlflow.sklearn\n",
    "import logging\n",
    "import sys\n",
    "import time\n",
    "import numpy as np\n",
    "import scipy\n",
    "import matplotlib.pyplot as plt\n",
    "import seaborn as sns\n",
    "import pandas as pd\n",
    "\n",
    "from sklearn.model_selection import train_test_split, GridSearchCV\n",
    "from sklearn.linear_model import LogisticRegression\n",
    "from sklearn.ensemble import RandomForestClassifier\n",
    "from sklearn.metrics import accuracy_score, precision_score, recall_score, f1_score, confusion_matrix, classification_report\n",
    "from sklearn.feature_extraction.text import CountVectorizer, TfidfVectorizer\n",
    "from sklearn.naive_bayes import MultinomialNB, BernoulliNB\n",
    "\n",
    "# --- Logging setup ---\n",
    "for h in logging.root.handlers[:]:\n",
    "    logging.root.removeHandler(h)\n",
    "logging.basicConfig(\n",
    "    level=logging.INFO,\n",
    "    format=\"%(asctime)s - %(levelname)s - %(message)s\",\n",
    "    handlers=[logging.StreamHandler(sys.stdout)],\n",
    "    force=True\n",
    ")\n",
    "\n",
    "X_train, X_test, y_train, y_test = train_test_split(X, y, test_size=0.25, random_state=42)\n",
    "\n",
    "# --- Define preprocessing methods ---\n",
    "vectorizers = {\n",
    "    \"TFIDFVectorizer\": TfidfVectorizer(max_features=100)\n",
    "}\n",
    "\n",
    "# --- Define models and hyperparameters ---\n",
    "models = {\n",
    "    \"LogisticRegression\": {\n",
    "        \"estimator\": LogisticRegression(max_iter=1000, random_state=42),\n",
    "        \"param_grid\": {\n",
    "            \"C\": [0.01, 0.1, 1.0, 10.0],\n",
    "            \"solver\": [\"lbfgs\", \"liblinear\"]\n",
    "        }\n",
    "    },\n",
    "    \"RidgeClassifier\": {\n",
    "        \"estimator\": RidgeClassifier(random_state=42),\n",
    "        \"param_grid\": {\n",
    "            \"alpha\": [0.1, 1.0, 10.0]\n",
    "        }\n",
    "    },\n",
    "    \"DecisionTree\": {\n",
    "        \"estimator\": DecisionTreeClassifier(random_state=42),\n",
    "        \"param_grid\": {\n",
    "            \"max_depth\": [None, 5, 10, 20],\n",
    "            \"min_samples_split\": [2, 5, 10]\n",
    "        }\n",
    "    },\n",
    "    \"RandomForest\": {\n",
    "        \"estimator\": RandomForestClassifier(random_state=42),\n",
    "        \"param_grid\": {\n",
    "            \"n_estimators\": [50, 100, 150, 200],\n",
    "            \"max_depth\": [None, 10, 20],\n",
    "            \"min_samples_split\": [2, 5, 10]\n",
    "        }\n",
    "    },\n",
    "    \"GradientBoosting\": {\n",
    "        \"estimator\": GradientBoostingClassifier(random_state=42),\n",
    "        \"param_grid\": {\n",
    "            \"n_estimators\": [100, 200],\n",
    "            \"learning_rate\": [0.01, 0.1, 0.2],\n",
    "            \"max_depth\": [3, 5, 7]\n",
    "        }\n",
    "    },\n",
    "    \"AdaBoost\": {\n",
    "        \"estimator\": AdaBoostClassifier(random_state=42),\n",
    "        \"param_grid\": {\n",
    "            \"n_estimators\": [50, 100, 200],\n",
    "            \"learning_rate\": [0.01, 0.1, 1.0]\n",
    "        }\n",
    "    },\n",
    "    \"SVM\": {\n",
    "        \"estimator\": SVC(probability=True, random_state=42),\n",
    "        \"param_grid\": {\n",
    "            \"C\": [0.1, 1, 10],\n",
    "            \"kernel\": [\"linear\", \"rbf\"]\n",
    "        }\n",
    "    },\n",
    "    \"KNN\": {\n",
    "        \"estimator\": KNeighborsClassifier(),\n",
    "        \"param_grid\": {\n",
    "            \"n_neighbors\": [3, 5, 7, 9],\n",
    "            \"weights\": [\"uniform\", \"distance\"]\n",
    "        }\n",
    "    },\n",
    "    \"XGBoost\": {\n",
    "        \"estimator\": XGBClassifier(use_label_encoder=False, eval_metric='logloss', random_state=42),\n",
    "        \"param_grid\": {\n",
    "            \"n_estimators\": [100, 200],\n",
    "            \"learning_rate\": [0.01, 0.1, 0.2],\n",
    "            \"max_depth\": [3, 5, 7]\n",
    "        }\n",
    "    },\n",
    "    \"MultinomialNB\": {\n",
    "        \"estimator\": MultinomialNB(),\n",
    "        \"param_grid\": {\n",
    "            \"alpha\": [0.1, 0.5, 1.0]\n",
    "        }\n",
    "    },\n",
    "    \"BernoulliNB\": {\n",
    "        \"estimator\": BernoulliNB(),\n",
    "        \"param_grid\": {\n",
    "            \"alpha\": [0.1, 0.5, 1.0],\n",
    "            \"binarize\": [0.0, 0.5, 1.0]\n",
    "        }\n",
    "    }\n",
    "}\n",
    "\n",
    "# --- Loop through all combinations ---\n",
    "with mlflow.start_run(run_name='All_experiments') as parent_run:\n",
    "    \n",
    "    for vec_name, vec in vectorizers.items():\n",
    "        logging.info(f\"Vectorizer: {vec_name}\")\n",
    "\n",
    "        X_train_vec = vec.fit_transform(X_train)\n",
    "        X_test_vec = vec.transform(X_test)\n",
    "\n",
    "        for model_name, model_info in models.items():\n",
    "            logging.info(f\"Training model: {model_name}\")\n",
    "\n",
    "            # --- Train GridSearchCV ---\n",
    "            grid = GridSearchCV(\n",
    "                estimator=model_info[\"estimator\"],\n",
    "                param_grid=model_info[\"param_grid\"],\n",
    "                cv=3,\n",
    "                n_jobs=-1,\n",
    "                verbose=0,\n",
    "                return_train_score=True\n",
    "            )\n",
    "            grid.fit(X_train_vec, y_train)\n",
    "\n",
    "            # --- Log each parameter combination ---\n",
    "            for i, params in enumerate(grid.cv_results_[\"params\"]):\n",
    "                with mlflow.start_run(run_name=f\"{vec_name}_{model_name}_grid_{i}\", nested=True) as child_run:\n",
    "                    # Log params and CV scores\n",
    "                    mlflow.log_param(\"vectorizer\", vec_name)\n",
    "                    mlflow.log_param(\"model\", model_name)\n",
    "                    mlflow.log_params(params)\n",
    "\n",
    "                    mlflow.log_metric(\"mean_test_score\", grid.cv_results_[\"mean_test_score\"][i])\n",
    "                    mlflow.log_metric(\"mean_train_score\", grid.cv_results_[\"mean_train_score\"][i])\n",
    "\n",
    "                    # If this is the best params, log full model, metrics, etc.\n",
    "                    if params == grid.best_params_:\n",
    "                        logging.info(f\"Best params found: {params}\")\n",
    "                        \n",
    "                        mlflow.set_tag(\"best_model\", \"True\")\n",
    "                        \n",
    "                        best_model = grid.best_estimator_\n",
    "\n",
    "                        y_pred = best_model.predict(X_test_vec)\n",
    "\n",
    "                        acc = accuracy_score(y_test, y_pred)\n",
    "                        prec = precision_score(y_test, y_pred)\n",
    "                        rec = recall_score(y_test, y_pred)\n",
    "                        f1 = f1_score(y_test, y_pred)\n",
    "\n",
    "                        mlflow.log_metrics({\n",
    "                            \"accuracy\": acc,\n",
    "                            \"precision\": prec,\n",
    "                            \"recall\": rec,\n",
    "                            \"f1\": f1\n",
    "                        })\n",
    "\n",
    "                        # Log classification report\n",
    "                        report = classification_report(y_test, y_pred, output_dict=True)\n",
    "                        mlflow.log_dict(report, \"classification_report.json\")\n",
    "\n",
    "                        # Log confusion matrix\n",
    "                        conf = confusion_matrix(y_test, y_pred)\n",
    "                        mlflow.log_dict({\"confusion_matrix\": conf.tolist()}, \"confusion_matrix.json\")\n",
    "\n",
    "                        # Log confusion matrix plot\n",
    "                        plt.figure(figsize=(4,3))\n",
    "                        sns.heatmap(conf, annot=True, fmt=\"d\", cmap=\"Blues\")\n",
    "                        plt.xlabel(\"Predicted\")\n",
    "                        plt.ylabel(\"Actual\")\n",
    "                        plt.title(f\"{vec_name} + {model_name}\")\n",
    "                        plt.tight_layout()\n",
    "                        plt.savefig(\"confusion_matrix.png\")\n",
    "                        mlflow.log_artifact(\"confusion_matrix.png\")\n",
    "\n",
    "                        # Log model\n",
    "                        input_example = (\n",
    "                            X_test_vec[:5].toarray() if scipy.sparse.issparse(X_test_vec)\n",
    "                            else X_test_vec[:5]\n",
    "                        )\n",
    "                        mlflow.sklearn.log_model(best_model, \"best_model\", input_example=input_example)\n",
    "\n",
    "                        logging.info(f\"{vec_name} + {model_name} -> acc={acc:.3f}, f1={f1:.3f}\")\n",
    "\n",
    "logging.info(\"✅ All models and parameters logged to MLflow successfully!\")"
   ]
  },
  {
   "cell_type": "code",
   "execution_count": null,
   "id": "131a85c6",
   "metadata": {},
   "outputs": [],
   "source": []
  }
 ],
 "metadata": {
  "kernelspec": {
   "display_name": "simple_env",
   "language": "python",
   "name": "python3"
  },
  "language_info": {
   "codemirror_mode": {
    "name": "ipython",
    "version": 3
   },
   "file_extension": ".py",
   "mimetype": "text/x-python",
   "name": "python",
   "nbconvert_exporter": "python",
   "pygments_lexer": "ipython3",
   "version": "3.11.14"
  }
 },
 "nbformat": 4,
 "nbformat_minor": 5
}
