{
 "cells": [
  {
   "cell_type": "code",
   "execution_count": 17,
   "id": "d011b5c7",
   "metadata": {},
   "outputs": [],
   "source": [
    "import mlflow\n",
    "import mlflow.sklearn\n",
    "import logging\n",
    "import sys\n",
    "import time\n",
    "import numpy as np\n",
    "import scipy\n",
    "import matplotlib.pyplot as plt\n",
    "import seaborn as sns\n",
    "import pandas as pd\n",
    "import nltk\n",
    "from nltk.corpus import stopwords\n",
    "from nltk.stem import WordNetLemmatizer\n",
    "import re\n",
    "import os\n",
    "import sys\n",
    "import string\n",
    "\n",
    "from sklearn.model_selection import train_test_split, GridSearchCV\n",
    "from sklearn.linear_model import LogisticRegression\n",
    "from sklearn.ensemble import RandomForestClassifier\n",
    "from sklearn.metrics import accuracy_score, precision_score, recall_score, f1_score, confusion_matrix, classification_report\n",
    "from sklearn.feature_extraction.text import CountVectorizer, TfidfVectorizer"
   ]
  },
  {
   "cell_type": "code",
   "execution_count": 18,
   "id": "d87a585f",
   "metadata": {},
   "outputs": [],
   "source": [
    "df = pd.read_csv('data.csv')"
   ]
  },
  {
   "cell_type": "code",
   "execution_count": 19,
   "id": "590f9828",
   "metadata": {},
   "outputs": [],
   "source": [
    "def lemmatization(text):\n",
    "    \"\"\"Lemmatize the text.\"\"\"\n",
    "    lemmatizer = WordNetLemmatizer()\n",
    "    text = text.split()\n",
    "    text = [lemmatizer.lemmatize(word) for word in text]\n",
    "    return \" \".join(text)\n",
    "\n",
    "def remove_stop_words(text):\n",
    "    \"\"\"Remove stop words from the text.\"\"\"\n",
    "    stop_words = set(stopwords.words(\"english\"))\n",
    "    text = [word for word in str(text).split() if word not in stop_words]\n",
    "    return \" \".join(text)\n",
    "\n",
    "def removing_numbers(text):\n",
    "    \"\"\"Remove numbers from the text.\"\"\"\n",
    "    text = ''.join([char for char in text if not char.isdigit()])\n",
    "    return text\n",
    "\n",
    "def lower_case(text):\n",
    "    \"\"\"Convert text to lower case.\"\"\"\n",
    "    text = text.split()\n",
    "    text = [word.lower() for word in text]\n",
    "    return \" \".join(text)\n",
    "\n",
    "def removing_punctuations(text):\n",
    "    \"\"\"Remove punctuations from the text.\"\"\"\n",
    "    text = re.sub('[%s]' % re.escape(string.punctuation), ' ', text)\n",
    "    text = text.replace('؛', \"\")\n",
    "    text = re.sub('\\s+', ' ', text).strip()\n",
    "    return text\n",
    "\n",
    "def removing_urls(text):\n",
    "    \"\"\"Remove URLs from the text.\"\"\"\n",
    "    url_pattern = re.compile(r'https?://\\S+|www\\.\\S+')\n",
    "    return url_pattern.sub(r'', text)\n",
    "\n",
    "def normalize_text(df):\n",
    "    \"\"\"Normalize the text data.\"\"\"\n",
    "    try:\n",
    "        df['review'] = df['review'].apply(lower_case)\n",
    "        df['review'] = df['review'].apply(remove_stop_words)\n",
    "        df['review'] = df['review'].apply(removing_numbers)\n",
    "        df['review'] = df['review'].apply(removing_punctuations)\n",
    "        df['review'] = df['review'].apply(removing_urls)\n",
    "        df['review'] = df['review'].apply(lemmatization)\n",
    "        return df\n",
    "    except Exception as e:\n",
    "        print(f'Error during text normalization: {e}')\n",
    "        raise\n"
   ]
  },
  {
   "cell_type": "code",
   "execution_count": 20,
   "id": "3f80ec84",
   "metadata": {},
   "outputs": [
    {
     "name": "stderr",
     "output_type": "stream",
     "text": [
      "[nltk_data] Downloading package wordnet to\n",
      "[nltk_data]     C:\\Users\\DELL\\AppData\\Roaming\\nltk_data...\n",
      "[nltk_data]   Package wordnet is already up-to-date!\n"
     ]
    },
    {
     "data": {
      "text/html": [
       "<div>\n",
       "<style scoped>\n",
       "    .dataframe tbody tr th:only-of-type {\n",
       "        vertical-align: middle;\n",
       "    }\n",
       "\n",
       "    .dataframe tbody tr th {\n",
       "        vertical-align: top;\n",
       "    }\n",
       "\n",
       "    .dataframe thead th {\n",
       "        text-align: right;\n",
       "    }\n",
       "</style>\n",
       "<table border=\"1\" class=\"dataframe\">\n",
       "  <thead>\n",
       "    <tr style=\"text-align: right;\">\n",
       "      <th></th>\n",
       "      <th>review</th>\n",
       "      <th>sentiment</th>\n",
       "    </tr>\n",
       "  </thead>\n",
       "  <tbody>\n",
       "    <tr>\n",
       "      <th>0</th>\n",
       "      <td>every great gangster movie under current human...</td>\n",
       "      <td>positive</td>\n",
       "    </tr>\n",
       "    <tr>\n",
       "      <th>1</th>\n",
       "      <td>saw film last night say loved every minute tak...</td>\n",
       "      <td>positive</td>\n",
       "    </tr>\n",
       "    <tr>\n",
       "      <th>2</th>\n",
       "      <td>film mildly entertaining one neglect acknowled...</td>\n",
       "      <td>negative</td>\n",
       "    </tr>\n",
       "    <tr>\n",
       "      <th>3</th>\n",
       "      <td>quentin tarantino s partner crime roger avary ...</td>\n",
       "      <td>negative</td>\n",
       "    </tr>\n",
       "    <tr>\n",
       "      <th>4</th>\n",
       "      <td>sat tv hoping name would worth time but dear g...</td>\n",
       "      <td>negative</td>\n",
       "    </tr>\n",
       "  </tbody>\n",
       "</table>\n",
       "</div>"
      ],
      "text/plain": [
       "                                              review sentiment\n",
       "0  every great gangster movie under current human...  positive\n",
       "1  saw film last night say loved every minute tak...  positive\n",
       "2  film mildly entertaining one neglect acknowled...  negative\n",
       "3  quentin tarantino s partner crime roger avary ...  negative\n",
       "4  sat tv hoping name would worth time but dear g...  negative"
      ]
     },
     "execution_count": 20,
     "metadata": {},
     "output_type": "execute_result"
    }
   ],
   "source": [
    "nltk.download('wordnet')\n",
    "df = normalize_text(df)\n",
    "df.head()"
   ]
  },
  {
   "cell_type": "code",
   "execution_count": 21,
   "id": "d1e2b23a",
   "metadata": {},
   "outputs": [
    {
     "data": {
      "text/html": [
       "<div>\n",
       "<style scoped>\n",
       "    .dataframe tbody tr th:only-of-type {\n",
       "        vertical-align: middle;\n",
       "    }\n",
       "\n",
       "    .dataframe tbody tr th {\n",
       "        vertical-align: top;\n",
       "    }\n",
       "\n",
       "    .dataframe thead th {\n",
       "        text-align: right;\n",
       "    }\n",
       "</style>\n",
       "<table border=\"1\" class=\"dataframe\">\n",
       "  <thead>\n",
       "    <tr style=\"text-align: right;\">\n",
       "      <th></th>\n",
       "      <th>review</th>\n",
       "      <th>sentiment</th>\n",
       "    </tr>\n",
       "  </thead>\n",
       "  <tbody>\n",
       "    <tr>\n",
       "      <th>0</th>\n",
       "      <td>every great gangster movie under current human...</td>\n",
       "      <td>1</td>\n",
       "    </tr>\n",
       "    <tr>\n",
       "      <th>1</th>\n",
       "      <td>saw film last night say loved every minute tak...</td>\n",
       "      <td>1</td>\n",
       "    </tr>\n",
       "    <tr>\n",
       "      <th>2</th>\n",
       "      <td>film mildly entertaining one neglect acknowled...</td>\n",
       "      <td>0</td>\n",
       "    </tr>\n",
       "    <tr>\n",
       "      <th>3</th>\n",
       "      <td>quentin tarantino s partner crime roger avary ...</td>\n",
       "      <td>0</td>\n",
       "    </tr>\n",
       "    <tr>\n",
       "      <th>4</th>\n",
       "      <td>sat tv hoping name would worth time but dear g...</td>\n",
       "      <td>0</td>\n",
       "    </tr>\n",
       "  </tbody>\n",
       "</table>\n",
       "</div>"
      ],
      "text/plain": [
       "                                              review  sentiment\n",
       "0  every great gangster movie under current human...          1\n",
       "1  saw film last night say loved every minute tak...          1\n",
       "2  film mildly entertaining one neglect acknowled...          0\n",
       "3  quentin tarantino s partner crime roger avary ...          0\n",
       "4  sat tv hoping name would worth time but dear g...          0"
      ]
     },
     "execution_count": 21,
     "metadata": {},
     "output_type": "execute_result"
    }
   ],
   "source": [
    "df['sentiment'] = df['sentiment'].map({'positive':1, 'negative':0})\n",
    "df.head()"
   ]
  },
  {
   "cell_type": "code",
   "execution_count": 22,
   "id": "81ec1e0a",
   "metadata": {},
   "outputs": [
    {
     "data": {
      "text/plain": [
       "review       0\n",
       "sentiment    0\n",
       "dtype: int64"
      ]
     },
     "execution_count": 22,
     "metadata": {},
     "output_type": "execute_result"
    }
   ],
   "source": [
    "df.isnull().sum()"
   ]
  },
  {
   "cell_type": "code",
   "execution_count": 30,
   "id": "53c84263",
   "metadata": {},
   "outputs": [],
   "source": [
    "X = df['review']\n",
    "y = df['sentiment']"
   ]
  },
  {
   "cell_type": "code",
   "execution_count": 31,
   "id": "3b5c27e2",
   "metadata": {},
   "outputs": [
    {
     "name": "stdout",
     "output_type": "stream",
     "text": [
      "2025-10-19 13:34:12,334 - INFO - HTTP Request: GET https://dagshub.com/api/v1/repos/Jugal-lachhwani/Data-Capstone-Project \"HTTP/1.1 200 OK\"\n"
     ]
    },
    {
     "data": {
      "text/html": [
       "<pre style=\"white-space:pre;overflow-x:auto;line-height:normal;font-family:Menlo,'DejaVu Sans Mono',consolas,'Courier New',monospace\">Initialized MLflow to track repo <span style=\"color: #008000; text-decoration-color: #008000\">\"Jugal-lachhwani/Data-Capstone-Project\"</span>\n",
       "</pre>\n"
      ],
      "text/plain": [
       "Initialized MLflow to track repo \u001b[32m\"Jugal-lachhwani/Data-Capstone-Project\"\u001b[0m\n"
      ]
     },
     "metadata": {},
     "output_type": "display_data"
    },
    {
     "name": "stdout",
     "output_type": "stream",
     "text": [
      "2025-10-19 13:34:12,345 - INFO - Initialized MLflow to track repo \"Jugal-lachhwani/Data-Capstone-Project\"\n"
     ]
    },
    {
     "data": {
      "text/html": [
       "<pre style=\"white-space:pre;overflow-x:auto;line-height:normal;font-family:Menlo,'DejaVu Sans Mono',consolas,'Courier New',monospace\">Repository Jugal-lachhwani/Data-Capstone-Project initialized!\n",
       "</pre>\n"
      ],
      "text/plain": [
       "Repository Jugal-lachhwani/Data-Capstone-Project initialized!\n"
      ]
     },
     "metadata": {},
     "output_type": "display_data"
    },
    {
     "name": "stdout",
     "output_type": "stream",
     "text": [
      "2025-10-19 13:34:12,350 - INFO - Repository Jugal-lachhwani/Data-Capstone-Project initialized!\n"
     ]
    }
   ],
   "source": [
    "import dagshub\n",
    "mlflow.set_tracking_uri(\"https://dagshub.com/Jugal-lachhwani/Data-Capstone-Project.mlflow\")\n",
    "dagshub.init(repo_owner='Jugal-lachhwani', repo_name='Data-Capstone-Project', mlflow=True)"
   ]
  },
  {
   "cell_type": "code",
   "execution_count": null,
   "id": "b731f663",
   "metadata": {},
   "outputs": [
    {
     "name": "stderr",
     "output_type": "stream",
     "text": [
      "2025/10/19 13:14:02 INFO mlflow.tracking.fluent: Experiment with name 'GridSearchCV' does not exist. Creating a new experiment.\n"
     ]
    },
    {
     "name": "stdout",
     "output_type": "stream",
     "text": [
      "2025-10-19 13:14:03,223 - INFO - Vectorizer: CountVectorizer\n",
      "2025-10-19 13:14:03,424 - INFO - Training model: LogisticRegression\n"
     ]
    },
    {
     "name": "stderr",
     "output_type": "stream",
     "text": [
      "Downloading artifacts: 100%|██████████| 7/7 [00:01<00:00,  4.88it/s]\n"
     ]
    },
    {
     "name": "stdout",
     "output_type": "stream",
     "text": [
      "2025-10-19 13:14:28,540 - INFO - CountVectorizer + LogisticRegression -> acc=0.704, f1=0.678\n"
     ]
    },
    {
     "name": "stderr",
     "output_type": "stream",
     "text": [
      "2025/10/19 13:14:28 INFO mlflow.tracking._tracking_service.client: 🏃 View run CountVectorizer_LogisticRegression at: https://dagshub.com/Jugal-lachhwani/Data-Capstone-Project.mlflow/#/experiments/1/runs/1809fad185b24a21bee5206497c9b105.\n",
      "2025/10/19 13:14:28 INFO mlflow.tracking._tracking_service.client: 🧪 View experiment at: https://dagshub.com/Jugal-lachhwani/Data-Capstone-Project.mlflow/#/experiments/1.\n"
     ]
    },
    {
     "name": "stdout",
     "output_type": "stream",
     "text": [
      "2025-10-19 13:14:29,959 - INFO - Training model: RandomForest\n"
     ]
    },
    {
     "name": "stderr",
     "output_type": "stream",
     "text": [
      "Downloading artifacts: 100%|██████████| 7/7 [00:02<00:00,  2.73it/s]\n"
     ]
    },
    {
     "name": "stdout",
     "output_type": "stream",
     "text": [
      "2025-10-19 13:14:57,977 - INFO - CountVectorizer + RandomForest -> acc=0.624, f1=0.535\n"
     ]
    },
    {
     "name": "stderr",
     "output_type": "stream",
     "text": [
      "2025/10/19 13:14:59 INFO mlflow.tracking._tracking_service.client: 🏃 View run CountVectorizer_RandomForest at: https://dagshub.com/Jugal-lachhwani/Data-Capstone-Project.mlflow/#/experiments/1/runs/7d03c3ecc34040c5927778926d35fcc8.\n",
      "2025/10/19 13:14:59 INFO mlflow.tracking._tracking_service.client: 🧪 View experiment at: https://dagshub.com/Jugal-lachhwani/Data-Capstone-Project.mlflow/#/experiments/1.\n"
     ]
    },
    {
     "name": "stdout",
     "output_type": "stream",
     "text": [
      "2025-10-19 13:15:00,033 - INFO - Vectorizer: TFIDFVectorizer\n",
      "2025-10-19 13:15:00,152 - INFO - Training model: LogisticRegression\n"
     ]
    },
    {
     "name": "stderr",
     "output_type": "stream",
     "text": [
      "Downloading artifacts: 100%|██████████| 7/7 [00:05<00:00,  1.17it/s]\n"
     ]
    },
    {
     "name": "stdout",
     "output_type": "stream",
     "text": [
      "2025-10-19 13:15:28,085 - INFO - TFIDFVectorizer + LogisticRegression -> acc=0.664, f1=0.638\n"
     ]
    },
    {
     "name": "stderr",
     "output_type": "stream",
     "text": [
      "2025/10/19 13:15:29 INFO mlflow.tracking._tracking_service.client: 🏃 View run TFIDFVectorizer_LogisticRegression at: https://dagshub.com/Jugal-lachhwani/Data-Capstone-Project.mlflow/#/experiments/1/runs/978d8ee24fad448cb1e5a23faa236319.\n",
      "2025/10/19 13:15:29 INFO mlflow.tracking._tracking_service.client: 🧪 View experiment at: https://dagshub.com/Jugal-lachhwani/Data-Capstone-Project.mlflow/#/experiments/1.\n"
     ]
    },
    {
     "name": "stdout",
     "output_type": "stream",
     "text": [
      "2025-10-19 13:15:29,983 - INFO - Training model: RandomForest\n"
     ]
    },
    {
     "name": "stderr",
     "output_type": "stream",
     "text": [
      "Downloading artifacts: 100%|██████████| 7/7 [00:02<00:00,  3.25it/s]\n"
     ]
    },
    {
     "name": "stdout",
     "output_type": "stream",
     "text": [
      "2025-10-19 13:15:58,497 - INFO - TFIDFVectorizer + RandomForest -> acc=0.712, f1=0.690\n"
     ]
    },
    {
     "name": "stderr",
     "output_type": "stream",
     "text": [
      "2025/10/19 13:15:59 INFO mlflow.tracking._tracking_service.client: 🏃 View run TFIDFVectorizer_RandomForest at: https://dagshub.com/Jugal-lachhwani/Data-Capstone-Project.mlflow/#/experiments/1/runs/6006952b6c3d48ec9ba7ab6fea0c4874.\n",
      "2025/10/19 13:15:59 INFO mlflow.tracking._tracking_service.client: 🧪 View experiment at: https://dagshub.com/Jugal-lachhwani/Data-Capstone-Project.mlflow/#/experiments/1.\n"
     ]
    },
    {
     "data": {
      "image/png": "[encoded data removed]",
      "text/plain": [
       "<Figure size 400x300 with 2 Axes>"
      ]
     },
     "metadata": {},
     "output_type": "display_data"
    },
    {
     "data": {
      "image/png": "[encoded data removed]",
      "text/plain": [
       "<Figure size 400x300 with 2 Axes>"
      ]
     },
     "metadata": {},
     "output_type": "display_data"
    },
    {
     "data": {
      "image/png": "[encoded data removed]",
      "text/plain": [
       "<Figure size 400x300 with 2 Axes>"
      ]
     },
     "metadata": {},
     "output_type": "display_data"
    },
    {
     "data": {
      "image/png": "[encoded data removed]",
      "text/plain": [
       "<Figure size 400x300 with 2 Axes>"
      ]
     },
     "metadata": {},
     "output_type": "display_data"
    }
   ],
   "source": [
    "mlflow.set_experiment('GridSearchCV')\n",
    "\n",
    "# --- Logging setup for notebook ---\n",
    "for h in logging.root.handlers[:]:\n",
    "    logging.root.removeHandler(h)\n",
    "logging.basicConfig(\n",
    "    level=logging.INFO,\n",
    "    format=\"%(asctime)s - %(levelname)s - %(message)s\",\n",
    "    handlers=[logging.StreamHandler(sys.stdout)],\n",
    "    force=True\n",
    ")\n",
    "\n",
    "X_train, X_test, y_train, y_test = train_test_split(X, y, test_size=0.25, random_state=42)\n",
    "\n",
    "# --- Define preprocessing methods ---\n",
    "vectorizers = {\n",
    "    \"CountVectorizer\": CountVectorizer(max_features=100),\n",
    "    \"TFIDFVectorizer\": TfidfVectorizer(max_features=100)\n",
    "}\n",
    "\n",
    "# --- Define algorithms and hyperparameters ---\n",
    "models = {\n",
    "    \"LogisticRegression\": {\n",
    "        \"estimator\": LogisticRegression(max_iter=1000, random_state=42),\n",
    "        \"param_grid\": {\"C\": [0.1, 1.0, 10.0]}\n",
    "    },\n",
    "    \"RandomForest\": {\n",
    "        \"estimator\": RandomForestClassifier(random_state=42),\n",
    "        \"param_grid\": {\"n_estimators\": [50, 100,150,200], \"max_depth\": [None, 10]}\n",
    "    }\n",
    "    \n",
    "}\n",
    "\n",
    "\n",
    "\n",
    "# --- Loop through all combinations ---\n",
    "for vec_name, vec in vectorizers.items():\n",
    "    logging.info(f\"Vectorizer: {vec_name}\")\n",
    "\n",
    "    X_train_vec = vec.fit_transform(X_train)\n",
    "    X_test_vec = vec.transform(X_test)\n",
    "\n",
    "    for model_name, model_info in models.items():\n",
    "        logging.info(f\"Training model: {model_name}\")\n",
    "\n",
    "        with mlflow.start_run(run_name=f\"{vec_name}_{model_name}\"):\n",
    "\n",
    "            start_time = time.time()\n",
    "\n",
    "            # Fit GridSearchCV\n",
    "            grid = GridSearchCV(\n",
    "                estimator=model_info[\"estimator\"],\n",
    "                param_grid=model_info[\"param_grid\"],\n",
    "                cv=3,\n",
    "                n_jobs=-1,\n",
    "                verbose=0\n",
    "            )\n",
    "\n",
    "            grid.fit(X_train_vec, y_train)\n",
    "            best_model = grid.best_estimator_\n",
    "\n",
    "            y_pred = best_model.predict(X_test_vec)\n",
    "\n",
    "            # --- Calculate metrics ---\n",
    "            acc = accuracy_score(y_test, y_pred)\n",
    "            prec = precision_score(y_test, y_pred)\n",
    "            rec = recall_score(y_test, y_pred)\n",
    "            f1 = f1_score(y_test, y_pred)\n",
    "\n",
    "            # --- Log parameters ---\n",
    "            mlflow.log_param(\"vectorizer\", vec_name)\n",
    "            mlflow.log_param(\"model\", model_name)\n",
    "            mlflow.log_params(grid.best_params_)\n",
    "\n",
    "            # --- Log metrics ---\n",
    "            mlflow.log_metrics({\n",
    "                \"accuracy\": acc,\n",
    "                \"precision\": prec,\n",
    "                \"recall\": rec,\n",
    "                \"f1\": f1\n",
    "            })\n",
    "\n",
    "            # --- Log classification report ---\n",
    "            report = classification_report(y_test, y_pred, output_dict=True)\n",
    "            mlflow.log_dict(report, \"classification_report.json\")\n",
    "\n",
    "            # --- Log confusion matrix ---\n",
    "            conf = confusion_matrix(y_test, y_pred)\n",
    "            conf_dict = {\"confusion_matrix\": conf.tolist()}\n",
    "            mlflow.log_dict(conf_dict, \"confusion_matrix.json\")\n",
    "\n",
    "            # --- Optional: confusion matrix plot ---\n",
    "            plt.figure(figsize=(4,3))\n",
    "            sns.heatmap(conf, annot=True, fmt=\"d\", cmap=\"Blues\")\n",
    "            plt.xlabel(\"Predicted\")\n",
    "            plt.ylabel(\"Actual\")\n",
    "            plt.title(f\"{vec_name} + {model_name}\")\n",
    "            plt.tight_layout()\n",
    "            plt.savefig(\"confusion_matrix.png\")\n",
    "            mlflow.log_artifact(\"confusion_matrix.png\")\n",
    "\n",
    "            # --- Log model ---\n",
    "            input_example = (\n",
    "                X_test_vec[:5].toarray() if scipy.sparse.issparse(X_test_vec)\n",
    "                else X_test_vec[:5]\n",
    "            )\n",
    "            mlflow.sklearn.log_model(best_model, \"model\", input_example=input_example)\n",
    "\n",
    "            end_time = time.time()\n",
    "            mlflow.log_metric(\"training_time_sec\", end_time - start_time)\n",
    "\n",
    "            logging.info(f\"{vec_name} + {model_name} -> acc={acc:.3f}, f1={f1:.3f}\")"
   ]
  },
  {
   "cell_type": "code",
   "execution_count": null,
   "id": "e8b319f8",
   "metadata": {},
   "outputs": [
    {
     "name": "stdout",
     "output_type": "stream",
     "text": [
      "2025-10-19 14:13:02,523 - INFO - Vectorizer: CountVectorizer\n",
      "2025-10-19 14:13:02,728 - INFO - Training model: LogisticRegression\n",
      "2025-10-19 14:13:13,356 - INFO - Best params found: {'C': 0.1}\n"
     ]
    },
    {
     "name": "stderr",
     "output_type": "stream",
     "text": [
      "Downloading artifacts: 100%|██████████| 7/7 [00:01<00:00,  3.66it/s]\n"
     ]
    },
    {
     "name": "stdout",
     "output_type": "stream",
     "text": [
      "2025-10-19 14:13:39,184 - INFO - CountVectorizer + LogisticRegression -> acc=0.704, f1=0.678\n"
     ]
    },
    {
     "name": "stderr",
     "output_type": "stream",
     "text": [
      "2025/10/19 14:13:39 INFO mlflow.tracking._tracking_service.client: 🏃 View run CountVectorizer_LogisticRegression_grid_0 at: https://dagshub.com/Jugal-lachhwani/Data-Capstone-Project.mlflow/#/experiments/1/runs/01bd8fc457f14fd1a629dfdd1478105b.\n",
      "2025/10/19 14:13:39 INFO mlflow.tracking._tracking_service.client: 🧪 View experiment at: https://dagshub.com/Jugal-lachhwani/Data-Capstone-Project.mlflow/#/experiments/1.\n",
      "2025/10/19 14:13:45 INFO mlflow.tracking._tracking_service.client: 🏃 View run CountVectorizer_LogisticRegression_grid_1 at: https://dagshub.com/Jugal-lachhwani/Data-Capstone-Project.mlflow/#/experiments/1/runs/8ee304f9bfb14f0eb1b9ef9475755e68.\n",
      "2025/10/19 14:13:45 INFO mlflow.tracking._tracking_service.client: 🧪 View experiment at: https://dagshub.com/Jugal-lachhwani/Data-Capstone-Project.mlflow/#/experiments/1.\n",
      "2025/10/19 14:13:53 INFO mlflow.tracking._tracking_service.client: 🏃 View run CountVectorizer_LogisticRegression_grid_2 at: https://dagshub.com/Jugal-lachhwani/Data-Capstone-Project.mlflow/#/experiments/1/runs/cc4f84fe37a740cf9df436774309293f.\n",
      "2025/10/19 14:13:53 INFO mlflow.tracking._tracking_service.client: 🧪 View experiment at: https://dagshub.com/Jugal-lachhwani/Data-Capstone-Project.mlflow/#/experiments/1.\n"
     ]
    },
    {
     "name": "stdout",
     "output_type": "stream",
     "text": [
      "2025-10-19 14:13:54,330 - INFO - Training model: RandomForest\n"
     ]
    },
    {
     "name": "stderr",
     "output_type": "stream",
     "text": [
      "2025/10/19 14:14:01 INFO mlflow.tracking._tracking_service.client: 🏃 View run CountVectorizer_RandomForest_grid_0 at: https://dagshub.com/Jugal-lachhwani/Data-Capstone-Project.mlflow/#/experiments/1/runs/bc69e11a87c44eb28ccb52f5de49fb8f.\n",
      "2025/10/19 14:14:01 INFO mlflow.tracking._tracking_service.client: 🧪 View experiment at: https://dagshub.com/Jugal-lachhwani/Data-Capstone-Project.mlflow/#/experiments/1.\n",
      "2025/10/19 14:14:09 INFO mlflow.tracking._tracking_service.client: 🏃 View run CountVectorizer_RandomForest_grid_1 at: https://dagshub.com/Jugal-lachhwani/Data-Capstone-Project.mlflow/#/experiments/1/runs/3c5105f9085e4a39bab4c8609f7562de.\n",
      "2025/10/19 14:14:09 INFO mlflow.tracking._tracking_service.client: 🧪 View experiment at: https://dagshub.com/Jugal-lachhwani/Data-Capstone-Project.mlflow/#/experiments/1.\n"
     ]
    },
    {
     "name": "stdout",
     "output_type": "stream",
     "text": [
      "2025-10-19 14:14:16,435 - INFO - Best params found: {'max_depth': 10, 'n_estimators': 50}\n"
     ]
    },
    {
     "name": "stderr",
     "output_type": "stream",
     "text": [
      "Downloading artifacts: 100%|██████████| 7/7 [00:01<00:00,  3.83it/s]"
     ]
    },
    {
     "name": "stdout",
     "output_type": "stream",
     "text": [
      "2025-10-19 14:14:47,730 - INFO - CountVectorizer + RandomForest -> acc=0.624, f1=0.535\n"
     ]
    },
    {
     "name": "stderr",
     "output_type": "stream",
     "text": [
      "\n",
      "2025/10/19 14:14:48 INFO mlflow.tracking._tracking_service.client: 🏃 View run CountVectorizer_RandomForest_grid_2 at: https://dagshub.com/Jugal-lachhwani/Data-Capstone-Project.mlflow/#/experiments/1/runs/c1ae733cde054e949cc27f69fbc2bb1e.\n",
      "2025/10/19 14:14:48 INFO mlflow.tracking._tracking_service.client: 🧪 View experiment at: https://dagshub.com/Jugal-lachhwani/Data-Capstone-Project.mlflow/#/experiments/1.\n",
      "2025/10/19 14:14:55 INFO mlflow.tracking._tracking_service.client: 🏃 View run CountVectorizer_RandomForest_grid_3 at: https://dagshub.com/Jugal-lachhwani/Data-Capstone-Project.mlflow/#/experiments/1/runs/c4a39e8dc00541d48a68551b52c81e8c.\n",
      "2025/10/19 14:14:55 INFO mlflow.tracking._tracking_service.client: 🧪 View experiment at: https://dagshub.com/Jugal-lachhwani/Data-Capstone-Project.mlflow/#/experiments/1.\n"
     ]
    },
    {
     "name": "stdout",
     "output_type": "stream",
     "text": [
      "2025-10-19 14:14:55,963 - INFO - Vectorizer: TFIDFVectorizer\n",
      "2025-10-19 14:14:56,065 - INFO - Training model: LogisticRegression\n"
     ]
    },
    {
     "name": "stderr",
     "output_type": "stream",
     "text": [
      "2025/10/19 14:15:02 INFO mlflow.tracking._tracking_service.client: 🏃 View run TFIDFVectorizer_LogisticRegression_grid_0 at: https://dagshub.com/Jugal-lachhwani/Data-Capstone-Project.mlflow/#/experiments/1/runs/06fb0f9ed22946b9ad6b160231e5da11.\n",
      "2025/10/19 14:15:02 INFO mlflow.tracking._tracking_service.client: 🧪 View experiment at: https://dagshub.com/Jugal-lachhwani/Data-Capstone-Project.mlflow/#/experiments/1.\n"
     ]
    },
    {
     "name": "stdout",
     "output_type": "stream",
     "text": [
      "2025-10-19 14:15:09,888 - INFO - Best params found: {'C': 1.0}\n"
     ]
    },
    {
     "name": "stderr",
     "output_type": "stream",
     "text": [
      "Downloading artifacts: 100%|██████████| 7/7 [00:05<00:00,  1.34it/s]"
     ]
    },
    {
     "name": "stdout",
     "output_type": "stream",
     "text": [
      "2025-10-19 14:15:34,203 - INFO - TFIDFVectorizer + LogisticRegression -> acc=0.664, f1=0.638\n"
     ]
    },
    {
     "name": "stderr",
     "output_type": "stream",
     "text": [
      "\n",
      "2025/10/19 14:15:34 INFO mlflow.tracking._tracking_service.client: 🏃 View run TFIDFVectorizer_LogisticRegression_grid_1 at: https://dagshub.com/Jugal-lachhwani/Data-Capstone-Project.mlflow/#/experiments/1/runs/9e408e7316fb4860859b783bb612c146.\n",
      "2025/10/19 14:15:34 INFO mlflow.tracking._tracking_service.client: 🧪 View experiment at: https://dagshub.com/Jugal-lachhwani/Data-Capstone-Project.mlflow/#/experiments/1.\n",
      "2025/10/19 14:15:42 INFO mlflow.tracking._tracking_service.client: 🏃 View run TFIDFVectorizer_LogisticRegression_grid_2 at: https://dagshub.com/Jugal-lachhwani/Data-Capstone-Project.mlflow/#/experiments/1/runs/1c913f2abddb41fbb71a11364f76c533.\n",
      "2025/10/19 14:15:42 INFO mlflow.tracking._tracking_service.client: 🧪 View experiment at: https://dagshub.com/Jugal-lachhwani/Data-Capstone-Project.mlflow/#/experiments/1.\n"
     ]
    },
    {
     "name": "stdout",
     "output_type": "stream",
     "text": [
      "2025-10-19 14:15:43,887 - INFO - Training model: RandomForest\n"
     ]
    },
    {
     "name": "stderr",
     "output_type": "stream",
     "text": [
      "2025/10/19 14:15:50 INFO mlflow.tracking._tracking_service.client: 🏃 View run TFIDFVectorizer_RandomForest_grid_0 at: https://dagshub.com/Jugal-lachhwani/Data-Capstone-Project.mlflow/#/experiments/1/runs/354a635576574077a171bbe4604a4361.\n",
      "2025/10/19 14:15:50 INFO mlflow.tracking._tracking_service.client: 🧪 View experiment at: https://dagshub.com/Jugal-lachhwani/Data-Capstone-Project.mlflow/#/experiments/1.\n",
      "2025/10/19 14:15:58 INFO mlflow.tracking._tracking_service.client: 🏃 View run TFIDFVectorizer_RandomForest_grid_1 at: https://dagshub.com/Jugal-lachhwani/Data-Capstone-Project.mlflow/#/experiments/1/runs/c690db40eb214d82b75dfef7a2ea9dff.\n",
      "2025/10/19 14:15:58 INFO mlflow.tracking._tracking_service.client: 🧪 View experiment at: https://dagshub.com/Jugal-lachhwani/Data-Capstone-Project.mlflow/#/experiments/1.\n",
      "2025/10/19 14:16:07 INFO mlflow.tracking._tracking_service.client: 🏃 View run TFIDFVectorizer_RandomForest_grid_2 at: https://dagshub.com/Jugal-lachhwani/Data-Capstone-Project.mlflow/#/experiments/1/runs/f341d0d25a8e4494b7ca65059d99905c.\n",
      "2025/10/19 14:16:07 INFO mlflow.tracking._tracking_service.client: 🧪 View experiment at: https://dagshub.com/Jugal-lachhwani/Data-Capstone-Project.mlflow/#/experiments/1.\n"
     ]
    },
    {
     "name": "stdout",
     "output_type": "stream",
     "text": [
      "2025-10-19 14:16:13,993 - INFO - Best params found: {'max_depth': 10, 'n_estimators': 100}\n"
     ]
    },
    {
     "name": "stderr",
     "output_type": "stream",
     "text": [
      "Downloading artifacts: 100%|██████████| 7/7 [00:02<00:00,  3.44it/s]\n"
     ]
    },
    {
     "name": "stdout",
     "output_type": "stream",
     "text": [
      "2025-10-19 14:16:46,175 - INFO - TFIDFVectorizer + RandomForest -> acc=0.712, f1=0.690\n"
     ]
    },
    {
     "name": "stderr",
     "output_type": "stream",
     "text": [
      "2025/10/19 14:16:46 INFO mlflow.tracking._tracking_service.client: 🏃 View run TFIDFVectorizer_RandomForest_grid_3 at: https://dagshub.com/Jugal-lachhwani/Data-Capstone-Project.mlflow/#/experiments/1/runs/c43023212e9e4f098cf59953a7424e88.\n",
      "2025/10/19 14:16:46 INFO mlflow.tracking._tracking_service.client: 🧪 View experiment at: https://dagshub.com/Jugal-lachhwani/Data-Capstone-Project.mlflow/#/experiments/1.\n",
      "2025/10/19 14:16:47 INFO mlflow.tracking._tracking_service.client: 🏃 View run All_experiments at: https://dagshub.com/Jugal-lachhwani/Data-Capstone-Project.mlflow/#/experiments/1/runs/491ca65cbc8c4d17ac2c7686c0a379ff.\n",
      "2025/10/19 14:16:47 INFO mlflow.tracking._tracking_service.client: 🧪 View experiment at: https://dagshub.com/Jugal-lachhwani/Data-Capstone-Project.mlflow/#/experiments/1.\n"
     ]
    },
    {
     "name": "stdout",
     "output_type": "stream",
     "text": [
      "2025-10-19 14:16:47,784 - INFO - ✅ All models and parameters logged to MLflow successfully!\n"
     ]
    },
    {
     "data": {
      "image/png": "[encoded data removed]",
      "text/plain": [
       "<Figure size 400x300 with 2 Axes>"
      ]
     },
     "metadata": {},
     "output_type": "display_data"
    },
    {
     "data": {
      "image/png": "[encoded data removed]",
      "text/plain": [
       "<Figure size 400x300 with 2 Axes>"
      ]
     },
     "metadata": {},
     "output_type": "display_data"
    },
    {
     "data": {
      "image/png": "[encoded data removed]",
      "text/plain": [
       "<Figure size 400x300 with 2 Axes>"
      ]
     },
     "metadata": {},
     "output_type": "display_data"
    },
    {
     "data": {
      "image/png": "[encoded data removed]",
      "text/plain": [
       "<Figure size 400x300 with 2 Axes>"
      ]
     },
     "metadata": {},
     "output_type": "display_data"
    }
   ],
   "source": [
    "import mlflow\n",
    "import mlflow.sklearn\n",
    "import logging\n",
    "import sys\n",
    "import time\n",
    "import numpy as np\n",
    "import scipy\n",
    "import matplotlib.pyplot as plt\n",
    "import seaborn as sns\n",
    "import pandas as pd\n",
    "\n",
    "from sklearn.model_selection import train_test_split, GridSearchCV\n",
    "from sklearn.linear_model import LogisticRegression\n",
    "from sklearn.ensemble import RandomForestClassifier\n",
    "from sklearn.metrics import accuracy_score, precision_score, recall_score, f1_score, confusion_matrix, classification_report\n",
    "from sklearn.feature_extraction.text import CountVectorizer, TfidfVectorizer\n",
    "\n",
    "# --- Logging setup ---\n",
    "for h in logging.root.handlers[:]:\n",
    "    logging.root.removeHandler(h)\n",
    "logging.basicConfig(\n",
    "    level=logging.INFO,\n",
    "    format=\"%(asctime)s - %(levelname)s - %(message)s\",\n",
    "    handlers=[logging.StreamHandler(sys.stdout)],\n",
    "    force=True\n",
    ")\n",
    "\n",
    "X_train, X_test, y_train, y_test = train_test_split(X, y, test_size=0.25, random_state=42)\n",
    "\n",
    "# --- Define preprocessing methods ---\n",
    "vectorizers = {\n",
    "    \"CountVectorizer\": CountVectorizer(max_features=100),\n",
    "    \"TFIDFVectorizer\": TfidfVectorizer(max_features=100)\n",
    "}\n",
    "\n",
    "# --- Define models and hyperparameters ---\n",
    "models = {\n",
    "    \"LogisticRegression\": {\n",
    "        \"estimator\": LogisticRegression(max_iter=1000, random_state=42),\n",
    "        \"param_grid\": {\"C\": [0.1, 1.0, 10.0]}\n",
    "    },\n",
    "    \"RandomForest\": {\n",
    "        \"estimator\": RandomForestClassifier(random_state=42),\n",
    "        \"param_grid\": {\"n_estimators\": [50, 100], \"max_depth\": [None, 10]}\n",
    "    }\n",
    "    \n",
    "}\n",
    "\n",
    "\n",
    "# --- Loop through all combinations ---\n",
    "with mlflow.start_run(run_name='All_experiments') as parent_run:\n",
    "    \n",
    "    for vec_name, vec in vectorizers.items():\n",
    "        logging.info(f\"Vectorizer: {vec_name}\")\n",
    "\n",
    "        X_train_vec = vec.fit_transform(X_train)\n",
    "        X_test_vec = vec.transform(X_test)\n",
    "\n",
    "        for model_name, model_info in models.items():\n",
    "            logging.info(f\"Training model: {model_name}\")\n",
    "\n",
    "            # --- Train GridSearchCV ---\n",
    "            grid = GridSearchCV(\n",
    "                estimator=model_info[\"estimator\"],\n",
    "                param_grid=model_info[\"param_grid\"],\n",
    "                cv=3,\n",
    "                n_jobs=-1,\n",
    "                verbose=0,\n",
    "                return_train_score=True\n",
    "            )\n",
    "            grid.fit(X_train_vec, y_train)\n",
    "\n",
    "            # --- Log each parameter combination ---\n",
    "            for i, params in enumerate(grid.cv_results_[\"params\"]):\n",
    "                with mlflow.start_run(run_name=f\"{vec_name}_{model_name}_grid_{i}\", nested=True) as child_run:\n",
    "                    # Log params and CV scores\n",
    "                    mlflow.log_param(\"vectorizer\", vec_name)\n",
    "                    mlflow.log_param(\"model\", model_name)\n",
    "                    mlflow.log_params(params)\n",
    "\n",
    "                    mlflow.log_metric(\"mean_test_score\", grid.cv_results_[\"mean_test_score\"][i])\n",
    "                    mlflow.log_metric(\"mean_train_score\", grid.cv_results_[\"mean_train_score\"][i])\n",
    "\n",
    "                    # If this is the best params, log full model, metrics, etc.\n",
    "                    if params == grid.best_params_:\n",
    "                        logging.info(f\"Best params found: {params}\")\n",
    "                        \n",
    "                        mlflow.set_tag(\"best_model\", \"True\")\n",
    "                        \n",
    "                        best_model = grid.best_estimator_\n",
    "\n",
    "                        y_pred = best_model.predict(X_test_vec)\n",
    "\n",
    "                        acc = accuracy_score(y_test, y_pred)\n",
    "                        prec = precision_score(y_test, y_pred)\n",
    "                        rec = recall_score(y_test, y_pred)\n",
    "                        f1 = f1_score(y_test, y_pred)\n",
    "\n",
    "                        mlflow.log_metrics({\n",
    "                            \"accuracy\": acc,\n",
    "                            \"precision\": prec,\n",
    "                            \"recall\": rec,\n",
    "                            \"f1\": f1\n",
    "                        })\n",
    "\n",
    "                        # Log classification report\n",
    "                        report = classification_report(y_test, y_pred, output_dict=True)\n",
    "                        mlflow.log_dict(report, \"classification_report.json\")\n",
    "\n",
    "                        # Log confusion matrix\n",
    "                        conf = confusion_matrix(y_test, y_pred)\n",
    "                        mlflow.log_dict({\"confusion_matrix\": conf.tolist()}, \"confusion_matrix.json\")\n",
    "\n",
    "                        # Log confusion matrix plot\n",
    "                        plt.figure(figsize=(4,3))\n",
    "                        sns.heatmap(conf, annot=True, fmt=\"d\", cmap=\"Blues\")\n",
    "                        plt.xlabel(\"Predicted\")\n",
    "                        plt.ylabel(\"Actual\")\n",
    "                        plt.title(f\"{vec_name} + {model_name}\")\n",
    "                        plt.tight_layout()\n",
    "                        plt.savefig(\"confusion_matrix.png\")\n",
    "                        mlflow.log_artifact(\"confusion_matrix.png\")\n",
    "\n",
    "                        # Log model\n",
    "                        input_example = (\n",
    "                            X_test_vec[:5].toarray() if scipy.sparse.issparse(X_test_vec)\n",
    "                            else X_test_vec[:5]\n",
    "                        )\n",
    "                        mlflow.sklearn.log_model(best_model, \"best_model\", input_example=input_example)\n",
    "\n",
    "                        logging.info(f\"{vec_name} + {model_name} -> acc={acc:.3f}, f1={f1:.3f}\")\n",
    "\n",
    "logging.info(\"✅ All models and parameters logged to MLflow successfully!\")"
   ]
  },
  {
   "cell_type": "code",
   "execution_count": null,
   "id": "131a85c6",
   "metadata": {},
   "outputs": [],
   "source": []
  }
 ],
 "metadata": {
  "kernelspec": {
   "display_name": "simple_env",
   "language": "python",
   "name": "python3"
  },
  "language_info": {
   "codemirror_mode": {
    "name": "ipython",
    "version": 3
   },
   "file_extension": ".py",
   "mimetype": "text/x-python",
   "name": "python",
   "nbconvert_exporter": "python",
   "pygments_lexer": "ipython3",
   "version": "3.11.14"
  }
 },
 "nbformat": 4,
 "nbformat_minor": 5
}
